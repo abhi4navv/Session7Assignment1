{
 "cells": [
  {
   "cell_type": "code",
   "execution_count": 177,
   "metadata": {},
   "outputs": [],
   "source": [
    "import sqlite3\n",
    "import pandas as pd\n",
    "import io\n",
    "import re\n",
    "import ssl\n",
    "from urllib.request import Request,urlopen\n",
    "import requests\n",
    "import json\n",
    "import numpy as np\n",
    "from bs4 import BeautifulSoup"
   ]
  },
  {
   "cell_type": "code",
   "execution_count": 178,
   "metadata": {},
   "outputs": [],
   "source": [
    "ctx = ssl.create_default_context()\n",
    "ctx.check_hostname = False\n",
    "ctx.verify_mode = ssl.CERT_NONE"
   ]
  },
  {
   "cell_type": "code",
   "execution_count": 179,
   "metadata": {},
   "outputs": [],
   "source": [
    "url2='https://archive.ics.uci.edu/ml/machine-learning-databases/adult/adult.names'\n",
    "req=Request(url2,headers={'User-Agent':'Mozila/5.0'})\n",
    "retdt=urlopen(req).read().decode('utf-8')\n",
    "\n"
   ]
  },
  {
   "cell_type": "code",
   "execution_count": 180,
   "metadata": {},
   "outputs": [
    {
     "name": "stdout",
     "output_type": "stream",
     "text": [
      "['age', 'workclass', 'fnlwgt', 'education', 'education-num', 'marital-status', 'occupation', 'relationship', 'race', 'sex', 'capital-gain', 'capital-loss', 'hours-per-week', 'native-country', 'class']\n"
     ]
    }
   ],
   "source": [
    "lst=retdt.replace('\\n','').replace('.',' ').split(\" \")\n",
    "lstcolnames=list()\n",
    "for dt  in lst:   \n",
    "    if(re.search('^[a-z].+:',dt)):\n",
    "         if(re.search('^[a-z].+:[|]',dt) or re.search('^[a-z].+://',dt) or re.search('^[a-z]-[a-z].+:',dt)):\n",
    "                continue\n",
    "         else:\n",
    "                lstcolnames.append(dt.replace(':',''))\n",
    "for dtt in lst:\n",
    "    if(re.search('^>[0-9].+',dtt)):\n",
    "        lstcolnames.append('class')\n",
    "print(lstcolnames)\n",
    "  "
   ]
  },
  {
   "cell_type": "code",
   "execution_count": 181,
   "metadata": {},
   "outputs": [],
   "source": [
    "df=pd.DataFrame()"
   ]
  },
  {
   "cell_type": "code",
   "execution_count": 182,
   "metadata": {},
   "outputs": [],
   "source": [
    "url='https://archive.ics.uci.edu/ml/machine-learning-databases/adult/adult.data'\n",
    "rq=requests.get(url).content\n",
    "df=pd.read_csv(io.StringIO(rq.decode('utf-8')))"
   ]
  },
  {
   "cell_type": "code",
   "execution_count": 183,
   "metadata": {},
   "outputs": [],
   "source": [
    "df.columns=lstcolnames"
   ]
  },
  {
   "cell_type": "code",
   "execution_count": 184,
   "metadata": {},
   "outputs": [
    {
     "data": {
      "text/html": [
       "<div>\n",
       "<style scoped>\n",
       "    .dataframe tbody tr th:only-of-type {\n",
       "        vertical-align: middle;\n",
       "    }\n",
       "\n",
       "    .dataframe tbody tr th {\n",
       "        vertical-align: top;\n",
       "    }\n",
       "\n",
       "    .dataframe thead th {\n",
       "        text-align: right;\n",
       "    }\n",
       "</style>\n",
       "<table border=\"1\" class=\"dataframe\">\n",
       "  <thead>\n",
       "    <tr style=\"text-align: right;\">\n",
       "      <th></th>\n",
       "      <th>age</th>\n",
       "      <th>workclass</th>\n",
       "      <th>fnlwgt</th>\n",
       "      <th>education</th>\n",
       "      <th>education-num</th>\n",
       "      <th>marital-status</th>\n",
       "      <th>occupation</th>\n",
       "      <th>relationship</th>\n",
       "      <th>race</th>\n",
       "      <th>sex</th>\n",
       "      <th>capital-gain</th>\n",
       "      <th>capital-loss</th>\n",
       "      <th>hours-per-week</th>\n",
       "      <th>native-country</th>\n",
       "      <th>class</th>\n",
       "    </tr>\n",
       "  </thead>\n",
       "  <tbody>\n",
       "    <tr>\n",
       "      <th>0</th>\n",
       "      <td>50</td>\n",
       "      <td>Self-emp-not-inc</td>\n",
       "      <td>83311</td>\n",
       "      <td>Bachelors</td>\n",
       "      <td>13</td>\n",
       "      <td>Married-civ-spouse</td>\n",
       "      <td>Exec-managerial</td>\n",
       "      <td>Husband</td>\n",
       "      <td>White</td>\n",
       "      <td>Male</td>\n",
       "      <td>0</td>\n",
       "      <td>0</td>\n",
       "      <td>13</td>\n",
       "      <td>United-States</td>\n",
       "      <td>&lt;=50K</td>\n",
       "    </tr>\n",
       "    <tr>\n",
       "      <th>1</th>\n",
       "      <td>38</td>\n",
       "      <td>Private</td>\n",
       "      <td>215646</td>\n",
       "      <td>HS-grad</td>\n",
       "      <td>9</td>\n",
       "      <td>Divorced</td>\n",
       "      <td>Handlers-cleaners</td>\n",
       "      <td>Not-in-family</td>\n",
       "      <td>White</td>\n",
       "      <td>Male</td>\n",
       "      <td>0</td>\n",
       "      <td>0</td>\n",
       "      <td>40</td>\n",
       "      <td>United-States</td>\n",
       "      <td>&lt;=50K</td>\n",
       "    </tr>\n",
       "    <tr>\n",
       "      <th>2</th>\n",
       "      <td>53</td>\n",
       "      <td>Private</td>\n",
       "      <td>234721</td>\n",
       "      <td>11th</td>\n",
       "      <td>7</td>\n",
       "      <td>Married-civ-spouse</td>\n",
       "      <td>Handlers-cleaners</td>\n",
       "      <td>Husband</td>\n",
       "      <td>Black</td>\n",
       "      <td>Male</td>\n",
       "      <td>0</td>\n",
       "      <td>0</td>\n",
       "      <td>40</td>\n",
       "      <td>United-States</td>\n",
       "      <td>&lt;=50K</td>\n",
       "    </tr>\n",
       "    <tr>\n",
       "      <th>3</th>\n",
       "      <td>28</td>\n",
       "      <td>Private</td>\n",
       "      <td>338409</td>\n",
       "      <td>Bachelors</td>\n",
       "      <td>13</td>\n",
       "      <td>Married-civ-spouse</td>\n",
       "      <td>Prof-specialty</td>\n",
       "      <td>Wife</td>\n",
       "      <td>Black</td>\n",
       "      <td>Female</td>\n",
       "      <td>0</td>\n",
       "      <td>0</td>\n",
       "      <td>40</td>\n",
       "      <td>Cuba</td>\n",
       "      <td>&lt;=50K</td>\n",
       "    </tr>\n",
       "    <tr>\n",
       "      <th>4</th>\n",
       "      <td>37</td>\n",
       "      <td>Private</td>\n",
       "      <td>284582</td>\n",
       "      <td>Masters</td>\n",
       "      <td>14</td>\n",
       "      <td>Married-civ-spouse</td>\n",
       "      <td>Exec-managerial</td>\n",
       "      <td>Wife</td>\n",
       "      <td>White</td>\n",
       "      <td>Female</td>\n",
       "      <td>0</td>\n",
       "      <td>0</td>\n",
       "      <td>40</td>\n",
       "      <td>United-States</td>\n",
       "      <td>&lt;=50K</td>\n",
       "    </tr>\n",
       "  </tbody>\n",
       "</table>\n",
       "</div>"
      ],
      "text/plain": [
       "   age          workclass  fnlwgt   education  education-num  \\\n",
       "0   50   Self-emp-not-inc   83311   Bachelors             13   \n",
       "1   38            Private  215646     HS-grad              9   \n",
       "2   53            Private  234721        11th              7   \n",
       "3   28            Private  338409   Bachelors             13   \n",
       "4   37            Private  284582     Masters             14   \n",
       "\n",
       "        marital-status          occupation    relationship    race      sex  \\\n",
       "0   Married-civ-spouse     Exec-managerial         Husband   White     Male   \n",
       "1             Divorced   Handlers-cleaners   Not-in-family   White     Male   \n",
       "2   Married-civ-spouse   Handlers-cleaners         Husband   Black     Male   \n",
       "3   Married-civ-spouse      Prof-specialty            Wife   Black   Female   \n",
       "4   Married-civ-spouse     Exec-managerial            Wife   White   Female   \n",
       "\n",
       "   capital-gain  capital-loss  hours-per-week  native-country   class  \n",
       "0             0             0              13   United-States   <=50K  \n",
       "1             0             0              40   United-States   <=50K  \n",
       "2             0             0              40   United-States   <=50K  \n",
       "3             0             0              40            Cuba   <=50K  \n",
       "4             0             0              40   United-States   <=50K  "
      ]
     },
     "execution_count": 184,
     "metadata": {},
     "output_type": "execute_result"
    }
   ],
   "source": [
    "df.head()\n"
   ]
  },
  {
   "cell_type": "code",
   "execution_count": 185,
   "metadata": {},
   "outputs": [],
   "source": [
    "con=sqlite3.connect('sqladb.sqlite')"
   ]
  },
  {
   "cell_type": "code",
   "execution_count": 186,
   "metadata": {},
   "outputs": [
    {
     "data": {
      "text/plain": [
       "' Private'"
      ]
     },
     "execution_count": 186,
     "metadata": {},
     "output_type": "execute_result"
    }
   ],
   "source": [
    "df.iloc[1,1]"
   ]
  },
  {
   "cell_type": "code",
   "execution_count": 187,
   "metadata": {},
   "outputs": [],
   "source": [
    "cur=con.cursor()"
   ]
  },
  {
   "cell_type": "code",
   "execution_count": 188,
   "metadata": {},
   "outputs": [
    {
     "data": {
      "text/plain": [
       "<sqlite3.Cursor at 0x29a56a93110>"
      ]
     },
     "execution_count": 188,
     "metadata": {},
     "output_type": "execute_result"
    }
   ],
   "source": [
    "cur.execute('DROP TABLE IF EXISTS AdultData')"
   ]
  },
  {
   "cell_type": "code",
   "execution_count": 189,
   "metadata": {},
   "outputs": [
    {
     "data": {
      "text/plain": [
       "<sqlite3.Cursor at 0x29a56a93110>"
      ]
     },
     "execution_count": 189,
     "metadata": {},
     "output_type": "execute_result"
    }
   ],
   "source": [
    "cur.execute('CREATE TABLE AdultData (age INT, workclass TEXT, fnlwgt INT, education TEXT, education_num INT , marital_status TEXT, occupation TEXT, relationship TEXT, race TEXT, sex TEXT, capital_gain INT, capital_loss INT, hours_per_week INT, native_country TEXT, class TEXT)')"
   ]
  },
  {
   "cell_type": "code",
   "execution_count": 190,
   "metadata": {},
   "outputs": [],
   "source": [
    "for i in range(len(df.index)):\n",
    "    cur.execute('''INSERT INTO AdultData(age, workclass, fnlwgt,education,education_num,marital_status,occupation,relationship,race,sex,capital_gain,capital_loss,\n",
    "    hours_per_week,native_country,class) \n",
    "    VALUES (?,?,?,?,?,?,?,?,?,?,?,?,?,?,?)''', \n",
    "    (int(df.loc[i]['age']),df.loc[i]['workclass'],int(df.loc[i]['fnlwgt']),df.loc[i]['education'],\n",
    "     int(df.loc[i]['education-num']),df.loc[i]['marital-status'],df.loc[i]['occupation'],df.loc[i]['relationship'],\n",
    "     df.loc[i]['race'],df.loc[i]['sex'],int(df.loc[i]['capital-gain']),int(df.loc[i]['capital-loss']),\n",
    "     int(df.loc[i]['hours-per-week']),df.loc[i]['native-country'],df.loc[i]['class']))\n",
    "con.commit()"
   ]
  },
  {
   "cell_type": "code",
   "execution_count": 191,
   "metadata": {},
   "outputs": [],
   "source": [
    "sqlstr='SELECT * FROM AdultData LIMIT 10'"
   ]
  },
  {
   "cell_type": "code",
   "execution_count": 192,
   "metadata": {},
   "outputs": [
    {
     "name": "stdout",
     "output_type": "stream",
     "text": [
      "50  Self-emp-not-inc 83311  Bachelors 13  Married-civ-spouse  Exec-managerial  Husband  White  Male 0 0 13  United-States  <=50K\n",
      "38  Private 215646  HS-grad 9  Divorced  Handlers-cleaners  Not-in-family  White  Male 0 0 40  United-States  <=50K\n",
      "53  Private 234721  11th 7  Married-civ-spouse  Handlers-cleaners  Husband  Black  Male 0 0 40  United-States  <=50K\n",
      "28  Private 338409  Bachelors 13  Married-civ-spouse  Prof-specialty  Wife  Black  Female 0 0 40  Cuba  <=50K\n",
      "37  Private 284582  Masters 14  Married-civ-spouse  Exec-managerial  Wife  White  Female 0 0 40  United-States  <=50K\n",
      "49  Private 160187  9th 5  Married-spouse-absent  Other-service  Not-in-family  Black  Female 0 0 16  Jamaica  <=50K\n",
      "52  Self-emp-not-inc 209642  HS-grad 9  Married-civ-spouse  Exec-managerial  Husband  White  Male 0 0 45  United-States  >50K\n",
      "31  Private 45781  Masters 14  Never-married  Prof-specialty  Not-in-family  White  Female 14084 0 50  United-States  >50K\n",
      "42  Private 159449  Bachelors 13  Married-civ-spouse  Exec-managerial  Husband  White  Male 5178 0 40  United-States  >50K\n",
      "37  Private 280464  Some-college 10  Married-civ-spouse  Exec-managerial  Husband  Black  Male 0 0 80  United-States  >50K\n"
     ]
    }
   ],
   "source": [
    "cur.execute(sqlstr)\n",
    "rows=cur.fetchall()\n",
    "for row in rows:\n",
    "    print(row[0],row[1],row[2],row[3],row[4],row[5],row[6],row[7],row[8],row[9],row[10],row[11],row[12],row[13],row[14])"
   ]
  },
  {
   "cell_type": "code",
   "execution_count": 193,
   "metadata": {},
   "outputs": [
    {
     "data": {
      "text/plain": [
       "40.267095523440254"
      ]
     },
     "execution_count": 193,
     "metadata": {},
     "output_type": "execute_result"
    }
   ],
   "source": [
    "sqlstr1=\"SELECT avg(hours_per_week) FROM AdultData WHERE workclass like '%Private' \"\n",
    "cur.execute(sqlstr1)\n",
    "avg=cur.fetchone()\n",
    "avg[0]"
   ]
  },
  {
   "cell_type": "code",
   "execution_count": 194,
   "metadata": {},
   "outputs": [
    {
     "name": "stdout",
     "output_type": "stream",
     "text": [
      " 10th 933\n",
      " 11th 1175\n",
      " 12th 433\n",
      " 1st-4th 168\n",
      " 5th-6th 333\n",
      " 7th-8th 646\n",
      " 9th 514\n",
      " Assoc-acdm 1067\n",
      " Assoc-voc 1382\n",
      " Bachelors 5354\n",
      " Doctorate 413\n",
      " HS-grad 10501\n",
      " Masters 1723\n",
      " Preschool 51\n",
      " Prof-school 576\n",
      " Some-college 7291\n"
     ]
    }
   ],
   "source": [
    "Frequency=pd.Series()\n",
    "Education=pd.Series()\n",
    "dfedu=pd.DataFrame()\n",
    "#dfedu.columns=['Frequence','Education']\n",
    "sqlstr2=\"SELECT education,COUNT(education) AS Frequency  FROM AdultData GROUP BY education \"\n",
    "cur.execute(sqlstr2)\n",
    "fred=cur.fetchall()\n",
    "lstdt=list()\n",
    "lstedu=list()\n",
    "for vl in fred:\n",
    "    print(vl[0],vl[1])\n",
    "#np\n",
    "#dfedu.transpose()\n",
    "#dfedu.head()\n",
    "#dfedu.append(pd.Series(lstedu),ignore_index=True)\n",
    "    \n",
    "#dfedu.columns=['Fequency','Education']"
   ]
  },
  {
   "cell_type": "code",
   "execution_count": 195,
   "metadata": {},
   "outputs": [
    {
     "name": "stdout",
     "output_type": "stream",
     "text": [
      "Unknown 1843\n",
      " Adm-clerical 3769\n",
      " Armed-Forces 9\n",
      " Craft-repair 4099\n",
      " Exec-managerial 4066\n",
      " Farming-fishing 994\n",
      " Handlers-cleaners 1370\n",
      " Machine-op-inspct 2002\n",
      " Other-service 3295\n",
      " Priv-house-serv 149\n",
      " Prof-specialty 4140\n",
      " Protective-serv 649\n",
      " Sales 3650\n",
      " Tech-support 928\n",
      " Transport-moving 1597\n"
     ]
    }
   ],
   "source": [
    "sqlstr3='SELECT occupation,COUNT(occupation) as FreqOccup FROM AdultData GROUP BY occupation '\n",
    "cur.execute(sqlstr3)\n",
    "freoc=cur.fetchall()\n",
    "for fq in freoc:\n",
    "    if str(fq[0])==' ?':\n",
    "        Occup='Unknown'\n",
    "    else:\n",
    "        Occup=fq[0]\n",
    "    print(Occup,fq[1])"
   ]
  },
  {
   "cell_type": "code",
   "execution_count": 196,
   "metadata": {},
   "outputs": [
    {
     "name": "stdout",
     "output_type": "stream",
     "text": [
      "Unknown 1597\n",
      " Adm-clerical 1597\n",
      " Armed-Forces 1597\n",
      " Craft-repair 1597\n",
      " Exec-managerial 1597\n",
      " Farming-fishing 1597\n",
      " Handlers-cleaners 1597\n",
      " Machine-op-inspct 1597\n",
      " Other-service 1597\n",
      " Priv-house-serv 1597\n",
      " Prof-specialty 1597\n",
      " Protective-serv 1597\n",
      " Sales 1597\n",
      " Tech-support 1597\n",
      " Transport-moving 1597\n"
     ]
    }
   ],
   "source": [
    "sqlstr4='SELECT relationship,COUNT(relationship) FROM AdultData GROUP BY relationship'\n",
    "cur.execute(sqlstr3)\n",
    "fqrel=cur.fetchall()\n",
    "for fq2 in fqrel:\n",
    "    if fq2[0]==' ?':\n",
    "        rel='Unknown'\n",
    "    else:\n",
    "        rel=fq2[0]\n",
    "    print(rel,fq[1])"
   ]
  },
  {
   "cell_type": "code",
   "execution_count": 197,
   "metadata": {},
   "outputs": [
    {
     "name": "stdout",
     "output_type": "stream",
     "text": [
      "(37, ' Private', 284582, ' Masters', 14, ' Married-civ-spouse', ' Exec-managerial', ' Wife', ' White', ' Female', 0, 0, 40, ' United-States', ' <=50K')\n",
      "(33, ' Private', 202051, ' Masters', 14, ' Married-civ-spouse', ' Prof-specialty', ' Husband', ' White', ' Male', 0, 0, 50, ' United-States', ' <=50K')\n",
      "(76, ' Private', 124191, ' Masters', 14, ' Married-civ-spouse', ' Exec-managerial', ' Husband', ' White', ' Male', 0, 0, 40, ' United-States', ' >50K')\n",
      "(31, ' Private', 99928, ' Masters', 14, ' Married-civ-spouse', ' Prof-specialty', ' Wife', ' White', ' Female', 0, 0, 50, ' United-States', ' <=50K')\n",
      "(35, ' Private', 138992, ' Masters', 14, ' Married-civ-spouse', ' Prof-specialty', ' Other-relative', ' White', ' Male', 7298, 0, 40, ' United-States', ' >50K')\n",
      "(34, ' Private', 142897, ' Masters', 14, ' Married-civ-spouse', ' Exec-managerial', ' Husband', ' Asian-Pac-Islander', ' Male', 7298, 0, 35, ' Taiwan', ' >50K')\n",
      "(62, ' Private', 270092, ' Masters', 14, ' Married-civ-spouse', ' Prof-specialty', ' Husband', ' White', ' Male', 0, 0, 40, ' United-States', ' >50K')\n",
      "(41, ' Private', 445382, ' Masters', 14, ' Married-civ-spouse', ' Exec-managerial', ' Husband', ' White', ' Male', 0, 1977, 65, ' United-States', ' >50K')\n",
      "(33, ' Private', 208405, ' Masters', 14, ' Married-civ-spouse', ' Prof-specialty', ' Husband', ' White', ' Male', 0, 0, 50, ' United-States', ' >50K')\n",
      "(49, ' Private', 192776, ' Masters', 14, ' Married-civ-spouse', ' Exec-managerial', ' Husband', ' White', ' Male', 0, 1977, 45, ' United-States', ' >50K')\n",
      "(51, ' Private', 410114, ' Masters', 14, ' Married-civ-spouse', ' Craft-repair', ' Husband', ' White', ' Male', 0, 0, 40, ' United-States', ' >50K')\n",
      "(31, ' Private', 118710, ' Masters', 14, ' Married-civ-spouse', ' Tech-support', ' Husband', ' White', ' Male', 0, 1902, 40, ' United-States', ' >50K')\n",
      "(34, ' Private', 73585, ' Masters', 14, ' Married-civ-spouse', ' Prof-specialty', ' Husband', ' White', ' Male', 0, 0, 40, ' ?', ' <=50K')\n",
      "(40, ' Private', 170108, ' Masters', 14, ' Married-civ-spouse', ' Prof-specialty', ' Husband', ' White', ' Male', 0, 0, 40, ' United-States', ' <=50K')\n",
      "(43, ' Private', 158926, ' Masters', 14, ' Married-civ-spouse', ' Prof-specialty', ' Wife', ' Asian-Pac-Islander', ' Female', 0, 0, 50, ' South', ' <=50K')\n",
      "(51, ' Private', 138022, ' Masters', 14, ' Married-civ-spouse', ' Exec-managerial', ' Husband', ' White', ' Male', 0, 0, 60, ' United-States', ' >50K')\n",
      "(43, ' Private', 227065, ' Masters', 14, ' Married-civ-spouse', ' Exec-managerial', ' Husband', ' White', ' Male', 0, 0, 43, ' United-States', ' >50K')\n",
      "(38, ' Private', 173208, ' Masters', 14, ' Married-civ-spouse', ' Prof-specialty', ' Husband', ' White', ' Male', 0, 0, 25, ' United-States', ' <=50K')\n",
      "(33, ' Private', 354573, ' Masters', 14, ' Married-civ-spouse', ' Prof-specialty', ' Husband', ' White', ' Male', 15024, 0, 44, ' United-States', ' >50K')\n",
      "(25, ' Private', 404616, ' Masters', 14, ' Married-civ-spouse', ' Farming-fishing', ' Not-in-family', ' White', ' Male', 0, 0, 99, ' United-States', ' >50K')\n",
      "(59, ' Private', 151616, ' Masters', 14, ' Married-civ-spouse', ' Prof-specialty', ' Husband', ' White', ' Male', 0, 0, 55, ' United-States', ' <=50K')\n",
      "(38, ' Private', 22245, ' Masters', 14, ' Married-civ-spouse', ' Transport-moving', ' Husband', ' White', ' Male', 0, 0, 72, ' ?', ' >50K')\n",
      "(46, ' Private', 279661, ' Masters', 14, ' Married-civ-spouse', ' Prof-specialty', ' Husband', ' Black', ' Male', 0, 0, 35, ' United-States', ' <=50K')\n",
      "(57, ' Private', 89392, ' Masters', 14, ' Married-spouse-absent', ' Prof-specialty', ' Not-in-family', ' White', ' Female', 0, 0, 40, ' United-States', ' <=50K')\n",
      "(65, ' Private', 198766, ' Masters', 14, ' Married-civ-spouse', ' Sales', ' Husband', ' White', ' Male', 20051, 0, 40, ' United-States', ' >50K')\n",
      "(55, ' Private', 98361, ' Masters', 14, ' Married-civ-spouse', ' Prof-specialty', ' Husband', ' White', ' Male', 15024, 0, 50, ' ?', ' >50K')\n",
      "(45, ' Private', 46406, ' Masters', 14, ' Married-civ-spouse', ' Prof-specialty', ' Husband', ' White', ' Male', 0, 0, 36, ' England', ' >50K')\n",
      "(48, ' Private', 126754, ' Masters', 14, ' Married-civ-spouse', ' Prof-specialty', ' Husband', ' White', ' Male', 15024, 0, 40, ' United-States', ' >50K')\n",
      "(54, ' Private', 177927, ' Masters', 14, ' Married-civ-spouse', ' Prof-specialty', ' Husband', ' White', ' Male', 0, 0, 60, ' United-States', ' <=50K')\n",
      "(43, ' Private', 201723, ' Masters', 14, ' Married-civ-spouse', ' Exec-managerial', ' Husband', ' White', ' Male', 0, 1902, 40, ' United-States', ' >50K')\n",
      "(41, ' Private', 233955, ' Masters', 14, ' Married-civ-spouse', ' Prof-specialty', ' Husband', ' Asian-Pac-Islander', ' Male', 0, 0, 45, ' China', ' >50K')\n",
      "(49, ' Private', 186078, ' Masters', 14, ' Married-civ-spouse', ' Prof-specialty', ' Wife', ' White', ' Female', 0, 0, 50, ' United-States', ' >50K')\n",
      "(39, ' Private', 79331, ' Masters', 14, ' Married-civ-spouse', ' Exec-managerial', ' Husband', ' Asian-Pac-Islander', ' Male', 15024, 0, 40, ' United-States', ' >50K')\n",
      "(58, ' Private', 312131, ' Masters', 14, ' Married-civ-spouse', ' Sales', ' Husband', ' White', ' Male', 0, 0, 40, ' United-States', ' <=50K')\n",
      "(34, ' Private', 192002, ' Masters', 14, ' Married-civ-spouse', ' Prof-specialty', ' Husband', ' White', ' Male', 0, 0, 55, ' United-States', ' >50K')\n",
      "(38, ' Private', 119741, ' Masters', 14, ' Married-civ-spouse', ' Craft-repair', ' Husband', ' Black', ' Male', 0, 0, 40, ' United-States', ' >50K')\n",
      "(37, ' Private', 329980, ' Masters', 14, ' Married-civ-spouse', ' Exec-managerial', ' Husband', ' White', ' Male', 0, 2415, 60, ' United-States', ' >50K')\n",
      "(40, ' Private', 102606, ' Masters', 14, ' Married-civ-spouse', ' Exec-managerial', ' Husband', ' White', ' Male', 0, 0, 40, ' United-States', ' >50K')\n",
      "(50, ' Private', 147629, ' Masters', 14, ' Married-civ-spouse', ' Prof-specialty', ' Husband', ' White', ' Male', 15024, 0, 45, ' United-States', ' >50K')\n",
      "(39, ' Private', 505119, ' Masters', 14, ' Married-civ-spouse', ' Exec-managerial', ' Husband', ' White', ' Male', 0, 0, 40, ' Cuba', ' >50K')\n",
      "(37, ' Private', 49115, ' Masters', 14, ' Married-civ-spouse', ' Exec-managerial', ' Husband', ' White', ' Male', 0, 0, 60, ' United-States', ' >50K')\n",
      "(44, ' Private', 146659, ' Masters', 14, ' Married-civ-spouse', ' Prof-specialty', ' Husband', ' White', ' Male', 0, 1887, 35, ' United-States', ' >50K')\n",
      "(45, ' Private', 142287, ' Masters', 14, ' Married-civ-spouse', ' Exec-managerial', ' Husband', ' White', ' Male', 0, 0, 50, ' United-States', ' >50K')\n",
      "(29, ' Private', 241431, ' Masters', 14, ' Married-civ-spouse', ' Sales', ' Husband', ' White', ' Male', 7298, 0, 40, ' United-States', ' >50K')\n",
      "(41, ' Private', 116379, ' Masters', 14, ' Married-civ-spouse', ' Prof-specialty', ' Husband', ' Asian-Pac-Islander', ' Male', 0, 0, 55, ' Taiwan', ' >50K')\n",
      "(36, ' Private', 116358, ' Masters', 14, ' Married-civ-spouse', ' Exec-managerial', ' Husband', ' Asian-Pac-Islander', ' Male', 0, 0, 40, ' Taiwan', ' >50K')\n",
      "(44, ' Private', 198282, ' Masters', 14, ' Married-civ-spouse', ' Exec-managerial', ' Husband', ' White', ' Male', 15024, 0, 40, ' United-States', ' >50K')\n",
      "(43, ' Private', 96102, ' Masters', 14, ' Married-spouse-absent', ' Exec-managerial', ' Not-in-family', ' White', ' Male', 0, 0, 50, ' United-States', ' <=50K')\n",
      "(36, ' Private', 107302, ' Masters', 14, ' Married-civ-spouse', ' Prof-specialty', ' Husband', ' White', ' Male', 0, 0, 60, ' United-States', ' >50K')\n",
      "(47, ' Private', 102308, ' Masters', 14, ' Married-civ-spouse', ' Sales', ' Husband', ' White', ' Male', 0, 0, 40, ' United-States', ' >50K')\n",
      "(26, ' Private', 198163, ' Masters', 14, ' Married-civ-spouse', ' Sales', ' Wife', ' White', ' Female', 0, 0, 40, ' United-States', ' <=50K')\n",
      "(44, ' Private', 178385, ' Masters', 14, ' Married-civ-spouse', ' Exec-managerial', ' Husband', ' Asian-Pac-Islander', ' Male', 0, 0, 48, ' India', ' <=50K')\n",
      "(61, ' Private', 208919, ' Masters', 14, ' Married-civ-spouse', ' Sales', ' Husband', ' White', ' Male', 0, 0, 60, ' United-States', ' >50K')\n",
      "(38, ' Private', 266645, ' Masters', 14, ' Married-civ-spouse', ' Exec-managerial', ' Husband', ' White', ' Male', 0, 0, 60, ' United-States', ' >50K')\n",
      "(55, ' Private', 153484, ' Masters', 14, ' Married-civ-spouse', ' Exec-managerial', ' Husband', ' White', ' Male', 0, 1977, 50, ' United-States', ' >50K')\n",
      "(32, ' Private', 295589, ' Masters', 14, ' Married-civ-spouse', ' Exec-managerial', ' Husband', ' Black', ' Male', 0, 1977, 40, ' United-States', ' >50K')\n",
      "(38, ' Private', 242720, ' Masters', 14, ' Married-civ-spouse', ' Prof-specialty', ' Husband', ' White', ' Male', 0, 0, 35, ' United-States', ' >50K')\n",
      "(54, ' Private', 457237, ' Masters', 14, ' Married-civ-spouse', ' Sales', ' Husband', ' White', ' Male', 0, 0, 40, ' United-States', ' <=50K')\n",
      "(39, ' Private', 96452, ' Masters', 14, ' Married-civ-spouse', ' Exec-managerial', ' Husband', ' White', ' Male', 0, 0, 55, ' United-States', ' >50K')\n",
      "(41, ' Private', 113823, ' Masters', 14, ' Married-civ-spouse', ' Prof-specialty', ' Husband', ' White', ' Male', 0, 0, 40, ' England', ' <=50K')\n",
      "(26, ' Private', 139098, ' Masters', 14, ' Married-civ-spouse', ' Prof-specialty', ' Husband', ' White', ' Male', 5013, 0, 40, ' United-States', ' <=50K')\n",
      "(36, ' Private', 165799, ' Masters', 14, ' Married-civ-spouse', ' Sales', ' Husband', ' White', ' Male', 0, 0, 50, ' United-States', ' >50K')\n",
      "(56, ' Private', 192869, ' Masters', 14, ' Married-civ-spouse', ' Craft-repair', ' Husband', ' White', ' Male', 0, 1977, 44, ' United-States', ' >50K')\n",
      "(36, ' Private', 120760, ' Masters', 14, ' Married-civ-spouse', ' Prof-specialty', ' Husband', ' Asian-Pac-Islander', ' Male', 0, 0, 40, ' China', ' <=50K')\n",
      "(43, ' Private', 102025, ' Masters', 14, ' Married-civ-spouse', ' Prof-specialty', ' Husband', ' Other', ' Male', 0, 0, 50, ' United-States', ' <=50K')\n",
      "(38, ' Private', 234901, ' Masters', 14, ' Married-civ-spouse', ' Exec-managerial', ' Husband', ' White', ' Male', 0, 1977, 60, ' United-States', ' >50K')\n",
      "(56, ' Private', 318450, ' Masters', 14, ' Married-civ-spouse', ' Adm-clerical', ' Husband', ' White', ' Male', 0, 0, 80, ' United-States', ' >50K')\n",
      "(40, ' Private', 71738, ' Masters', 14, ' Married-civ-spouse', ' Exec-managerial', ' Husband', ' White', ' Male', 0, 0, 46, ' United-States', ' >50K')\n",
      "(53, ' Private', 201127, ' Masters', 14, ' Married-civ-spouse', ' Exec-managerial', ' Husband', ' White', ' Male', 0, 0, 48, ' United-States', ' >50K')\n",
      "(49, ' Private', 101825, ' Masters', 14, ' Married-civ-spouse', ' Prof-specialty', ' Wife', ' White', ' Female', 0, 1977, 40, ' United-States', ' >50K')\n",
      "(46, ' Private', 324655, ' Masters', 14, ' Married-civ-spouse', ' Tech-support', ' Husband', ' White', ' Male', 0, 1902, 40, ' ?', ' >50K')\n",
      "(53, ' Private', 114758, ' Masters', 14, ' Married-civ-spouse', ' Exec-managerial', ' Husband', ' White', ' Male', 15024, 0, 65, ' United-States', ' >50K')\n",
      "(42, ' Private', 201785, ' Masters', 14, ' Married-civ-spouse', ' Sales', ' Husband', ' White', ' Male', 0, 0, 50, ' United-States', ' >50K')\n",
      "(43, ' Private', 304175, ' Masters', 14, ' Married-civ-spouse', ' Prof-specialty', ' Husband', ' White', ' Male', 0, 0, 50, ' United-States', ' >50K')\n",
      "(49, ' Private', 185041, ' Masters', 14, ' Married-civ-spouse', ' Exec-managerial', ' Husband', ' White', ' Male', 0, 1977, 40, ' United-States', ' >50K')\n",
      "(53, ' Private', 424079, ' Masters', 14, ' Married-civ-spouse', ' Exec-managerial', ' Husband', ' White', ' Male', 15024, 0, 55, ' United-States', ' >50K')\n",
      "(34, ' Private', 299635, ' Masters', 14, ' Married-civ-spouse', ' Exec-managerial', ' Husband', ' White', ' Male', 0, 1902, 50, ' United-States', ' >50K')\n",
      "(42, ' Private', 107762, ' Masters', 14, ' Married-civ-spouse', ' Prof-specialty', ' Husband', ' White', ' Male', 0, 0, 40, ' United-States', ' >50K')\n",
      "(49, ' Private', 65087, ' Masters', 14, ' Married-civ-spouse', ' Exec-managerial', ' Husband', ' White', ' Male', 15024, 0, 50, ' United-States', ' >50K')\n",
      "(37, ' Private', 117381, ' Masters', 14, ' Married-civ-spouse', ' Prof-specialty', ' Husband', ' White', ' Male', 0, 0, 45, ' United-States', ' <=50K')\n",
      "(46, ' Private', 55720, ' Masters', 14, ' Married-civ-spouse', ' Exec-managerial', ' Husband', ' White', ' Male', 0, 0, 45, ' United-States', ' >50K')\n",
      "(55, ' Private', 31905, ' Masters', 14, ' Married-civ-spouse', ' Exec-managerial', ' Husband', ' White', ' Male', 0, 1977, 40, ' United-States', ' >50K')\n",
      "(32, ' Private', 473133, ' Masters', 14, ' Married-civ-spouse', ' Prof-specialty', ' Husband', ' White', ' Male', 0, 0, 40, ' United-States', ' >50K')\n",
      "(39, ' Private', 225544, ' Masters', 14, ' Married-civ-spouse', ' Transport-moving', ' Husband', ' White', ' Male', 0, 0, 40, ' Poland', ' <=50K')\n",
      "(46, ' Private', 265275, ' Masters', 14, ' Married-civ-spouse', ' Prof-specialty', ' Husband', ' White', ' Male', 0, 0, 60, ' United-States', ' <=50K')\n",
      "(47, ' Private', 190139, ' Masters', 14, ' Married-civ-spouse', ' Exec-managerial', ' Husband', ' White', ' Male', 0, 0, 40, ' United-States', ' >50K')\n",
      "(44, ' Private', 116632, ' Masters', 14, ' Married-civ-spouse', ' Exec-managerial', ' Husband', ' White', ' Male', 0, 0, 50, ' United-States', ' >50K')\n",
      "(33, ' Private', 176992, ' Masters', 14, ' Married-civ-spouse', ' Prof-specialty', ' Husband', ' White', ' Male', 0, 0, 40, ' United-States', ' >50K')\n",
      "(44, ' Private', 296728, ' Masters', 14, ' Married-civ-spouse', ' Exec-managerial', ' Husband', ' White', ' Male', 0, 0, 40, ' United-States', ' >50K')\n",
      "(44, ' Private', 112517, ' Masters', 14, ' Married-civ-spouse', ' Tech-support', ' Husband', ' White', ' Male', 0, 0, 20, ' United-States', ' >50K')\n",
      "(29, ' Private', 168479, ' Masters', 14, ' Married-civ-spouse', ' Prof-specialty', ' Husband', ' White', ' Male', 0, 0, 40, ' United-States', ' >50K')\n",
      "(51, ' Private', 146574, ' Masters', 14, ' Married-civ-spouse', ' Exec-managerial', ' Husband', ' White', ' Male', 0, 0, 50, ' United-States', ' >50K')\n",
      "(37, ' Private', 126569, ' Masters', 14, ' Married-civ-spouse', ' Tech-support', ' Husband', ' White', ' Male', 0, 0, 60, ' United-States', ' >50K')\n",
      "(35, ' Private', 112271, ' Masters', 14, ' Married-civ-spouse', ' Adm-clerical', ' Husband', ' White', ' Male', 0, 0, 40, ' United-States', ' <=50K')\n",
      "(49, ' Private', 178749, ' Masters', 14, ' Married-spouse-absent', ' Adm-clerical', ' Unmarried', ' White', ' Female', 0, 0, 40, ' United-States', ' <=50K')\n",
      "(53, ' Private', 106176, ' Masters', 14, ' Married-civ-spouse', ' Sales', ' Husband', ' White', ' Male', 7298, 0, 60, ' United-States', ' >50K')\n",
      "(46, ' Private', 137354, ' Masters', 14, ' Married-civ-spouse', ' Tech-support', ' Husband', ' Asian-Pac-Islander', ' Male', 0, 0, 40, ' Philippines', ' >50K')\n",
      "(35, ' Private', 241126, ' Masters', 14, ' Married-civ-spouse', ' Sales', ' Husband', ' White', ' Male', 0, 0, 40, ' United-States', ' >50K')\n",
      "(35, ' Private', 99357, ' Masters', 14, ' Married-civ-spouse', ' Prof-specialty', ' Wife', ' White', ' Female', 15024, 0, 50, ' United-States', ' >50K')\n",
      "(41, ' Private', 93793, ' Masters', 14, ' Married-civ-spouse', ' Prof-specialty', ' Husband', ' White', ' Male', 0, 0, 38, ' United-States', ' >50K')\n",
      "(50, ' Private', 196193, ' Masters', 14, ' Married-spouse-absent', ' Prof-specialty', ' Other-relative', ' White', ' Male', 0, 0, 60, ' ?', ' <=50K')\n",
      "(66, ' Private', 216856, ' Masters', 14, ' Married-civ-spouse', ' Sales', ' Husband', ' White', ' Male', 0, 0, 50, ' United-States', ' <=50K')\n",
      "(36, ' Private', 261382, ' Masters', 14, ' Married-civ-spouse', ' Sales', ' Husband', ' White', ' Male', 15024, 0, 45, ' United-States', ' >50K')\n",
      "(51, ' Private', 44000, ' Masters', 14, ' Married-civ-spouse', ' Prof-specialty', ' Wife', ' White', ' Female', 99999, 0, 50, ' United-States', ' >50K')\n",
      "(39, ' Private', 91711, ' Masters', 14, ' Married-civ-spouse', ' Exec-managerial', ' Husband', ' White', ' Male', 0, 0, 40, ' United-States', ' >50K')\n",
      "(40, ' Private', 146520, ' Masters', 14, ' Married-civ-spouse', ' Exec-managerial', ' Husband', ' White', ' Male', 0, 0, 40, ' United-States', ' >50K')\n",
      "(67, ' Private', 195161, ' Masters', 14, ' Married-civ-spouse', ' Prof-specialty', ' Husband', ' White', ' Male', 20051, 0, 60, ' United-States', ' >50K')\n",
      "(43, ' Private', 102180, ' Masters', 14, ' Married-civ-spouse', ' Prof-specialty', ' Husband', ' White', ' Male', 0, 0, 40, ' United-States', ' >50K')\n",
      "(39, ' Private', 126675, ' Masters', 14, ' Married-civ-spouse', ' Sales', ' Husband', ' White', ' Male', 0, 0, 50, ' United-States', ' >50K')\n",
      "(64, ' Private', 149044, ' Masters', 14, ' Married-civ-spouse', ' Prof-specialty', ' Husband', ' Asian-Pac-Islander', ' Male', 0, 2057, 60, ' China', ' <=50K')\n",
      "(41, ' Private', 280167, ' Masters', 14, ' Married-civ-spouse', ' Exec-managerial', ' Husband', ' White', ' Male', 15024, 0, 70, ' United-States', ' >50K')\n",
      "(55, ' Private', 163083, ' Masters', 14, ' Married-civ-spouse', ' Prof-specialty', ' Husband', ' White', ' Male', 0, 0, 40, ' United-States', ' >50K')\n",
      "(34, ' Private', 204470, ' Masters', 14, ' Married-civ-spouse', ' Exec-managerial', ' Husband', ' White', ' Male', 0, 0, 50, ' United-States', ' >50K')\n",
      "(39, ' Private', 194404, ' Masters', 14, ' Married-civ-spouse', ' Prof-specialty', ' Husband', ' White', ' Male', 7688, 0, 40, ' United-States', ' >50K')\n",
      "(33, ' Private', 111567, ' Masters', 14, ' Married-civ-spouse', ' Exec-managerial', ' Husband', ' White', ' Male', 0, 1902, 45, ' Germany', ' >50K')\n",
      "(38, ' Private', 314310, ' Masters', 14, ' Married-civ-spouse', ' Prof-specialty', ' Husband', ' White', ' Male', 0, 0, 45, ' United-States', ' <=50K')\n",
      "(37, ' Private', 259785, ' Masters', 14, ' Married-civ-spouse', ' Exec-managerial', ' Husband', ' White', ' Male', 0, 0, 50, ' United-States', ' >50K')\n",
      "(45, ' Private', 127111, ' Masters', 14, ' Married-civ-spouse', ' Prof-specialty', ' Husband', ' White', ' Male', 0, 0, 55, ' United-States', ' >50K')\n",
      "(57, ' Private', 375868, ' Masters', 14, ' Married-civ-spouse', ' Adm-clerical', ' Husband', ' White', ' Male', 0, 0, 40, ' United-States', ' <=50K')\n",
      "(44, ' Private', 104196, ' Masters', 14, ' Married-civ-spouse', ' Prof-specialty', ' Husband', ' White', ' Male', 0, 0, 45, ' United-States', ' >50K')\n",
      "(28, ' Private', 209205, ' Masters', 14, ' Married-civ-spouse', ' Prof-specialty', ' Husband', ' White', ' Male', 0, 0, 45, ' United-States', ' >50K')\n",
      "(30, ' Private', 110643, ' Masters', 14, ' Married-civ-spouse', ' Adm-clerical', ' Husband', ' White', ' Male', 4386, 0, 40, ' United-States', ' >50K')\n",
      "(41, ' Private', 174395, ' Masters', 14, ' Married-civ-spouse', ' Prof-specialty', ' Husband', ' White', ' Male', 0, 0, 40, ' United-States', ' >50K')\n",
      "(42, ' Private', 383493, ' Masters', 14, ' Married-civ-spouse', ' Prof-specialty', ' Husband', ' White', ' Male', 0, 0, 50, ' United-States', ' >50K')\n",
      "(38, ' Private', 241153, ' Masters', 14, ' Married-civ-spouse', ' Exec-managerial', ' Husband', ' White', ' Male', 0, 0, 48, ' United-States', ' >50K')\n",
      "(43, ' Private', 208277, ' Masters', 14, ' Married-civ-spouse', ' Prof-specialty', ' Wife', ' White', ' Female', 0, 0, 45, ' United-States', ' >50K')\n",
      "(44, ' Private', 115323, ' Masters', 14, ' Married-civ-spouse', ' Exec-managerial', ' Husband', ' White', ' Male', 0, 0, 40, ' United-States', ' >50K')\n",
      "(43, ' Private', 188808, ' Masters', 14, ' Married-civ-spouse', ' Exec-managerial', ' Husband', ' White', ' Male', 0, 0, 45, ' United-States', ' >50K')\n",
      "(44, ' Private', 125461, ' Masters', 14, ' Married-civ-spouse', ' Exec-managerial', ' Husband', ' White', ' Male', 0, 0, 35, ' United-States', ' >50K')\n",
      "(57, ' Private', 245193, ' Masters', 14, ' Married-civ-spouse', ' Exec-managerial', ' Husband', ' White', ' Male', 0, 0, 60, ' United-States', ' >50K')\n",
      "(51, ' Private', 182314, ' Masters', 14, ' Married-civ-spouse', ' Tech-support', ' Husband', ' White', ' Male', 0, 0, 40, ' United-States', ' >50K')\n",
      "(35, ' Private', 107302, ' Masters', 14, ' Married-civ-spouse', ' Sales', ' Husband', ' White', ' Male', 0, 0, 40, ' India', ' <=50K')\n",
      "(30, ' Private', 175856, ' Masters', 14, ' Married-civ-spouse', ' Prof-specialty', ' Husband', ' White', ' Male', 0, 0, 38, ' United-States', ' <=50K')\n",
      "(59, ' Private', 75867, ' Masters', 14, ' Married-civ-spouse', ' Prof-specialty', ' Husband', ' White', ' Male', 0, 0, 60, ' United-States', ' <=50K')\n",
      "(34, ' Private', 134737, ' Masters', 14, ' Married-civ-spouse', ' Prof-specialty', ' Husband', ' White', ' Male', 7688, 0, 55, ' United-States', ' >50K')\n",
      "(48, ' Private', 47343, ' Masters', 14, ' Married-civ-spouse', ' Prof-specialty', ' Husband', ' White', ' Male', 0, 0, 40, ' United-States', ' >50K')\n",
      "(33, ' Private', 156192, ' Masters', 14, ' Married-civ-spouse', ' Prof-specialty', ' Husband', ' White', ' Male', 0, 0, 45, ' United-States', ' >50K')\n",
      "(29, ' Private', 216481, ' Masters', 14, ' Married-civ-spouse', ' Exec-managerial', ' Wife', ' White', ' Female', 0, 0, 40, ' United-States', ' >50K')\n",
      "(55, ' Private', 185459, ' Masters', 14, ' Married-civ-spouse', ' Sales', ' Husband', ' White', ' Male', 0, 0, 50, ' United-States', ' >50K')\n",
      "(59, ' Private', 108496, ' Masters', 14, ' Married-civ-spouse', ' Exec-managerial', ' Husband', ' White', ' Male', 0, 0, 45, ' United-States', ' >50K')\n",
      "(39, ' Private', 165215, ' Masters', 14, ' Married-civ-spouse', ' Prof-specialty', ' Wife', ' White', ' Female', 0, 1902, 18, ' United-States', ' >50K')\n",
      "(39, ' Private', 179731, ' Masters', 14, ' Married-civ-spouse', ' Exec-managerial', ' Wife', ' White', ' Female', 0, 2415, 65, ' United-States', ' >50K')\n",
      "(42, ' Private', 356934, ' Masters', 14, ' Married-civ-spouse', ' Exec-managerial', ' Husband', ' White', ' Male', 0, 0, 40, ' United-States', ' >50K')\n",
      "(37, ' Private', 108140, ' Masters', 14, ' Married-civ-spouse', ' Exec-managerial', ' Husband', ' White', ' Male', 15024, 0, 45, ' United-States', ' >50K')\n",
      "(47, ' Private', 586657, ' Masters', 14, ' Married-civ-spouse', ' Exec-managerial', ' Husband', ' White', ' Male', 0, 0, 40, ' Japan', ' >50K')\n",
      "(45, ' Private', 360393, ' Masters', 14, ' Married-civ-spouse', ' Exec-managerial', ' Husband', ' White', ' Male', 0, 1902, 50, ' United-States', ' >50K')\n",
      "(33, ' Private', 196385, ' Masters', 14, ' Married-civ-spouse', ' Prof-specialty', ' Husband', ' White', ' Male', 0, 0, 37, ' United-States', ' >50K')\n",
      "(50, ' Private', 108435, ' Masters', 14, ' Married-civ-spouse', ' Exec-managerial', ' Husband', ' White', ' Male', 99999, 0, 60, ' United-States', ' >50K')\n",
      "(33, ' Private', 394447, ' Masters', 14, ' Married-civ-spouse', ' Prof-specialty', ' Husband', ' White', ' Male', 0, 0, 33, ' United-States', ' >50K')\n",
      "(33, ' Private', 296453, ' Masters', 14, ' Married-civ-spouse', ' Tech-support', ' Husband', ' White', ' Male', 0, 0, 15, ' United-States', ' <=50K')\n",
      "(46, ' Private', 117849, ' Masters', 14, ' Married-civ-spouse', ' Exec-managerial', ' Husband', ' White', ' Male', 0, 0, 55, ' United-States', ' >50K')\n",
      "(48, ' Private', 355978, ' Masters', 14, ' Married-civ-spouse', ' Exec-managerial', ' Husband', ' White', ' Male', 0, 0, 40, ' United-States', ' <=50K')\n",
      "(47, ' Private', 148995, ' Masters', 14, ' Married-civ-spouse', ' Exec-managerial', ' Husband', ' White', ' Male', 0, 0, 65, ' United-States', ' >50K')\n",
      "(59, ' Private', 232672, ' Masters', 14, ' Married-civ-spouse', ' Exec-managerial', ' Husband', ' White', ' Male', 0, 0, 40, ' United-States', ' >50K')\n",
      "(41, ' Private', 101593, ' Masters', 14, ' Married-civ-spouse', ' Exec-managerial', ' Husband', ' White', ' Male', 0, 0, 50, ' United-States', ' >50K')\n",
      "(40, ' Private', 259307, ' Masters', 14, ' Married-civ-spouse', ' Exec-managerial', ' Husband', ' White', ' Male', 0, 0, 50, ' United-States', ' >50K')\n",
      "(37, ' Private', 218490, ' Masters', 14, ' Married-civ-spouse', ' Exec-managerial', ' Husband', ' White', ' Male', 0, 0, 55, ' El-Salvador', ' >50K')\n",
      "(52, ' Private', 108435, ' Masters', 14, ' Married-civ-spouse', ' Exec-managerial', ' Husband', ' White', ' Male', 0, 1902, 50, ' Greece', ' >50K')\n",
      "(49, ' Private', 170871, ' Masters', 14, ' Married-civ-spouse', ' Exec-managerial', ' Husband', ' White', ' Male', 0, 0, 45, ' United-States', ' >50K')\n",
      "(49, ' Private', 180532, ' Masters', 14, ' Married-spouse-absent', ' Prof-specialty', ' Not-in-family', ' White', ' Male', 0, 0, 40, ' United-States', ' <=50K')\n",
      "(46, ' Private', 155489, ' Masters', 14, ' Married-civ-spouse', ' Exec-managerial', ' Husband', ' White', ' Male', 0, 0, 50, ' United-States', ' >50K')\n",
      "(35, ' Private', 308691, ' Masters', 14, ' Married-civ-spouse', ' Machine-op-inspct', ' Husband', ' White', ' Male', 0, 0, 48, ' United-States', ' <=50K')\n",
      "(43, ' Private', 220776, ' Masters', 14, ' Married-civ-spouse', ' Exec-managerial', ' Husband', ' White', ' Male', 0, 0, 35, ' United-States', ' >50K')\n",
      "(45, ' Private', 188950, ' Masters', 14, ' Married-civ-spouse', ' Exec-managerial', ' Husband', ' White', ' Male', 0, 0, 50, ' United-States', ' >50K')\n",
      "(32, ' Private', 191856, ' Masters', 14, ' Married-civ-spouse', ' Sales', ' Wife', ' White', ' Female', 0, 0, 45, ' United-States', ' >50K')\n",
      "(61, ' Private', 119986, ' Masters', 14, ' Married-civ-spouse', ' Prof-specialty', ' Husband', ' White', ' Male', 0, 0, 40, ' ?', ' >50K')\n",
      "(36, ' Private', 269722, ' Masters', 14, ' Married-civ-spouse', ' Other-service', ' Husband', ' White', ' Male', 0, 0, 40, ' United-States', ' <=50K')\n",
      "(36, ' Private', 237943, ' Masters', 14, ' Married-civ-spouse', ' Exec-managerial', ' Husband', ' White', ' Male', 15024, 0, 50, ' United-States', ' >50K')\n",
      "(60, ' Private', 355865, ' Masters', 14, ' Married-civ-spouse', ' Exec-managerial', ' Husband', ' White', ' Male', 0, 0, 50, ' United-States', ' >50K')\n",
      "(54, ' Private', 421561, ' Masters', 14, ' Married-civ-spouse', ' Exec-managerial', ' Husband', ' White', ' Male', 0, 0, 45, ' United-States', ' >50K')\n",
      "(46, ' Private', 178829, ' Masters', 14, ' Married-spouse-absent', ' Exec-managerial', ' Not-in-family', ' White', ' Male', 0, 0, 70, ' United-States', ' >50K')\n",
      "(34, ' Private', 36385, ' Masters', 14, ' Married-civ-spouse', ' Prof-specialty', ' Husband', ' White', ' Male', 0, 0, 45, ' United-States', ' >50K')\n",
      "(49, ' Private', 181363, ' Masters', 14, ' Married-civ-spouse', ' Exec-managerial', ' Husband', ' White', ' Male', 0, 0, 45, ' United-States', ' >50K')\n",
      "(39, ' Private', 204501, ' Masters', 14, ' Married-civ-spouse', ' Exec-managerial', ' Husband', ' White', ' Male', 0, 0, 50, ' United-States', ' >50K')\n",
      "(38, ' Private', 192337, ' Masters', 14, ' Married-civ-spouse', ' Prof-specialty', ' Husband', ' White', ' Male', 0, 0, 40, ' England', ' >50K')\n",
      "(46, ' Private', 139268, ' Masters', 14, ' Married-civ-spouse', ' Exec-managerial', ' Husband', ' White', ' Male', 0, 0, 45, ' United-States', ' >50K')\n",
      "(51, ' Private', 102615, ' Masters', 14, ' Married-civ-spouse', ' Protective-serv', ' Husband', ' White', ' Male', 0, 1977, 40, ' United-States', ' >50K')\n",
      "(51, ' Private', 63424, ' Masters', 14, ' Married-civ-spouse', ' Prof-specialty', ' Wife', ' White', ' Female', 0, 0, 40, ' United-States', ' >50K')\n",
      "(31, ' Private', 188246, ' Masters', 14, ' Married-civ-spouse', ' Prof-specialty', ' Husband', ' White', ' Male', 0, 0, 50, ' United-States', ' <=50K')\n",
      "(40, ' Private', 226902, ' Masters', 14, ' Married-civ-spouse', ' Exec-managerial', ' Husband', ' White', ' Male', 15024, 0, 50, ' United-States', ' >50K')\n",
      "(48, ' Private', 112906, ' Masters', 14, ' Married-civ-spouse', ' Transport-moving', ' Husband', ' White', ' Male', 0, 0, 55, ' United-States', ' >50K')\n",
      "(55, ' Private', 208311, ' Masters', 14, ' Married-civ-spouse', ' Tech-support', ' Husband', ' White', ' Male', 0, 1977, 20, ' United-States', ' >50K')\n",
      "(39, ' Private', 230054, ' Masters', 14, ' Married-civ-spouse', ' Prof-specialty', ' Husband', ' White', ' Male', 0, 0, 50, ' United-States', ' >50K')\n",
      "(34, ' Private', 349169, ' Masters', 14, ' Married-civ-spouse', ' Craft-repair', ' Husband', ' White', ' Male', 0, 0, 40, ' Mexico', ' <=50K')\n",
      "(46, ' Private', 164733, ' Masters', 14, ' Married-civ-spouse', ' Prof-specialty', ' Husband', ' White', ' Male', 0, 0, 41, ' United-States', ' <=50K')\n",
      "(35, ' Private', 92028, ' Masters', 14, ' Married-civ-spouse', ' Exec-managerial', ' Husband', ' White', ' Male', 0, 0, 50, ' United-States', ' >50K')\n",
      "(29, ' Private', 53181, ' Masters', 14, ' Married-civ-spouse', ' Prof-specialty', ' Husband', ' White', ' Male', 0, 0, 55, ' United-States', ' >50K')\n",
      "(46, ' Private', 102771, ' Masters', 14, ' Married-civ-spouse', ' Tech-support', ' Husband', ' White', ' Male', 0, 1977, 40, ' United-States', ' >50K')\n",
      "(66, ' Private', 116468, ' Masters', 14, ' Married-civ-spouse', ' Prof-specialty', ' Husband', ' White', ' Male', 2936, 0, 20, ' United-States', ' <=50K')\n",
      "(54, ' Private', 225599, ' Masters', 14, ' Married-civ-spouse', ' Prof-specialty', ' Husband', ' Asian-Pac-Islander', ' Male', 7298, 0, 40, ' India', ' >50K')\n",
      "(42, ' Private', 280167, ' Masters', 14, ' Married-civ-spouse', ' Prof-specialty', ' Husband', ' White', ' Male', 0, 0, 40, ' United-States', ' >50K')\n",
      "(41, ' Private', 173682, ' Masters', 14, ' Married-civ-spouse', ' Machine-op-inspct', ' Husband', ' White', ' Male', 0, 0, 40, ' United-States', ' <=50K')\n",
      "(45, ' Private', 216932, ' Masters', 14, ' Married-civ-spouse', ' Exec-managerial', ' Husband', ' White', ' Male', 0, 0, 40, ' United-States', ' >50K')\n",
      "(35, ' Private', 86648, ' Masters', 14, ' Married-civ-spouse', ' Prof-specialty', ' Husband', ' White', ' Male', 0, 1977, 45, ' United-States', ' >50K')\n",
      "(46, ' Private', 123053, ' Masters', 14, ' Married-civ-spouse', ' Exec-managerial', ' Husband', ' Asian-Pac-Islander', ' Male', 0, 0, 50, ' Japan', ' >50K')\n",
      "(49, ' Private', 122385, ' Masters', 14, ' Married-civ-spouse', ' Exec-managerial', ' Husband', ' White', ' Male', 0, 0, 40, ' United-States', ' >50K')\n",
      "(35, ' Private', 49020, ' Masters', 14, ' Married-civ-spouse', ' Exec-managerial', ' Husband', ' White', ' Male', 0, 0, 60, ' United-States', ' >50K')\n",
      "(42, ' Private', 173704, ' Masters', 14, ' Married-civ-spouse', ' Prof-specialty', ' Husband', ' White', ' Male', 0, 0, 40, ' United-States', ' <=50K')\n",
      "(39, ' Private', 167140, ' Masters', 14, ' Married-civ-spouse', ' Exec-managerial', ' Husband', ' White', ' Male', 0, 0, 40, ' United-States', ' <=50K')\n",
      "(57, ' Private', 437727, ' Masters', 14, ' Married-civ-spouse', ' Prof-specialty', ' Husband', ' White', ' Male', 0, 1977, 45, ' United-States', ' >50K')\n",
      "(44, ' Private', 120277, ' Masters', 14, ' Married-civ-spouse', ' Exec-managerial', ' Husband', ' White', ' Male', 0, 0, 38, ' United-States', ' >50K')\n",
      "(46, ' Private', 184169, ' Masters', 14, ' Married-civ-spouse', ' Prof-specialty', ' Wife', ' White', ' Female', 7688, 0, 35, ' United-States', ' >50K')\n",
      "(39, ' Private', 77005, ' Masters', 14, ' Married-civ-spouse', ' Prof-specialty', ' Husband', ' White', ' Male', 99999, 0, 40, ' United-States', ' >50K')\n",
      "(34, ' Private', 294064, ' Masters', 14, ' Married-civ-spouse', ' Exec-managerial', ' Husband', ' White', ' Male', 0, 0, 50, ' France', ' <=50K')\n",
      "(48, ' Private', 199058, ' Masters', 14, ' Married-civ-spouse', ' Exec-managerial', ' Husband', ' White', ' Male', 0, 0, 40, ' United-States', ' >50K')\n",
      "(45, ' Private', 129336, ' Masters', 14, ' Married-civ-spouse', ' Adm-clerical', ' Husband', ' White', ' Male', 0, 0, 45, ' United-States', ' >50K')\n",
      "(30, ' Private', 467108, ' Masters', 14, ' Married-civ-spouse', ' Prof-specialty', ' Husband', ' White', ' Male', 0, 0, 44, ' United-States', ' >50K')\n",
      "(33, ' Private', 144949, ' Masters', 14, ' Married-civ-spouse', ' Prof-specialty', ' Husband', ' White', ' Male', 15024, 0, 40, ' United-States', ' >50K')\n",
      "(53, ' Private', 158294, ' Masters', 14, ' Married-civ-spouse', ' Prof-specialty', ' Husband', ' White', ' Male', 7298, 0, 40, ' United-States', ' >50K')\n",
      "(45, ' Private', 199058, ' Masters', 14, ' Married-civ-spouse', ' Exec-managerial', ' Husband', ' White', ' Male', 7298, 0, 50, ' United-States', ' >50K')\n",
      "(46, ' Private', 273629, ' Masters', 14, ' Married-civ-spouse', ' Exec-managerial', ' Husband', ' White', ' Male', 0, 0, 40, ' United-States', ' >50K')\n",
      "(50, ' Private', 160724, ' Masters', 14, ' Married-civ-spouse', ' Exec-managerial', ' Husband', ' Asian-Pac-Islander', ' Male', 7298, 0, 40, ' Philippines', ' >50K')\n",
      "(47, ' Private', 121836, ' Masters', 14, ' Married-civ-spouse', ' Adm-clerical', ' Wife', ' White', ' Female', 7688, 0, 38, ' United-States', ' >50K')\n",
      "(59, ' Private', 333270, ' Masters', 14, ' Married-civ-spouse', ' Craft-repair', ' Wife', ' Asian-Pac-Islander', ' Female', 0, 0, 35, ' Philippines', ' <=50K')\n",
      "(30, ' Private', 340917, ' Masters', 14, ' Married-civ-spouse', ' Exec-managerial', ' Husband', ' White', ' Male', 15024, 0, 60, ' United-States', ' >50K')\n",
      "(46, ' Private', 337050, ' Masters', 14, ' Married-civ-spouse', ' Exec-managerial', ' Husband', ' White', ' Male', 0, 1977, 45, ' United-States', ' >50K')\n",
      "(42, ' Private', 203554, ' Masters', 14, ' Married-civ-spouse', ' Exec-managerial', ' Husband', ' White', ' Male', 0, 0, 60, ' United-States', ' >50K')\n",
      "(48, ' Private', 174386, ' Masters', 14, ' Married-civ-spouse', ' Prof-specialty', ' Husband', ' White', ' Male', 0, 0, 40, ' El-Salvador', ' >50K')\n",
      "(51, ' Private', 169112, ' Masters', 14, ' Married-civ-spouse', ' Sales', ' Husband', ' White', ' Male', 0, 0, 40, ' United-States', ' >50K')\n",
      "(52, ' Private', 74024, ' Masters', 14, ' Married-civ-spouse', ' Prof-specialty', ' Husband', ' White', ' Male', 0, 0, 45, ' United-States', ' >50K')\n",
      "(39, ' Private', 216552, ' Masters', 14, ' Married-civ-spouse', ' Adm-clerical', ' Husband', ' White', ' Male', 0, 0, 40, ' United-States', ' <=50K')\n",
      "(28, ' Private', 204074, ' Masters', 14, ' Married-civ-spouse', ' Prof-specialty', ' Husband', ' White', ' Male', 0, 0, 48, ' United-States', ' <=50K')\n",
      "(41, ' Private', 101593, ' Masters', 14, ' Married-civ-spouse', ' Prof-specialty', ' Husband', ' White', ' Male', 15024, 0, 50, ' United-States', ' >50K')\n",
      "(25, ' Private', 169100, ' Masters', 14, ' Married-civ-spouse', ' Exec-managerial', ' Husband', ' White', ' Male', 0, 0, 40, ' United-States', ' <=50K')\n",
      "(41, ' Private', 177905, ' Masters', 14, ' Married-civ-spouse', ' Prof-specialty', ' Husband', ' White', ' Male', 0, 0, 45, ' United-States', ' >50K')\n",
      "(44, ' Private', 164678, ' Masters', 14, ' Married-civ-spouse', ' Prof-specialty', ' Wife', ' White', ' Female', 0, 0, 45, ' United-States', ' <=50K')\n",
      "(50, ' Private', 150999, ' Masters', 14, ' Married-civ-spouse', ' Prof-specialty', ' Husband', ' White', ' Male', 0, 1977, 40, ' United-States', ' >50K')\n",
      "(46, ' Private', 326857, ' Masters', 14, ' Married-civ-spouse', ' Sales', ' Husband', ' White', ' Male', 0, 2415, 65, ' United-States', ' >50K')\n",
      "(50, ' Private', 205803, ' Masters', 14, ' Married-civ-spouse', ' Sales', ' Husband', ' White', ' Male', 15024, 0, 40, ' United-States', ' >50K')\n",
      "(38, ' Private', 154568, ' Masters', 14, ' Married-civ-spouse', ' Exec-managerial', ' Husband', ' Asian-Pac-Islander', ' Male', 0, 0, 40, ' ?', ' <=50K')\n",
      "(36, ' Private', 192939, ' Masters', 14, ' Married-civ-spouse', ' Prof-specialty', ' Husband', ' White', ' Male', 0, 1977, 60, ' United-States', ' >50K')\n",
      "(24, ' Private', 57711, ' Masters', 14, ' Married-civ-spouse', ' Prof-specialty', ' Wife', ' White', ' Female', 0, 0, 35, ' United-States', ' >50K')\n",
      "(40, ' Private', 160369, ' Masters', 14, ' Married-civ-spouse', ' Exec-managerial', ' Husband', ' White', ' Male', 0, 2415, 45, ' United-States', ' >50K')\n",
      "(44, ' Private', 267717, ' Masters', 14, ' Married-civ-spouse', ' Craft-repair', ' Husband', ' White', ' Male', 15024, 0, 45, ' United-States', ' >50K')\n",
      "(40, ' Private', 173590, ' Masters', 14, ' Married-civ-spouse', ' Exec-managerial', ' Husband', ' White', ' Male', 0, 0, 50, ' United-States', ' >50K')\n",
      "(53, ' Private', 152810, ' Masters', 14, ' Married-civ-spouse', ' Exec-managerial', ' Husband', ' White', ' Male', 0, 1977, 55, ' United-States', ' >50K')\n",
      "(40, ' Private', 180985, ' Masters', 14, ' Married-civ-spouse', ' Exec-managerial', ' Husband', ' White', ' Male', 0, 0, 50, ' United-States', ' >50K')\n",
      "(39, ' Private', 186191, ' Masters', 14, ' Married-civ-spouse', ' Prof-specialty', ' Husband', ' White', ' Male', 0, 1848, 50, ' United-States', ' >50K')\n",
      "(43, ' Private', 150528, ' Masters', 14, ' Married-civ-spouse', ' Prof-specialty', ' Husband', ' White', ' Male', 0, 0, 40, ' United-States', ' >50K')\n",
      "(56, ' Private', 357118, ' Masters', 14, ' Married-civ-spouse', ' Prof-specialty', ' Wife', ' White', ' Female', 0, 0, 40, ' United-States', ' >50K')\n",
      "(64, ' Private', 134378, ' Masters', 14, ' Married-civ-spouse', ' Exec-managerial', ' Husband', ' White', ' Male', 0, 0, 50, ' United-States', ' >50K')\n",
      "(55, ' Private', 197399, ' Masters', 14, ' Married-civ-spouse', ' Exec-managerial', ' Husband', ' White', ' Male', 99999, 0, 55, ' United-States', ' >50K')\n",
      "(56, ' Private', 98361, ' Masters', 14, ' Married-civ-spouse', ' Prof-specialty', ' Husband', ' White', ' Male', 0, 0, 40, ' ?', ' >50K')\n",
      "(38, ' Private', 193815, ' Masters', 14, ' Married-civ-spouse', ' Exec-managerial', ' Husband', ' White', ' Male', 0, 0, 45, ' United-States', ' >50K')\n",
      "(52, ' Private', 127315, ' Masters', 14, ' Married-civ-spouse', ' Prof-specialty', ' Husband', ' White', ' Male', 0, 0, 40, ' United-States', ' >50K')\n",
      "(48, ' Private', 140782, ' Masters', 14, ' Married-civ-spouse', ' Exec-managerial', ' Wife', ' White', ' Female', 0, 1902, 38, ' United-States', ' >50K')\n",
      "(35, ' Private', 200153, ' Masters', 14, ' Married-civ-spouse', ' Exec-managerial', ' Husband', ' White', ' Male', 0, 0, 45, ' United-States', ' >50K')\n",
      "(43, ' Private', 258049, ' Masters', 14, ' Married-civ-spouse', ' Exec-managerial', ' Husband', ' White', ' Male', 7688, 0, 53, ' United-States', ' >50K')\n",
      "(44, ' Private', 106900, ' Masters', 14, ' Married-civ-spouse', ' Prof-specialty', ' Husband', ' White', ' Male', 0, 0, 44, ' United-States', ' >50K')\n",
      "(38, ' Private', 169104, ' Masters', 14, ' Married-civ-spouse', ' Exec-managerial', ' Husband', ' White', ' Male', 0, 0, 60, ' United-States', ' >50K')\n",
      "(31, ' Private', 279015, ' Masters', 14, ' Married-civ-spouse', ' Exec-managerial', ' Husband', ' White', ' Male', 0, 2415, 70, ' Taiwan', ' >50K')\n",
      "(31, ' Private', 156743, ' Masters', 14, ' Married-civ-spouse', ' Sales', ' Husband', ' White', ' Male', 0, 0, 76, ' United-States', ' >50K')\n",
      "(46, ' Private', 144351, ' Masters', 14, ' Married-civ-spouse', ' Prof-specialty', ' Husband', ' White', ' Male', 0, 0, 40, ' United-States', ' >50K')\n",
      "(32, ' Private', 348152, ' Masters', 14, ' Married-civ-spouse', ' Exec-managerial', ' Husband', ' White', ' Male', 0, 0, 40, ' United-States', ' >50K')\n",
      "(51, ' Private', 108435, ' Masters', 14, ' Married-civ-spouse', ' Prof-specialty', ' Husband', ' White', ' Male', 0, 0, 47, ' United-States', ' >50K')\n",
      "(45, ' Private', 101452, ' Masters', 14, ' Married-civ-spouse', ' Exec-managerial', ' Husband', ' White', ' Male', 15024, 0, 60, ' England', ' >50K')\n",
      "(51, ' Private', 338620, ' Masters', 14, ' Married-civ-spouse', ' Exec-managerial', ' Husband', ' White', ' Male', 15024, 0, 60, ' United-States', ' >50K')\n",
      "(43, ' Private', 456236, ' Masters', 14, ' Married-civ-spouse', ' Exec-managerial', ' Husband', ' White', ' Male', 0, 0, 50, ' United-States', ' >50K')\n",
      "(45, ' Private', 189792, ' Masters', 14, ' Married-civ-spouse', ' Sales', ' Husband', ' White', ' Male', 0, 0, 40, ' United-States', ' >50K')\n",
      "(58, ' Private', 115605, ' Masters', 14, ' Married-civ-spouse', ' Prof-specialty', ' Husband', ' White', ' Male', 0, 0, 50, ' United-States', ' >50K')\n",
      "(35, ' Private', 320451, ' Masters', 14, ' Married-civ-spouse', ' Exec-managerial', ' Husband', ' Asian-Pac-Islander', ' Male', 0, 0, 65, ' Hong', ' >50K')\n",
      "(48, ' Private', 109832, ' Masters', 14, ' Married-civ-spouse', ' Prof-specialty', ' Husband', ' White', ' Male', 0, 1902, 40, ' United-States', ' >50K')\n",
      "(32, ' Private', 31740, ' Masters', 14, ' Married-civ-spouse', ' Prof-specialty', ' Husband', ' Asian-Pac-Islander', ' Male', 0, 0, 40, ' India', ' <=50K')\n",
      "(43, ' Private', 196084, ' Masters', 14, ' Married-civ-spouse', ' Prof-specialty', ' Husband', ' White', ' Male', 0, 0, 55, ' United-States', ' <=50K')\n",
      "(25, ' Private', 250038, ' Masters', 14, ' Married-civ-spouse', ' Machine-op-inspct', ' Not-in-family', ' White', ' Male', 0, 0, 40, ' Mexico', ' <=50K')\n",
      "(56, ' Private', 110003, ' Masters', 14, ' Married-civ-spouse', ' Prof-specialty', ' Husband', ' White', ' Male', 0, 0, 40, ' United-States', ' >50K')\n",
      "(59, ' Private', 159724, ' Masters', 14, ' Married-civ-spouse', ' Sales', ' Husband', ' White', ' Male', 7298, 0, 55, ' United-States', ' >50K')\n",
      "(51, ' Private', 145714, ' Masters', 14, ' Married-civ-spouse', ' Exec-managerial', ' Husband', ' White', ' Male', 99999, 0, 50, ' ?', ' >50K')\n",
      "(54, ' Private', 117674, ' Masters', 14, ' Married-civ-spouse', ' Prof-specialty', ' Husband', ' White', ' Male', 0, 0, 40, ' United-States', ' >50K')\n",
      "(42, ' Private', 313945, ' Masters', 14, ' Married-civ-spouse', ' Sales', ' Husband', ' White', ' Male', 0, 0, 40, ' Ecuador', ' <=50K')\n",
      "(36, ' Private', 202662, ' Masters', 14, ' Married-civ-spouse', ' Prof-specialty', ' Husband', ' White', ' Male', 0, 0, 40, ' United-States', ' >50K')\n",
      "(50, ' Private', 220019, ' Masters', 14, ' Married-civ-spouse', ' Prof-specialty', ' Wife', ' White', ' Female', 0, 0, 40, ' United-States', ' <=50K')\n",
      "(47, ' Private', 191411, ' Masters', 14, ' Married-civ-spouse', ' Prof-specialty', ' Husband', ' Asian-Pac-Islander', ' Male', 0, 0, 45, ' India', ' <=50K')\n",
      "(66, ' Private', 192504, ' Masters', 14, ' Married-civ-spouse', ' Sales', ' Husband', ' White', ' Male', 0, 0, 40, ' United-States', ' <=50K')\n",
      "(35, ' Private', 186126, ' Masters', 14, ' Married-civ-spouse', ' Prof-specialty', ' Husband', ' White', ' Male', 0, 0, 38, ' ?', ' <=50K')\n",
      "(51, ' Private', 221672, ' Masters', 14, ' Married-civ-spouse', ' Sales', ' Husband', ' White', ' Male', 15024, 0, 50, ' United-States', ' >50K')\n",
      "(61, ' Private', 160942, ' Masters', 14, ' Married-civ-spouse', ' Sales', ' Husband', ' White', ' Male', 3103, 0, 50, ' United-States', ' <=50K')\n",
      "(44, ' Private', 107584, ' Masters', 14, ' Married-civ-spouse', ' Adm-clerical', ' Husband', ' White', ' Male', 3908, 0, 50, ' United-States', ' <=50K')\n",
      "(33, ' Private', 201988, ' Masters', 14, ' Married-civ-spouse', ' Prof-specialty', ' Husband', ' White', ' Male', 0, 0, 45, ' United-States', ' <=50K')\n",
      "(32, ' Private', 168443, ' Masters', 14, ' Married-civ-spouse', ' Exec-managerial', ' Wife', ' White', ' Female', 0, 0, 40, ' United-States', ' <=50K')\n",
      "(53, ' Private', 254285, ' Masters', 14, ' Married-civ-spouse', ' Prof-specialty', ' Husband', ' White', ' Male', 0, 0, 40, ' United-States', ' >50K')\n",
      "(49, ' Private', 281647, ' Masters', 14, ' Married-civ-spouse', ' Exec-managerial', ' Husband', ' White', ' Male', 0, 0, 45, ' United-States', ' >50K')\n",
      "(37, ' Private', 112497, ' Masters', 14, ' Married-civ-spouse', ' Exec-managerial', ' Husband', ' White', ' Male', 0, 0, 40, ' United-States', ' >50K')\n",
      "(42, ' Private', 384236, ' Masters', 14, ' Married-civ-spouse', ' Prof-specialty', ' Husband', ' White', ' Male', 7688, 0, 40, ' United-States', ' >50K')\n",
      "(43, ' Private', 242968, ' Masters', 14, ' Married-civ-spouse', ' Exec-managerial', ' Husband', ' Asian-Pac-Islander', ' Male', 0, 0, 40, ' India', ' >50K')\n",
      "(69, ' Private', 71489, ' Masters', 14, ' Married-civ-spouse', ' Prof-specialty', ' Husband', ' White', ' Male', 0, 0, 25, ' United-States', ' <=50K')\n",
      "(40, ' Private', 32627, ' Masters', 14, ' Married-civ-spouse', ' Prof-specialty', ' Husband', ' White', ' Male', 0, 0, 60, ' United-States', ' <=50K')\n",
      "(37, ' Private', 221850, ' Masters', 14, ' Married-civ-spouse', ' Exec-managerial', ' Husband', ' White', ' Male', 0, 0, 50, ' Ecuador', ' >50K')\n",
      "(34, ' Private', 342709, ' Masters', 14, ' Married-civ-spouse', ' Exec-managerial', ' Husband', ' White', ' Male', 0, 0, 40, ' United-States', ' <=50K')\n",
      "(54, ' Private', 57758, ' Masters', 14, ' Married-civ-spouse', ' Sales', ' Husband', ' White', ' Male', 0, 0, 68, ' United-States', ' >50K')\n",
      "(50, ' Private', 104501, ' Masters', 14, ' Married-civ-spouse', ' Prof-specialty', ' Husband', ' White', ' Male', 0, 0, 40, ' United-States', ' >50K')\n",
      "(42, ' Private', 145711, ' Masters', 14, ' Married-civ-spouse', ' Prof-specialty', ' Husband', ' White', ' Male', 0, 1902, 50, ' United-States', ' >50K')\n",
      "(31, ' Private', 473133, ' Masters', 14, ' Married-civ-spouse', ' Prof-specialty', ' Husband', ' White', ' Male', 5178, 0, 40, ' United-States', ' >50K')\n",
      "(45, ' Private', 120724, ' Masters', 14, ' Married-civ-spouse', ' Exec-managerial', ' Husband', ' White', ' Male', 4386, 0, 40, ' United-States', ' <=50K')\n",
      "(49, ' Private', 423222, ' Masters', 14, ' Married-civ-spouse', ' Sales', ' Husband', ' White', ' Male', 0, 0, 50, ' United-States', ' >50K')\n",
      "(29, ' Private', 205249, ' Masters', 14, ' Married-civ-spouse', ' Exec-managerial', ' Husband', ' Asian-Pac-Islander', ' Male', 0, 0, 40, ' Japan', ' <=50K')\n",
      "(41, ' Private', 204662, ' Masters', 14, ' Married-civ-spouse', ' Exec-managerial', ' Husband', ' White', ' Male', 0, 0, 45, ' United-States', ' >50K')\n",
      "(44, ' Private', 99651, ' Masters', 14, ' Married-civ-spouse', ' Exec-managerial', ' Husband', ' White', ' Male', 5178, 0, 40, ' United-States', ' >50K')\n",
      "(52, ' Private', 180142, ' Masters', 14, ' Married-civ-spouse', ' Tech-support', ' Husband', ' White', ' Male', 0, 0, 45, ' United-States', ' <=50K')\n",
      "(47, ' Private', 102308, ' Masters', 14, ' Married-civ-spouse', ' Exec-managerial', ' Husband', ' White', ' Male', 99999, 0, 50, ' United-States', ' >50K')\n",
      "(42, ' Private', 141558, ' Masters', 14, ' Married-civ-spouse', ' Prof-specialty', ' Husband', ' White', ' Male', 0, 0, 60, ' United-States', ' <=50K')\n",
      "(48, ' Private', 141511, ' Masters', 14, ' Married-civ-spouse', ' Exec-managerial', ' Husband', ' White', ' Male', 0, 0, 40, ' United-States', ' >50K')\n",
      "(40, ' Private', 221172, ' Masters', 14, ' Married-civ-spouse', ' Exec-managerial', ' Husband', ' White', ' Male', 0, 0, 65, ' United-States', ' >50K')\n",
      "(37, ' Private', 50837, ' Masters', 14, ' Married-civ-spouse', ' Prof-specialty', ' Husband', ' White', ' Male', 0, 0, 45, ' United-States', ' >50K')\n",
      "(38, ' Private', 229700, ' Masters', 14, ' Married-civ-spouse', ' Prof-specialty', ' Husband', ' Black', ' Male', 0, 0, 40, ' United-States', ' >50K')\n",
      "(57, ' Private', 159319, ' Masters', 14, ' Married-civ-spouse', ' Exec-managerial', ' Husband', ' White', ' Male', 0, 0, 50, ' United-States', ' >50K')\n",
      "(39, ' Private', 76417, ' Masters', 14, ' Married-civ-spouse', ' Prof-specialty', ' Husband', ' White', ' Male', 0, 0, 40, ' United-States', ' >50K')\n",
      "(31, ' Private', 183043, ' Masters', 14, ' Married-civ-spouse', ' Exec-managerial', ' Husband', ' White', ' Male', 0, 1977, 48, ' United-States', ' >50K')\n",
      "(45, ' Private', 178341, ' Masters', 14, ' Married-civ-spouse', ' Prof-specialty', ' Husband', ' White', ' Male', 0, 0, 50, ' United-States', ' <=50K')\n",
      "(46, ' Private', 102569, ' Masters', 14, ' Married-civ-spouse', ' Exec-managerial', ' Husband', ' White', ' Male', 15024, 0, 65, ' United-States', ' >50K')\n",
      "(43, ' Private', 102180, ' Masters', 14, ' Married-civ-spouse', ' Exec-managerial', ' Husband', ' White', ' Male', 0, 0, 50, ' United-States', ' >50K')\n",
      "(52, ' Private', 110748, ' Masters', 14, ' Married-civ-spouse', ' Prof-specialty', ' Husband', ' White', ' Male', 0, 0, 50, ' United-States', ' >50K')\n",
      "(52, ' Private', 74660, ' Masters', 14, ' Married-civ-spouse', ' Exec-managerial', ' Husband', ' White', ' Male', 0, 0, 40, ' United-States', ' <=50K')\n",
      "(54, ' Private', 37289, ' Masters', 14, ' Married-civ-spouse', ' Exec-managerial', ' Wife', ' White', ' Female', 0, 0, 55, ' United-States', ' >50K')\n",
      "(27, ' Private', 302406, ' Masters', 14, ' Married-civ-spouse', ' Prof-specialty', ' Husband', ' White', ' Male', 0, 0, 55, ' United-States', ' <=50K')\n",
      "(37, ' Private', 126569, ' Masters', 14, ' Married-civ-spouse', ' Exec-managerial', ' Husband', ' White', ' Male', 0, 1977, 40, ' United-States', ' >50K')\n",
      "(36, ' Private', 280169, ' Masters', 14, ' Married-civ-spouse', ' Exec-managerial', ' Husband', ' White', ' Male', 0, 0, 50, ' United-States', ' >50K')\n",
      "(47, ' Private', 98012, ' Masters', 14, ' Married-civ-spouse', ' Prof-specialty', ' Wife', ' White', ' Female', 7688, 0, 40, ' United-States', ' >50K')\n",
      "(50, ' Private', 237868, ' Masters', 14, ' Married-civ-spouse', ' Exec-managerial', ' Husband', ' White', ' Male', 0, 0, 50, ' United-States', ' >50K')\n",
      "(44, ' Private', 155930, ' Masters', 14, ' Married-civ-spouse', ' Prof-specialty', ' Husband', ' White', ' Male', 7688, 0, 55, ' United-States', ' >50K')\n",
      "(45, ' Private', 266860, ' Masters', 14, ' Married-civ-spouse', ' Exec-managerial', ' Husband', ' White', ' Male', 15024, 0, 50, ' United-States', ' >50K')\n",
      "(40, ' Private', 99604, ' Masters', 14, ' Married-civ-spouse', ' Prof-specialty', ' Wife', ' White', ' Female', 15024, 0, 24, ' United-States', ' >50K')\n",
      "(44, ' Private', 151985, ' Masters', 14, ' Married-civ-spouse', ' Exec-managerial', ' Wife', ' White', ' Female', 0, 0, 24, ' United-States', ' >50K')\n",
      "(67, ' Private', 212705, ' Masters', 14, ' Married-spouse-absent', ' Exec-managerial', ' Not-in-family', ' White', ' Male', 0, 0, 55, ' United-States', ' >50K')\n",
      "(48, ' Private', 148995, ' Masters', 14, ' Married-civ-spouse', ' Prof-specialty', ' Husband', ' White', ' Male', 0, 0, 55, ' United-States', ' >50K')\n",
      "(41, ' Private', 116825, ' Masters', 14, ' Married-civ-spouse', ' Prof-specialty', ' Husband', ' White', ' Male', 0, 0, 55, ' United-States', ' >50K')\n",
      "(51, ' Private', 22211, ' Masters', 14, ' Married-civ-spouse', ' Prof-specialty', ' Husband', ' White', ' Male', 0, 1902, 60, ' United-States', ' >50K')\n",
      "(50, ' Private', 204447, ' Masters', 14, ' Married-civ-spouse', ' Exec-managerial', ' Husband', ' White', ' Male', 15024, 0, 65, ' United-States', ' >50K')\n",
      "(55, ' Private', 208451, ' Masters', 14, ' Married-civ-spouse', ' Exec-managerial', ' Husband', ' White', ' Male', 0, 0, 40, ' United-States', ' >50K')\n",
      "(45, ' Private', 145636, ' Masters', 14, ' Married-civ-spouse', ' Exec-managerial', ' Husband', ' White', ' Male', 0, 1977, 43, ' United-States', ' >50K')\n",
      "(44, ' Private', 60414, ' Masters', 14, ' Married-civ-spouse', ' Exec-managerial', ' Husband', ' White', ' Male', 0, 0, 40, ' United-States', ' >50K')\n",
      "(26, ' Private', 164488, ' Masters', 14, ' Married-civ-spouse', ' Prof-specialty', ' Husband', ' White', ' Male', 0, 1887, 40, ' United-States', ' >50K')\n",
      "(35, ' Private', 224512, ' Masters', 14, ' Married-civ-spouse', ' Sales', ' Husband', ' White', ' Male', 0, 0, 55, ' United-States', ' >50K')\n",
      "(48, ' Private', 185143, ' Masters', 14, ' Married-civ-spouse', ' Exec-managerial', ' Husband', ' White', ' Male', 0, 0, 40, ' United-States', ' <=50K')\n",
      "(36, ' Private', 199439, ' Masters', 14, ' Married-civ-spouse', ' Exec-managerial', ' Husband', ' White', ' Male', 0, 0, 45, ' United-States', ' >50K')\n",
      "(37, ' Private', 202027, ' Masters', 14, ' Married-civ-spouse', ' Adm-clerical', ' Husband', ' White', ' Male', 7688, 0, 50, ' United-States', ' >50K')\n",
      "(40, ' Private', 154374, ' Masters', 14, ' Married-civ-spouse', ' Prof-specialty', ' Husband', ' White', ' Male', 7688, 0, 40, ' United-States', ' >50K')\n",
      "(60, ' Private', 151369, ' Masters', 14, ' Married-civ-spouse', ' Exec-managerial', ' Husband', ' White', ' Male', 0, 0, 60, ' United-States', ' >50K')\n",
      "(44, ' Private', 151089, ' Masters', 14, ' Married-civ-spouse', ' Prof-specialty', ' Husband', ' White', ' Male', 0, 1887, 60, ' United-States', ' >50K')\n",
      "(33, ' Private', 192002, ' Masters', 14, ' Married-civ-spouse', ' Exec-managerial', ' Husband', ' White', ' Male', 7298, 0, 60, ' Canada', ' >50K')\n",
      "(90, ' Private', 206667, ' Masters', 14, ' Married-civ-spouse', ' Prof-specialty', ' Wife', ' White', ' Female', 0, 0, 40, ' United-States', ' >50K')\n",
      "(39, ' Private', 99146, ' Masters', 14, ' Married-civ-spouse', ' Prof-specialty', ' Husband', ' White', ' Male', 0, 0, 40, ' ?', ' >50K')\n",
      "(50, ' Private', 138852, ' Masters', 14, ' Married-civ-spouse', ' Exec-managerial', ' Husband', ' White', ' Male', 15024, 0, 50, ' United-States', ' >50K')\n",
      "(42, ' Private', 172297, ' Masters', 14, ' Married-civ-spouse', ' Adm-clerical', ' Husband', ' White', ' Male', 0, 1902, 40, ' United-States', ' >50K')\n",
      "(50, ' Private', 234373, ' Masters', 14, ' Married-civ-spouse', ' Exec-managerial', ' Wife', ' White', ' Female', 0, 1485, 40, ' United-States', ' <=50K')\n",
      "(27, ' Private', 298635, ' Masters', 14, ' Married-civ-spouse', ' Prof-specialty', ' Husband', ' Asian-Pac-Islander', ' Male', 0, 0, 40, ' Hong', ' >50K')\n",
      "(46, ' Private', 196858, ' Masters', 14, ' Married-civ-spouse', ' Prof-specialty', ' Husband', ' White', ' Male', 0, 0, 35, ' United-States', ' >50K')\n",
      "(42, ' Private', 124692, ' Masters', 14, ' Married-civ-spouse', ' Exec-managerial', ' Husband', ' White', ' Male', 0, 0, 40, ' United-States', ' >50K')\n",
      "(35, ' Private', 185556, ' Masters', 14, ' Married-civ-spouse', ' Prof-specialty', ' Husband', ' White', ' Male', 0, 1887, 40, ' United-States', ' >50K')\n",
      "(30, ' Private', 122889, ' Masters', 14, ' Married-civ-spouse', ' Prof-specialty', ' Husband', ' Asian-Pac-Islander', ' Male', 0, 0, 50, ' India', ' >50K')\n",
      "(29, ' Private', 263005, ' Masters', 14, ' Married-civ-spouse', ' Exec-managerial', ' Husband', ' White', ' Male', 0, 0, 45, ' Germany', ' <=50K')\n",
      "(50, ' Private', 158680, ' Masters', 14, ' Married-civ-spouse', ' Exec-managerial', ' Husband', ' White', ' Male', 0, 0, 50, ' United-States', ' >50K')\n",
      "(47, ' Private', 202812, ' Masters', 14, ' Married-civ-spouse', ' Prof-specialty', ' Husband', ' White', ' Male', 0, 0, 40, ' ?', ' >50K')\n",
      "(28, ' Private', 51461, ' Masters', 14, ' Married-civ-spouse', ' Prof-specialty', ' Husband', ' White', ' Male', 0, 0, 60, ' United-States', ' <=50K')\n",
      "(31, ' Private', 176185, ' Masters', 14, ' Married-civ-spouse', ' Exec-managerial', ' Husband', ' White', ' Male', 0, 0, 60, ' France', ' >50K')\n",
      "(45, ' Private', 154308, ' Masters', 14, ' Married-civ-spouse', ' Exec-managerial', ' Husband', ' Black', ' Male', 0, 0, 40, ' United-States', ' >50K')\n",
      "(39, ' Private', 186183, ' Masters', 14, ' Married-civ-spouse', ' Prof-specialty', ' Husband', ' White', ' Male', 0, 0, 40, ' United-States', ' >50K')\n",
      "(28, ' Private', 319768, ' Masters', 14, ' Married-civ-spouse', ' Sales', ' Husband', ' White', ' Male', 0, 0, 45, ' France', ' >50K')\n",
      "(57, ' Private', 141570, ' Masters', 14, ' Married-civ-spouse', ' Exec-managerial', ' Husband', ' Black', ' Male', 0, 1977, 40, ' United-States', ' >50K')\n",
      "(40, ' Private', 111483, ' Masters', 14, ' Married-civ-spouse', ' Exec-managerial', ' Husband', ' White', ' Male', 0, 0, 50, ' United-States', ' >50K')\n",
      "(43, ' Private', 214781, ' Masters', 14, ' Married-civ-spouse', ' Prof-specialty', ' Husband', ' White', ' Male', 5178, 0, 40, ' United-States', ' >50K')\n",
      "(57, ' Private', 170287, ' Masters', 14, ' Married-civ-spouse', ' Tech-support', ' Husband', ' White', ' Male', 0, 0, 40, ' United-States', ' >50K')\n",
      "(42, ' Private', 169383, ' Masters', 14, ' Married-civ-spouse', ' Prof-specialty', ' Husband', ' White', ' Male', 0, 0, 40, ' United-States', ' >50K')\n",
      "(31, ' Private', 189759, ' Masters', 14, ' Married-civ-spouse', ' Sales', ' Husband', ' White', ' Male', 0, 0, 40, ' United-States', ' >50K')\n",
      "(50, ' Private', 168212, ' Masters', 14, ' Married-civ-spouse', ' Craft-repair', ' Husband', ' White', ' Male', 0, 1902, 45, ' United-States', ' >50K')\n",
      "(34, ' Private', 88215, ' Masters', 14, ' Married-civ-spouse', ' Prof-specialty', ' Wife', ' Asian-Pac-Islander', ' Female', 0, 0, 40, ' China', ' >50K')\n",
      "(38, ' Private', 103408, ' Masters', 14, ' Married-civ-spouse', ' Exec-managerial', ' Husband', ' Black', ' Male', 0, 0, 40, ' ?', ' <=50K')\n",
      "(37, ' Private', 340614, ' Masters', 14, ' Married-civ-spouse', ' Prof-specialty', ' Husband', ' White', ' Male', 0, 0, 50, ' United-States', ' >50K')\n",
      "(54, ' Private', 260052, ' Masters', 14, ' Married-civ-spouse', ' Prof-specialty', ' Husband', ' White', ' Male', 0, 0, 40, ' United-States', ' >50K')\n",
      "(36, ' Private', 198841, ' Masters', 14, ' Married-civ-spouse', ' Exec-managerial', ' Husband', ' White', ' Male', 0, 0, 40, ' United-States', ' >50K')\n",
      "(40, ' Private', 51290, ' Masters', 14, ' Married-civ-spouse', ' Prof-specialty', ' Husband', ' White', ' Male', 0, 0, 50, ' United-States', ' >50K')\n",
      "(48, ' Private', 233802, ' Masters', 14, ' Married-civ-spouse', ' Exec-managerial', ' Husband', ' Black', ' Male', 0, 0, 45, ' United-States', ' <=50K')\n",
      "(58, ' Private', 146477, ' Masters', 14, ' Married-civ-spouse', ' Exec-managerial', ' Husband', ' White', ' Male', 15024, 0, 40, ' Greece', ' >50K')\n",
      "(57, ' Private', 191318, ' Masters', 14, ' Married-civ-spouse', ' Prof-specialty', ' Husband', ' White', ' Male', 0, 0, 40, ' United-States', ' >50K')\n",
      "(45, ' Private', 260490, ' Masters', 14, ' Married-civ-spouse', ' Exec-managerial', ' Husband', ' White', ' Male', 0, 0, 50, ' United-States', ' >50K')\n",
      "(53, ' Private', 229465, ' Masters', 14, ' Married-civ-spouse', ' Exec-managerial', ' Husband', ' White', ' Male', 0, 0, 55, ' United-States', ' >50K')\n",
      "(49, ' Private', 155489, ' Masters', 14, ' Married-civ-spouse', ' Prof-specialty', ' Husband', ' White', ' Male', 0, 0, 50, ' United-States', ' >50K')\n",
      "(34, ' Private', 163110, ' Masters', 14, ' Married-civ-spouse', ' Sales', ' Husband', ' White', ' Male', 0, 0, 40, ' United-States', ' <=50K')\n",
      "(50, ' Private', 163948, ' Masters', 14, ' Married-civ-spouse', ' Sales', ' Husband', ' White', ' Male', 0, 0, 40, ' United-States', ' >50K')\n",
      "(49, ' Private', 138370, ' Masters', 14, ' Married-spouse-absent', ' Protective-serv', ' Not-in-family', ' Asian-Pac-Islander', ' Male', 0, 0, 40, ' India', ' <=50K')\n",
      "(41, ' Private', 104892, ' Masters', 14, ' Married-civ-spouse', ' Exec-managerial', ' Husband', ' White', ' Male', 0, 0, 40, ' United-States', ' >50K')\n",
      "(36, ' Private', 126675, ' Masters', 14, ' Married-civ-spouse', ' Prof-specialty', ' Husband', ' White', ' Male', 0, 1977, 50, ' United-States', ' >50K')\n",
      "(42, ' Private', 183241, ' Masters', 14, ' Married-civ-spouse', ' Prof-specialty', ' Wife', ' White', ' Female', 0, 0, 45, ' United-States', ' >50K')\n",
      "(32, ' Private', 53277, ' Masters', 14, ' Married-civ-spouse', ' Exec-managerial', ' Husband', ' White', ' Male', 0, 0, 60, ' United-States', ' >50K')\n",
      "(50, ' Private', 206862, ' Masters', 14, ' Married-civ-spouse', ' Exec-managerial', ' Husband', ' White', ' Male', 0, 0, 65, ' United-States', ' >50K')\n",
      "(44, ' Private', 186916, ' Masters', 14, ' Married-civ-spouse', ' Exec-managerial', ' Husband', ' White', ' Male', 0, 0, 50, ' United-States', ' >50K')\n",
      "(44, ' Private', 104196, ' Masters', 14, ' Married-civ-spouse', ' Exec-managerial', ' Husband', ' White', ' Male', 0, 0, 45, ' United-States', ' >50K')\n",
      "(46, ' Private', 113390, ' Masters', 14, ' Married-civ-spouse', ' Adm-clerical', ' Husband', ' White', ' Male', 0, 1740, 60, ' United-States', ' <=50K')\n",
      "(42, ' Private', 187720, ' Masters', 14, ' Married-civ-spouse', ' Sales', ' Husband', ' White', ' Male', 15024, 0, 50, ' ?', ' >50K')\n",
      "(31, ' Private', 263561, ' Masters', 14, ' Married-civ-spouse', ' Exec-managerial', ' Husband', ' White', ' Male', 0, 0, 40, ' United-States', ' >50K')\n",
      "(54, ' Private', 68985, ' Masters', 14, ' Married-civ-spouse', ' Sales', ' Husband', ' White', ' Male', 0, 0, 55, ' United-States', ' >50K')\n",
      "(47, ' Private', 120781, ' Masters', 14, ' Married-civ-spouse', ' Exec-managerial', ' Husband', ' Asian-Pac-Islander', ' Male', 15024, 0, 40, ' ?', ' >50K')\n",
      "(33, ' Private', 55291, ' Masters', 14, ' Married-civ-spouse', ' Exec-managerial', ' Husband', ' White', ' Male', 0, 0, 40, ' United-States', ' >50K')\n",
      "(57, ' Private', 112840, ' Masters', 14, ' Married-civ-spouse', ' Prof-specialty', ' Husband', ' White', ' Male', 0, 0, 55, ' United-States', ' >50K')\n",
      "(51, ' Private', 162238, ' Masters', 14, ' Married-civ-spouse', ' Exec-managerial', ' Husband', ' White', ' Male', 0, 1887, 47, ' United-States', ' >50K')\n",
      "(68, ' Private', 208478, ' Masters', 14, ' Married-civ-spouse', ' Prof-specialty', ' Husband', ' White', ' Male', 0, 0, 18, ' ?', ' <=50K')\n",
      "(53, ' Private', 123011, ' Masters', 14, ' Married-civ-spouse', ' Exec-managerial', ' Husband', ' White', ' Male', 0, 0, 45, ' United-States', ' >50K')\n",
      "(63, ' Private', 308028, ' Masters', 14, ' Married-civ-spouse', ' Tech-support', ' Husband', ' White', ' Male', 5013, 0, 40, ' United-States', ' <=50K')\n",
      "(38, ' Private', 320451, ' Masters', 14, ' Married-civ-spouse', ' Prof-specialty', ' Husband', ' Asian-Pac-Islander', ' Male', 0, 0, 40, ' ?', ' <=50K')\n",
      "(44, ' Private', 54310, ' Masters', 14, ' Married-civ-spouse', ' Prof-specialty', ' Husband', ' White', ' Male', 7298, 0, 40, ' United-States', ' >50K')\n",
      "(46, ' Private', 197332, ' Masters', 14, ' Married-civ-spouse', ' Prof-specialty', ' Husband', ' White', ' Male', 7688, 0, 46, ' United-States', ' >50K')\n",
      "(45, ' Private', 102308, ' Masters', 14, ' Married-civ-spouse', ' Exec-managerial', ' Husband', ' White', ' Male', 15024, 0, 60, ' United-States', ' >50K')\n",
      "(54, ' Private', 215990, ' Masters', 14, ' Married-civ-spouse', ' Exec-managerial', ' Husband', ' White', ' Male', 0, 1887, 44, ' United-States', ' >50K')\n",
      "(48, ' Private', 287480, ' Masters', 14, ' Married-civ-spouse', ' Tech-support', ' Husband', ' White', ' Male', 0, 0, 40, ' United-States', ' >50K')\n",
      "(39, ' Private', 134367, ' Masters', 14, ' Married-civ-spouse', ' Prof-specialty', ' Wife', ' White', ' Female', 0, 1977, 24, ' United-States', ' >50K')\n",
      "(36, ' Private', 52327, ' Masters', 14, ' Married-civ-spouse', ' Prof-specialty', ' Husband', ' Other', ' Male', 0, 0, 40, ' Iran', ' >50K')\n",
      "(28, ' Private', 192283, ' Masters', 14, ' Married-spouse-absent', ' Sales', ' Not-in-family', ' White', ' Female', 0, 0, 80, ' United-States', ' >50K')\n",
      "(46, ' Private', 110171, ' Masters', 14, ' Married-civ-spouse', ' Prof-specialty', ' Husband', ' White', ' Male', 15024, 0, 50, ' United-States', ' >50K')\n",
      "(45, ' Private', 33794, ' Masters', 14, ' Married-civ-spouse', ' Other-service', ' Husband', ' White', ' Male', 0, 0, 40, ' United-States', ' <=50K')\n",
      "(67, ' Private', 105252, ' Masters', 14, ' Married-civ-spouse', ' Exec-managerial', ' Husband', ' White', ' Male', 0, 0, 40, ' United-States', ' >50K')\n",
      "(54, ' Private', 176240, ' Masters', 14, ' Married-civ-spouse', ' Transport-moving', ' Husband', ' White', ' Male', 7688, 0, 60, ' United-States', ' >50K')\n",
      "(58, ' Private', 170108, ' Masters', 14, ' Married-civ-spouse', ' Exec-managerial', ' Husband', ' White', ' Male', 0, 0, 40, ' United-States', ' >50K')\n",
      "(49, ' Private', 185385, ' Masters', 14, ' Married-civ-spouse', ' Prof-specialty', ' Husband', ' White', ' Male', 0, 0, 50, ' United-States', ' >50K')\n",
      "(51, ' Private', 172046, ' Masters', 14, ' Married-civ-spouse', ' Exec-managerial', ' Husband', ' White', ' Male', 0, 1977, 50, ' United-States', ' >50K')\n",
      "(42, ' Private', 92288, ' Masters', 14, ' Married-civ-spouse', ' Sales', ' Husband', ' Asian-Pac-Islander', ' Male', 0, 0, 40, ' ?', ' <=50K')\n",
      "(28, ' Private', 109001, ' Masters', 14, ' Married-civ-spouse', ' Prof-specialty', ' Husband', ' White', ' Male', 0, 0, 38, ' United-States', ' >50K')\n",
      "(65, ' Private', 344152, ' Masters', 14, ' Married-civ-spouse', ' Prof-specialty', ' Husband', ' White', ' Male', 5556, 0, 50, ' United-States', ' >50K')\n",
      "(60, ' Private', 239576, ' Masters', 14, ' Married-civ-spouse', ' Transport-moving', ' Husband', ' White', ' Male', 0, 0, 10, ' United-States', ' <=50K')\n",
      "(33, ' Private', 594187, ' Masters', 14, ' Married-civ-spouse', ' Prof-specialty', ' Husband', ' White', ' Male', 0, 0, 45, ' United-States', ' >50K')\n",
      "(26, ' Private', 173593, ' Masters', 14, ' Married-civ-spouse', ' Machine-op-inspct', ' Husband', ' White', ' Male', 0, 0, 20, ' Canada', ' <=50K')\n",
      "(34, ' Private', 99872, ' Masters', 14, ' Married-civ-spouse', ' Exec-managerial', ' Husband', ' Asian-Pac-Islander', ' Male', 3103, 0, 40, ' India', ' >50K')\n",
      "(36, ' Private', 145576, ' Masters', 14, ' Married-civ-spouse', ' Adm-clerical', ' Husband', ' White', ' Male', 0, 1977, 40, ' Japan', ' >50K')\n",
      "(31, ' Private', 309620, ' Masters', 14, ' Married-civ-spouse', ' Prof-specialty', ' Husband', ' Asian-Pac-Islander', ' Male', 0, 0, 6, ' South', ' <=50K')\n",
      "(35, ' Private', 119098, ' Masters', 14, ' Married-civ-spouse', ' Exec-managerial', ' Husband', ' White', ' Male', 0, 0, 40, ' United-States', ' <=50K')\n",
      "(43, ' Private', 183273, ' Masters', 14, ' Married-civ-spouse', ' Exec-managerial', ' Wife', ' White', ' Female', 15024, 0, 32, ' United-States', ' >50K')\n",
      "(49, ' Private', 340755, ' Masters', 14, ' Married-civ-spouse', ' Sales', ' Husband', ' White', ' Male', 0, 0, 40, ' United-States', ' >50K')\n",
      "(52, ' Private', 260938, ' Masters', 14, ' Married-civ-spouse', ' Sales', ' Husband', ' White', ' Male', 0, 0, 40, ' United-States', ' <=50K')\n",
      "(49, ' Private', 129513, ' Masters', 14, ' Married-civ-spouse', ' Sales', ' Husband', ' White', ' Male', 0, 0, 45, ' United-States', ' <=50K')\n",
      "(47, ' Private', 102628, ' Masters', 14, ' Married-civ-spouse', ' Exec-managerial', ' Husband', ' White', ' Male', 15024, 0, 55, ' United-States', ' >50K')\n",
      "(63, ' Private', 30813, ' Masters', 14, ' Married-civ-spouse', ' Prof-specialty', ' Husband', ' White', ' Male', 0, 0, 50, ' United-States', ' >50K')\n",
      "(38, ' Private', 300975, ' Masters', 14, ' Married-civ-spouse', ' Other-service', ' Husband', ' Black', ' Male', 0, 1485, 40, ' ?', ' <=50K')\n",
      "(35, ' Private', 160120, ' Masters', 14, ' Married-civ-spouse', ' Exec-managerial', ' Husband', ' Asian-Pac-Islander', ' Male', 0, 0, 50, ' United-States', ' >50K')\n",
      "(51, ' Private', 48343, ' Masters', 14, ' Married-civ-spouse', ' Exec-managerial', ' Husband', ' White', ' Male', 7298, 0, 50, ' United-States', ' >50K')\n",
      "(33, ' Private', 188246, ' Masters', 14, ' Married-civ-spouse', ' Exec-managerial', ' Husband', ' White', ' Male', 7298, 0, 45, ' United-States', ' >50K')\n",
      "(29, ' Private', 162551, ' Masters', 14, ' Married-civ-spouse', ' Prof-specialty', ' Wife', ' Asian-Pac-Islander', ' Female', 0, 0, 40, ' Hong', ' >50K')\n",
      "(41, ' Private', 242089, ' Masters', 14, ' Married-civ-spouse', ' Exec-managerial', ' Husband', ' White', ' Male', 0, 0, 45, ' United-States', ' <=50K')\n",
      "(41, ' Private', 56795, ' Masters', 14, ' Married-civ-spouse', ' Prof-specialty', ' Wife', ' White', ' Female', 0, 0, 45, ' England', ' <=50K')\n",
      "(51, ' Private', 123429, ' Masters', 14, ' Married-civ-spouse', ' Exec-managerial', ' Husband', ' White', ' Male', 0, 0, 50, ' United-States', ' >50K')\n",
      "(39, ' Private', 108140, ' Masters', 14, ' Married-civ-spouse', ' Exec-managerial', ' Husband', ' White', ' Male', 0, 0, 50, ' United-States', ' >50K')\n",
      "(44, ' Private', 165346, ' Masters', 14, ' Married-civ-spouse', ' Exec-managerial', ' Husband', ' White', ' Male', 0, 0, 40, ' United-States', ' >50K')\n",
      "(34, ' Private', 379798, ' Masters', 14, ' Married-civ-spouse', ' Exec-managerial', ' Husband', ' White', ' Male', 0, 0, 40, ' United-States', ' >50K')\n",
      "(38, ' Private', 227945, ' Masters', 14, ' Married-civ-spouse', ' Prof-specialty', ' Husband', ' White', ' Male', 99999, 0, 65, ' United-States', ' >50K')\n",
      "(61, ' Private', 80896, ' Masters', 14, ' Married-civ-spouse', ' Prof-specialty', ' Husband', ' Asian-Pac-Islander', ' Male', 0, 0, 45, ' India', ' >50K')\n",
      "(38, ' Private', 98360, ' Masters', 14, ' Married-civ-spouse', ' Prof-specialty', ' Husband', ' White', ' Male', 0, 0, 40, ' United-States', ' >50K')\n",
      "(48, ' Private', 207277, ' Masters', 14, ' Married-civ-spouse', ' Exec-managerial', ' Husband', ' White', ' Male', 15024, 0, 40, ' United-States', ' >50K')\n",
      "(56, ' Private', 37394, ' Masters', 14, ' Married-civ-spouse', ' Exec-managerial', ' Husband', ' White', ' Male', 0, 0, 40, ' United-States', ' <=50K')\n",
      "(47, ' Private', 181363, ' Masters', 14, ' Married-civ-spouse', ' Prof-specialty', ' Husband', ' White', ' Male', 0, 0, 40, ' United-States', ' >50K')\n",
      "(54, ' Private', 338620, ' Masters', 14, ' Married-civ-spouse', ' Exec-managerial', ' Husband', ' White', ' Male', 0, 0, 52, ' United-States', ' >50K')\n",
      "(68, ' Private', 211287, ' Masters', 14, ' Married-civ-spouse', ' Exec-managerial', ' Husband', ' White', ' Male', 0, 2392, 40, ' United-States', ' >50K')\n",
      "(30, ' Private', 169496, ' Masters', 14, ' Married-civ-spouse', ' Other-service', ' Husband', ' White', ' Male', 0, 0, 15, ' United-States', ' >50K')\n",
      "(53, ' Private', 22978, ' Masters', 14, ' Married-civ-spouse', ' Exec-managerial', ' Wife', ' White', ' Female', 0, 0, 50, ' United-States', ' >50K')\n",
      "(41, ' Private', 211253, ' Masters', 14, ' Married-civ-spouse', ' Exec-managerial', ' Wife', ' White', ' Female', 0, 0, 40, ' United-States', ' >50K')\n",
      "(36, ' Private', 171393, ' Masters', 14, ' Married-civ-spouse', ' Prof-specialty', ' Husband', ' White', ' Male', 7298, 0, 55, ' United-States', ' >50K')\n",
      "(32, ' Private', 209538, ' Masters', 14, ' Married-civ-spouse', ' Exec-managerial', ' Husband', ' White', ' Male', 0, 0, 55, ' United-States', ' >50K')\n",
      "(36, ' Private', 223433, ' Masters', 14, ' Married-civ-spouse', ' Sales', ' Husband', ' White', ' Male', 7688, 0, 50, ' United-States', ' >50K')\n",
      "(54, ' Private', 98436, ' Masters', 14, ' Married-civ-spouse', ' Other-service', ' Husband', ' White', ' Male', 0, 0, 40, ' United-States', ' <=50K')\n",
      "(28, ' Private', 173944, ' Masters', 14, ' Married-civ-spouse', ' Prof-specialty', ' Husband', ' White', ' Male', 0, 0, 40, ' United-States', ' >50K')\n",
      "(46, ' Private', 261059, ' Masters', 14, ' Married-civ-spouse', ' Prof-specialty', ' Husband', ' White', ' Male', 0, 1977, 50, ' United-States', ' >50K')\n",
      "(42, ' Private', 198341, ' Masters', 14, ' Married-civ-spouse', ' Prof-specialty', ' Husband', ' Asian-Pac-Islander', ' Male', 0, 1902, 55, ' India', ' >50K')\n",
      "(53, ' Private', 70387, ' Masters', 14, ' Married-civ-spouse', ' Prof-specialty', ' Husband', ' Asian-Pac-Islander', ' Male', 4386, 0, 40, ' India', ' >50K')\n",
      "(47, ' Private', 158286, ' Masters', 14, ' Married-civ-spouse', ' Exec-managerial', ' Husband', ' White', ' Male', 0, 0, 50, ' United-States', ' >50K')\n",
      "(34, ' Private', 165737, ' Masters', 14, ' Married-civ-spouse', ' Prof-specialty', ' Husband', ' Asian-Pac-Islander', ' Male', 0, 0, 43, ' India', ' >50K')\n",
      "(51, ' Private', 82578, ' Masters', 14, ' Married-civ-spouse', ' Prof-specialty', ' Husband', ' White', ' Male', 0, 0, 38, ' Canada', ' >50K')\n",
      "(63, ' Private', 167967, ' Masters', 14, ' Married-civ-spouse', ' Handlers-cleaners', ' Husband', ' White', ' Male', 0, 0, 46, ' United-States', ' <=50K')\n",
      "(48, ' Private', 148995, ' Masters', 14, ' Married-civ-spouse', ' Exec-managerial', ' Husband', ' White', ' Male', 0, 0, 40, ' United-States', ' >50K')\n",
      "(36, ' Private', 386726, ' Masters', 14, ' Married-civ-spouse', ' Prof-specialty', ' Wife', ' White', ' Female', 0, 1977, 44, ' United-States', ' >50K')\n",
      "(48, ' Private', 254291, ' Masters', 14, ' Married-civ-spouse', ' Prof-specialty', ' Husband', ' White', ' Male', 0, 0, 40, ' United-States', ' >50K')\n",
      "(37, ' Private', 174150, ' Masters', 14, ' Married-civ-spouse', ' Exec-managerial', ' Husband', ' White', ' Male', 0, 0, 40, ' United-States', ' >50K')\n",
      "(48, ' Private', 204629, ' Masters', 14, ' Married-civ-spouse', ' Exec-managerial', ' Husband', ' White', ' Male', 0, 0, 50, ' United-States', ' >50K')\n",
      "(51, ' Private', 123053, ' Masters', 14, ' Married-civ-spouse', ' Prof-specialty', ' Husband', ' Asian-Pac-Islander', ' Male', 5013, 0, 40, ' India', ' <=50K')\n",
      "(61, ' Private', 147280, ' Masters', 14, ' Married-civ-spouse', ' Exec-managerial', ' Husband', ' White', ' Male', 0, 0, 60, ' United-States', ' >50K')\n",
      "(35, ' Private', 206951, ' Masters', 14, ' Married-civ-spouse', ' Sales', ' Husband', ' White', ' Male', 0, 0, 40, ' United-States', ' >50K')\n",
      "(46, ' Private', 268022, ' Masters', 14, ' Married-civ-spouse', ' Exec-managerial', ' Husband', ' White', ' Male', 0, 0, 55, ' ?', ' >50K')\n",
      "(56, ' Private', 282023, ' Masters', 14, ' Married-civ-spouse', ' Prof-specialty', ' Husband', ' White', ' Male', 0, 0, 40, ' United-States', ' >50K')\n",
      "(33, ' Private', 181372, ' Masters', 14, ' Married-civ-spouse', ' Exec-managerial', ' Wife', ' White', ' Female', 0, 0, 50, ' United-States', ' >50K')\n",
      "(54, ' Private', 139850, ' Masters', 14, ' Married-civ-spouse', ' Exec-managerial', ' Husband', ' Asian-Pac-Islander', ' Male', 0, 0, 45, ' United-States', ' >50K')\n",
      "(38, ' Private', 277248, ' Masters', 14, ' Married-civ-spouse', ' Exec-managerial', ' Husband', ' White', ' Male', 0, 0, 60, ' Cuba', ' >50K')\n",
      "(59, ' Private', 81973, ' Masters', 14, ' Married-civ-spouse', ' Exec-managerial', ' Husband', ' Asian-Pac-Islander', ' Male', 0, 0, 40, ' United-States', ' >50K')\n",
      "(33, ' Private', 79923, ' Masters', 14, ' Married-civ-spouse', ' Prof-specialty', ' Husband', ' White', ' Male', 0, 0, 45, ' United-States', ' >50K')\n",
      "(53, ' Private', 285621, ' Masters', 14, ' Married-civ-spouse', ' Adm-clerical', ' Wife', ' White', ' Female', 0, 0, 40, ' United-States', ' >50K')\n",
      "(49, ' Private', 187370, ' Masters', 14, ' Married-civ-spouse', ' Exec-managerial', ' Husband', ' White', ' Male', 15024, 0, 50, ' United-States', ' >50K')\n",
      "(50, ' Private', 22211, ' Masters', 14, ' Married-civ-spouse', ' Prof-specialty', ' Husband', ' White', ' Male', 7688, 0, 50, ' United-States', ' >50K')\n",
      "(47, ' Private', 158451, ' Masters', 14, ' Married-civ-spouse', ' Prof-specialty', ' Wife', ' White', ' Female', 0, 0, 2, ' United-States', ' >50K')\n",
      "(27, ' Private', 115945, ' Masters', 14, ' Married-civ-spouse', ' Exec-managerial', ' Husband', ' White', ' Male', 0, 0, 45, ' United-States', ' >50K')\n",
      "(38, ' Private', 91039, ' Masters', 14, ' Married-civ-spouse', ' Exec-managerial', ' Husband', ' White', ' Male', 0, 0, 65, ' United-States', ' >50K')\n",
      "(55, ' Private', 368797, ' Masters', 14, ' Married-civ-spouse', ' Exec-managerial', ' Husband', ' White', ' Male', 0, 1977, 60, ' United-States', ' >50K')\n",
      "(44, ' Private', 456236, ' Masters', 14, ' Married-civ-spouse', ' Adm-clerical', ' Husband', ' White', ' Male', 0, 0, 40, ' United-States', ' <=50K')\n",
      "(36, ' Private', 218689, ' Masters', 14, ' Married-civ-spouse', ' Sales', ' Husband', ' White', ' Male', 0, 1977, 50, ' United-States', ' >50K')\n",
      "(45, ' Private', 481987, ' Masters', 14, ' Married-civ-spouse', ' Tech-support', ' Husband', ' White', ' Male', 0, 0, 18, ' United-States', ' >50K')\n",
      "(57, ' Private', 49893, ' Masters', 14, ' Married-civ-spouse', ' Prof-specialty', ' Husband', ' White', ' Male', 0, 0, 60, ' United-States', ' >50K')\n",
      "(56, ' Private', 158752, ' Masters', 14, ' Married-civ-spouse', ' Exec-managerial', ' Wife', ' White', ' Female', 0, 0, 50, ' United-States', ' <=50K')\n",
      "(44, ' Private', 147265, ' Masters', 14, ' Married-civ-spouse', ' Prof-specialty', ' Husband', ' White', ' Male', 0, 0, 40, ' United-States', ' >50K')\n",
      "(51, ' Private', 154342, ' Masters', 14, ' Married-civ-spouse', ' Prof-specialty', ' Husband', ' White', ' Male', 7688, 0, 45, ' United-States', ' >50K')\n",
      "(43, ' Private', 214781, ' Masters', 14, ' Married-civ-spouse', ' Exec-managerial', ' Husband', ' White', ' Male', 0, 0, 45, ' United-States', ' <=50K')\n",
      "(59, ' Private', 322691, ' Masters', 14, ' Married-civ-spouse', ' Prof-specialty', ' Husband', ' White', ' Male', 0, 0, 50, ' United-States', ' >50K')\n",
      "(38, ' Private', 108140, ' Masters', 14, ' Married-civ-spouse', ' Prof-specialty', ' Husband', ' White', ' Male', 0, 0, 50, ' United-States', ' >50K')\n",
      "(48, ' Private', 131309, ' Masters', 14, ' Married-civ-spouse', ' Prof-specialty', ' Husband', ' White', ' Male', 0, 0, 45, ' United-States', ' >50K')\n",
      "(49, ' Private', 175622, ' Masters', 14, ' Married-civ-spouse', ' Prof-specialty', ' Husband', ' White', ' Male', 0, 0, 40, ' United-States', ' <=50K')\n",
      "(29, ' Private', 134566, ' Masters', 14, ' Married-civ-spouse', ' Sales', ' Husband', ' White', ' Male', 0, 0, 20, ' United-States', ' <=50K')\n",
      "(47, ' Private', 46044, ' Masters', 14, ' Married-civ-spouse', ' Exec-managerial', ' Husband', ' White', ' Male', 0, 0, 40, ' United-States', ' <=50K')\n",
      "(45, ' Private', 341762, ' Masters', 14, ' Married-civ-spouse', ' Exec-managerial', ' Husband', ' White', ' Male', 0, 0, 65, ' United-States', ' >50K')\n",
      "(39, ' Private', 91367, ' Masters', 14, ' Married-civ-spouse', ' Exec-managerial', ' Husband', ' White', ' Male', 0, 1848, 45, ' United-States', ' >50K')\n",
      "(39, ' Private', 176335, ' Masters', 14, ' Married-civ-spouse', ' Exec-managerial', ' Husband', ' White', ' Male', 7688, 0, 65, ' United-States', ' >50K')\n",
      "(53, ' Private', 110977, ' Masters', 14, ' Married-civ-spouse', ' Exec-managerial', ' Husband', ' White', ' Male', 0, 1902, 50, ' United-States', ' >50K')\n",
      "(67, ' Private', 94610, ' Masters', 14, ' Married-civ-spouse', ' Sales', ' Husband', ' White', ' Male', 0, 0, 30, ' United-States', ' >50K')\n",
      "(38, ' Private', 185848, ' Masters', 14, ' Married-civ-spouse', ' Exec-managerial', ' Husband', ' White', ' Male', 99999, 0, 70, ' United-States', ' >50K')\n",
      "(49, ' Private', 193366, ' Masters', 14, ' Married-civ-spouse', ' Exec-managerial', ' Husband', ' White', ' Male', 0, 0, 65, ' United-States', ' >50K')\n",
      "(26, ' Private', 76491, ' Masters', 14, ' Married-civ-spouse', ' Prof-specialty', ' Husband', ' White', ' Male', 0, 0, 20, ' United-States', ' <=50K')\n",
      "(30, ' Private', 122042, ' Masters', 14, ' Married-civ-spouse', ' Exec-managerial', ' Husband', ' White', ' Male', 0, 0, 45, ' United-States', ' >50K')\n",
      "(60, ' Private', 85995, ' Masters', 14, ' Married-civ-spouse', ' Adm-clerical', ' Husband', ' Asian-Pac-Islander', ' Male', 0, 0, 50, ' South', ' >50K')\n",
      "(23, ' Private', 143003, ' Masters', 14, ' Married-civ-spouse', ' Prof-specialty', ' Husband', ' Asian-Pac-Islander', ' Male', 0, 1887, 50, ' India', ' >50K')\n",
      "(50, ' Private', 201882, ' Masters', 14, ' Married-civ-spouse', ' Machine-op-inspct', ' Husband', ' White', ' Male', 0, 0, 30, ' United-States', ' <=50K')\n",
      "(44, ' Private', 267717, ' Masters', 14, ' Married-civ-spouse', ' Prof-specialty', ' Husband', ' White', ' Male', 0, 0, 42, ' United-States', ' >50K')\n",
      "(30, ' Private', 182771, ' Masters', 14, ' Married-civ-spouse', ' Prof-specialty', ' Husband', ' Asian-Pac-Islander', ' Male', 0, 0, 40, ' United-States', ' >50K')\n",
      "(39, ' Private', 198841, ' Masters', 14, ' Married-civ-spouse', ' Prof-specialty', ' Husband', ' White', ' Male', 7688, 0, 45, ' United-States', ' >50K')\n",
      "(53, ' Private', 53197, ' Masters', 14, ' Married-civ-spouse', ' Prof-specialty', ' Husband', ' White', ' Male', 3103, 0, 40, ' United-States', ' >50K')\n",
      "(55, ' Private', 70088, ' Masters', 14, ' Married-civ-spouse', ' Prof-specialty', ' Husband', ' White', ' Male', 0, 0, 40, ' United-States', ' >50K')\n",
      "(36, ' Private', 199346, ' Masters', 14, ' Married-civ-spouse', ' Prof-specialty', ' Wife', ' White', ' Female', 0, 0, 50, ' United-States', ' >50K')\n",
      "(30, ' Private', 378009, ' Masters', 14, ' Married-civ-spouse', ' Exec-managerial', ' Husband', ' White', ' Male', 0, 0, 50, ' United-States', ' >50K')\n",
      "(35, ' Private', 75855, ' Masters', 14, ' Married-civ-spouse', ' Prof-specialty', ' Husband', ' Black', ' Male', 7298, 0, 40, ' ?', ' >50K')\n",
      "(59, ' Private', 59469, ' Masters', 14, ' Married-civ-spouse', ' Tech-support', ' Husband', ' White', ' Male', 0, 0, 40, ' Iran', ' <=50K')\n",
      "(39, ' Private', 72338, ' Masters', 14, ' Married-civ-spouse', ' Prof-specialty', ' Husband', ' Asian-Pac-Islander', ' Male', 0, 0, 40, ' Philippines', ' >50K')\n",
      "(50, ' Private', 176157, ' Masters', 14, ' Married-civ-spouse', ' Exec-managerial', ' Husband', ' White', ' Male', 0, 0, 50, ' United-States', ' >50K')\n",
      "(30, ' Private', 341051, ' Masters', 14, ' Married-civ-spouse', ' Exec-managerial', ' Husband', ' White', ' Male', 15024, 0, 60, ' United-States', ' >50K')\n",
      "(43, ' Private', 346321, ' Masters', 14, ' Married-civ-spouse', ' Prof-specialty', ' Husband', ' White', ' Male', 0, 0, 45, ' United-States', ' >50K')\n",
      "(47, ' Private', 155664, ' Masters', 14, ' Married-civ-spouse', ' Exec-managerial', ' Husband', ' White', ' Male', 99999, 0, 55, ' United-States', ' >50K')\n",
      "(48, ' Private', 379883, ' Masters', 14, ' Married-civ-spouse', ' Prof-specialty', ' Husband', ' White', ' Male', 0, 0, 40, ' Cuba', ' >50K')\n",
      "(49, ' Private', 123681, ' Masters', 14, ' Married-civ-spouse', ' Prof-specialty', ' Husband', ' White', ' Male', 0, 0, 43, ' United-States', ' >50K')\n",
      "(43, ' Private', 174295, ' Masters', 14, ' Married-civ-spouse', ' Prof-specialty', ' Husband', ' White', ' Male', 0, 0, 55, ' United-States', ' <=50K')\n",
      "(32, ' Private', 313835, ' Masters', 14, ' Married-civ-spouse', ' Prof-specialty', ' Husband', ' White', ' Male', 0, 0, 40, ' United-States', ' >50K')\n",
      "(40, ' Private', 137225, ' Masters', 14, ' Married-civ-spouse', ' Exec-managerial', ' Husband', ' White', ' Male', 0, 0, 40, ' United-States', ' >50K')\n",
      "(25, ' Private', 178025, ' Masters', 14, ' Married-civ-spouse', ' Prof-specialty', ' Husband', ' White', ' Male', 0, 0, 40, ' United-States', ' <=50K')\n",
      "(31, ' Private', 183801, ' Masters', 14, ' Married-civ-spouse', ' Prof-specialty', ' Husband', ' White', ' Male', 0, 1902, 43, ' United-States', ' >50K')\n",
      "(61, ' Private', 232719, ' Masters', 14, ' Married-civ-spouse', ' Prof-specialty', ' Husband', ' White', ' Male', 0, 0, 50, ' United-States', ' <=50K')\n",
      "(41, ' Private', 122215, ' Masters', 14, ' Married-civ-spouse', ' Prof-specialty', ' Husband', ' White', ' Male', 15024, 0, 40, ' United-States', ' >50K')\n",
      "(33, ' Private', 139057, ' Masters', 14, ' Married-civ-spouse', ' Tech-support', ' Husband', ' Asian-Pac-Islander', ' Male', 0, 0, 50, ' United-States', ' >50K')\n",
      "(34, ' Private', 30673, ' Masters', 14, ' Married-civ-spouse', ' Prof-specialty', ' Husband', ' White', ' Male', 0, 0, 55, ' United-States', ' <=50K')\n",
      "(41, ' Private', 201495, ' Masters', 14, ' Married-civ-spouse', ' Exec-managerial', ' Husband', ' White', ' Male', 0, 0, 40, ' United-States', ' >50K')\n",
      "(46, ' Private', 42972, ' Masters', 14, ' Married-civ-spouse', ' Prof-specialty', ' Wife', ' White', ' Female', 0, 0, 22, ' United-States', ' >50K')\n",
      "(53, ' Private', 321865, ' Masters', 14, ' Married-civ-spouse', ' Exec-managerial', ' Husband', ' White', ' Male', 0, 0, 40, ' United-States', ' >50K')\n",
      "There are 540 people who are married, working in private sector and having a masters degree\n"
     ]
    }
   ],
   "source": [
    "sqlstr4=\"SELECT * FROM AdultData WHERE marital_status like ' Married%' and workclass like ' Private%' and  education like ' Masters%'\"\n",
    "cur.execute(sqlstr4)\n",
    "reqdt=cur.fetchall()\n",
    "cnt=0\n",
    "for dt in reqdt:\n",
    "    cnt=cnt+1\n",
    "    print(dt)\n",
    "print('There are {} people who are married, working in private sector and having a masters degree'.format(cnt))\n",
    "\n",
    "    "
   ]
  },
  {
   "cell_type": "code",
   "execution_count": 198,
   "metadata": {},
   "outputs": [
    {
     "name": "stdout",
     "output_type": "stream",
     "text": [
      " Federal-gov 42.590625 17 90\n",
      " Local-gov 41.75107501194458 17 90\n",
      " Never-worked 20.571428571428573 17 30\n",
      " Private 36.797585477617204 17 90\n",
      " Self-emp-inc 46.01702508960574 17 84\n",
      " Self-emp-not-inc 44.96969696969697 17 90\n",
      " State-gov 39.43639167309175 17 81\n"
     ]
    }
   ],
   "source": [
    "sqlstr5=\"SELECT workclass,avg(age) As Average_Age,min(age) As Min_Age,max(age) As Max_Age FROM  AdultData WHERE workclass NOT LIKE ' Without-pay%' GROUP BY workclass\"\n",
    "cur.execute(sqlstr5)\n",
    "reqdt2=cur.fetchall()\n",
    "for dt3 in reqdt2:\n",
    "    if dt3[0]!=' ?':\n",
    "        print(dt3[0],dt3[1],dt3[2],dt3[3])"
   ]
  },
  {
   "cell_type": "code",
   "execution_count": 199,
   "metadata": {},
   "outputs": [
    {
     "data": {
      "text/html": [
       "<div>\n",
       "<style scoped>\n",
       "    .dataframe tbody tr th:only-of-type {\n",
       "        vertical-align: middle;\n",
       "    }\n",
       "\n",
       "    .dataframe tbody tr th {\n",
       "        vertical-align: top;\n",
       "    }\n",
       "\n",
       "    .dataframe thead th {\n",
       "        text-align: right;\n",
       "    }\n",
       "</style>\n",
       "<table border=\"1\" class=\"dataframe\">\n",
       "  <thead>\n",
       "    <tr style=\"text-align: right;\">\n",
       "      <th></th>\n",
       "      <th>age</th>\n",
       "      <th>native_country</th>\n",
       "    </tr>\n",
       "  </thead>\n",
       "  <tbody>\n",
       "    <tr>\n",
       "      <th>0</th>\n",
       "      <td>50</td>\n",
       "      <td>United-States</td>\n",
       "    </tr>\n",
       "    <tr>\n",
       "      <th>1</th>\n",
       "      <td>38</td>\n",
       "      <td>United-States</td>\n",
       "    </tr>\n",
       "    <tr>\n",
       "      <th>2</th>\n",
       "      <td>53</td>\n",
       "      <td>United-States</td>\n",
       "    </tr>\n",
       "    <tr>\n",
       "      <th>3</th>\n",
       "      <td>28</td>\n",
       "      <td>Cuba</td>\n",
       "    </tr>\n",
       "    <tr>\n",
       "      <th>4</th>\n",
       "      <td>37</td>\n",
       "      <td>United-States</td>\n",
       "    </tr>\n",
       "  </tbody>\n",
       "</table>\n",
       "</div>"
      ],
      "text/plain": [
       "   age  native_country\n",
       "0   50   United-States\n",
       "1   38   United-States\n",
       "2   53   United-States\n",
       "3   28            Cuba\n",
       "4   37   United-States"
      ]
     },
     "execution_count": 199,
     "metadata": {},
     "output_type": "execute_result"
    }
   ],
   "source": [
    "dft=pd.DataFrame()\n",
    "sqlstr6=\"SELECT age,native_country FROM AdultData WHERE native_country!=' ?'\"\n",
    "#cur.execute(sqlstr6)\n",
    "#dft=cur.fetchall()\n",
    "dft=pd.read_sql_query(sqlstr6,con)\n",
    "dft.head()\n"
   ]
  },
  {
   "cell_type": "code",
   "execution_count": 200,
   "metadata": {},
   "outputs": [
    {
     "name": "stderr",
     "output_type": "stream",
     "text": [
      "C:\\Users\\abhinav\\Anaconda3\\lib\\site-packages\\pandas\\core\\indexing.py:189: SettingWithCopyWarning: \n",
      "A value is trying to be set on a copy of a slice from a DataFrame\n",
      "\n",
      "See the caveats in the documentation: http://pandas.pydata.org/pandas-docs/stable/indexing.html#indexing-view-versus-copy\n",
      "  self._setitem_with_indexer(indexer, value)\n"
     ]
    },
    {
     "data": {
      "text/html": [
       "<div>\n",
       "<style scoped>\n",
       "    .dataframe tbody tr th:only-of-type {\n",
       "        vertical-align: middle;\n",
       "    }\n",
       "\n",
       "    .dataframe tbody tr th {\n",
       "        vertical-align: top;\n",
       "    }\n",
       "\n",
       "    .dataframe thead th {\n",
       "        text-align: right;\n",
       "    }\n",
       "</style>\n",
       "<table border=\"1\" class=\"dataframe\">\n",
       "  <thead>\n",
       "    <tr style=\"text-align: right;\">\n",
       "      <th></th>\n",
       "      <th>Country</th>\n",
       "      <th>0-15</th>\n",
       "      <th>16-40</th>\n",
       "      <th>41-60</th>\n",
       "      <th>60+</th>\n",
       "    </tr>\n",
       "  </thead>\n",
       "  <tbody>\n",
       "    <tr>\n",
       "      <th>0</th>\n",
       "      <td>United-States</td>\n",
       "      <td>0</td>\n",
       "      <td>17039</td>\n",
       "      <td>9990</td>\n",
       "      <td>0</td>\n",
       "    </tr>\n",
       "    <tr>\n",
       "      <th>1</th>\n",
       "      <td>Cuba</td>\n",
       "      <td>0</td>\n",
       "      <td>38</td>\n",
       "      <td>44</td>\n",
       "      <td>0</td>\n",
       "    </tr>\n",
       "    <tr>\n",
       "      <th>2</th>\n",
       "      <td>Jamaica</td>\n",
       "      <td>0</td>\n",
       "      <td>56</td>\n",
       "      <td>23</td>\n",
       "      <td>0</td>\n",
       "    </tr>\n",
       "    <tr>\n",
       "      <th>3</th>\n",
       "      <td>India</td>\n",
       "      <td>0</td>\n",
       "      <td>57</td>\n",
       "      <td>41</td>\n",
       "      <td>0</td>\n",
       "    </tr>\n",
       "    <tr>\n",
       "      <th>4</th>\n",
       "      <td>Mexico</td>\n",
       "      <td>0</td>\n",
       "      <td>486</td>\n",
       "      <td>147</td>\n",
       "      <td>0</td>\n",
       "    </tr>\n",
       "    <tr>\n",
       "      <th>5</th>\n",
       "      <td>South</td>\n",
       "      <td>0</td>\n",
       "      <td>46</td>\n",
       "      <td>28</td>\n",
       "      <td>0</td>\n",
       "    </tr>\n",
       "    <tr>\n",
       "      <th>6</th>\n",
       "      <td>Puerto-Rico</td>\n",
       "      <td>0</td>\n",
       "      <td>58</td>\n",
       "      <td>49</td>\n",
       "      <td>0</td>\n",
       "    </tr>\n",
       "    <tr>\n",
       "      <th>7</th>\n",
       "      <td>Honduras</td>\n",
       "      <td>0</td>\n",
       "      <td>9</td>\n",
       "      <td>4</td>\n",
       "      <td>0</td>\n",
       "    </tr>\n",
       "    <tr>\n",
       "      <th>8</th>\n",
       "      <td>England</td>\n",
       "      <td>0</td>\n",
       "      <td>47</td>\n",
       "      <td>35</td>\n",
       "      <td>0</td>\n",
       "    </tr>\n",
       "    <tr>\n",
       "      <th>9</th>\n",
       "      <td>Canada</td>\n",
       "      <td>0</td>\n",
       "      <td>60</td>\n",
       "      <td>43</td>\n",
       "      <td>0</td>\n",
       "    </tr>\n",
       "    <tr>\n",
       "      <th>10</th>\n",
       "      <td>Germany</td>\n",
       "      <td>0</td>\n",
       "      <td>79</td>\n",
       "      <td>48</td>\n",
       "      <td>0</td>\n",
       "    </tr>\n",
       "    <tr>\n",
       "      <th>11</th>\n",
       "      <td>Iran</td>\n",
       "      <td>0</td>\n",
       "      <td>27</td>\n",
       "      <td>14</td>\n",
       "      <td>0</td>\n",
       "    </tr>\n",
       "    <tr>\n",
       "      <th>12</th>\n",
       "      <td>Philippines</td>\n",
       "      <td>0</td>\n",
       "      <td>118</td>\n",
       "      <td>66</td>\n",
       "      <td>0</td>\n",
       "    </tr>\n",
       "    <tr>\n",
       "      <th>13</th>\n",
       "      <td>Italy</td>\n",
       "      <td>0</td>\n",
       "      <td>23</td>\n",
       "      <td>40</td>\n",
       "      <td>0</td>\n",
       "    </tr>\n",
       "    <tr>\n",
       "      <th>14</th>\n",
       "      <td>Poland</td>\n",
       "      <td>0</td>\n",
       "      <td>29</td>\n",
       "      <td>25</td>\n",
       "      <td>0</td>\n",
       "    </tr>\n",
       "    <tr>\n",
       "      <th>15</th>\n",
       "      <td>Columbia</td>\n",
       "      <td>0</td>\n",
       "      <td>33</td>\n",
       "      <td>22</td>\n",
       "      <td>0</td>\n",
       "    </tr>\n",
       "    <tr>\n",
       "      <th>16</th>\n",
       "      <td>Cambodia</td>\n",
       "      <td>0</td>\n",
       "      <td>13</td>\n",
       "      <td>5</td>\n",
       "      <td>0</td>\n",
       "    </tr>\n",
       "    <tr>\n",
       "      <th>17</th>\n",
       "      <td>Thailand</td>\n",
       "      <td>0</td>\n",
       "      <td>11</td>\n",
       "      <td>7</td>\n",
       "      <td>0</td>\n",
       "    </tr>\n",
       "    <tr>\n",
       "      <th>18</th>\n",
       "      <td>Ecuador</td>\n",
       "      <td>0</td>\n",
       "      <td>19</td>\n",
       "      <td>7</td>\n",
       "      <td>0</td>\n",
       "    </tr>\n",
       "    <tr>\n",
       "      <th>19</th>\n",
       "      <td>Laos</td>\n",
       "      <td>0</td>\n",
       "      <td>12</td>\n",
       "      <td>6</td>\n",
       "      <td>0</td>\n",
       "    </tr>\n",
       "    <tr>\n",
       "      <th>20</th>\n",
       "      <td>Taiwan</td>\n",
       "      <td>0</td>\n",
       "      <td>38</td>\n",
       "      <td>12</td>\n",
       "      <td>0</td>\n",
       "    </tr>\n",
       "    <tr>\n",
       "      <th>21</th>\n",
       "      <td>Haiti</td>\n",
       "      <td>0</td>\n",
       "      <td>24</td>\n",
       "      <td>19</td>\n",
       "      <td>0</td>\n",
       "    </tr>\n",
       "    <tr>\n",
       "      <th>22</th>\n",
       "      <td>Portugal</td>\n",
       "      <td>0</td>\n",
       "      <td>21</td>\n",
       "      <td>13</td>\n",
       "      <td>0</td>\n",
       "    </tr>\n",
       "    <tr>\n",
       "      <th>23</th>\n",
       "      <td>Dominican-Republic</td>\n",
       "      <td>0</td>\n",
       "      <td>41</td>\n",
       "      <td>27</td>\n",
       "      <td>0</td>\n",
       "    </tr>\n",
       "    <tr>\n",
       "      <th>24</th>\n",
       "      <td>El-Salvador</td>\n",
       "      <td>0</td>\n",
       "      <td>75</td>\n",
       "      <td>28</td>\n",
       "      <td>0</td>\n",
       "    </tr>\n",
       "    <tr>\n",
       "      <th>25</th>\n",
       "      <td>France</td>\n",
       "      <td>0</td>\n",
       "      <td>18</td>\n",
       "      <td>9</td>\n",
       "      <td>0</td>\n",
       "    </tr>\n",
       "    <tr>\n",
       "      <th>26</th>\n",
       "      <td>Guatemala</td>\n",
       "      <td>0</td>\n",
       "      <td>49</td>\n",
       "      <td>13</td>\n",
       "      <td>0</td>\n",
       "    </tr>\n",
       "    <tr>\n",
       "      <th>27</th>\n",
       "      <td>China</td>\n",
       "      <td>0</td>\n",
       "      <td>37</td>\n",
       "      <td>30</td>\n",
       "      <td>0</td>\n",
       "    </tr>\n",
       "    <tr>\n",
       "      <th>28</th>\n",
       "      <td>Japan</td>\n",
       "      <td>0</td>\n",
       "      <td>37</td>\n",
       "      <td>24</td>\n",
       "      <td>0</td>\n",
       "    </tr>\n",
       "    <tr>\n",
       "      <th>29</th>\n",
       "      <td>Yugoslavia</td>\n",
       "      <td>0</td>\n",
       "      <td>9</td>\n",
       "      <td>6</td>\n",
       "      <td>0</td>\n",
       "    </tr>\n",
       "    <tr>\n",
       "      <th>30</th>\n",
       "      <td>Peru</td>\n",
       "      <td>0</td>\n",
       "      <td>18</td>\n",
       "      <td>11</td>\n",
       "      <td>0</td>\n",
       "    </tr>\n",
       "    <tr>\n",
       "      <th>31</th>\n",
       "      <td>Outlying-US(Guam-USVI-etc)</td>\n",
       "      <td>0</td>\n",
       "      <td>7</td>\n",
       "      <td>6</td>\n",
       "      <td>0</td>\n",
       "    </tr>\n",
       "    <tr>\n",
       "      <th>32</th>\n",
       "      <td>Scotland</td>\n",
       "      <td>0</td>\n",
       "      <td>6</td>\n",
       "      <td>5</td>\n",
       "      <td>0</td>\n",
       "    </tr>\n",
       "    <tr>\n",
       "      <th>33</th>\n",
       "      <td>Trinadad&amp;Tobago</td>\n",
       "      <td>0</td>\n",
       "      <td>9</td>\n",
       "      <td>9</td>\n",
       "      <td>0</td>\n",
       "    </tr>\n",
       "    <tr>\n",
       "      <th>34</th>\n",
       "      <td>Greece</td>\n",
       "      <td>0</td>\n",
       "      <td>8</td>\n",
       "      <td>19</td>\n",
       "      <td>0</td>\n",
       "    </tr>\n",
       "    <tr>\n",
       "      <th>35</th>\n",
       "      <td>Nicaragua</td>\n",
       "      <td>0</td>\n",
       "      <td>25</td>\n",
       "      <td>8</td>\n",
       "      <td>0</td>\n",
       "    </tr>\n",
       "    <tr>\n",
       "      <th>36</th>\n",
       "      <td>Vietnam</td>\n",
       "      <td>0</td>\n",
       "      <td>47</td>\n",
       "      <td>16</td>\n",
       "      <td>0</td>\n",
       "    </tr>\n",
       "    <tr>\n",
       "      <th>37</th>\n",
       "      <td>Hong</td>\n",
       "      <td>0</td>\n",
       "      <td>17</td>\n",
       "      <td>3</td>\n",
       "      <td>0</td>\n",
       "    </tr>\n",
       "    <tr>\n",
       "      <th>38</th>\n",
       "      <td>Ireland</td>\n",
       "      <td>0</td>\n",
       "      <td>18</td>\n",
       "      <td>5</td>\n",
       "      <td>0</td>\n",
       "    </tr>\n",
       "    <tr>\n",
       "      <th>39</th>\n",
       "      <td>Hungary</td>\n",
       "      <td>0</td>\n",
       "      <td>4</td>\n",
       "      <td>6</td>\n",
       "      <td>0</td>\n",
       "    </tr>\n",
       "    <tr>\n",
       "      <th>40</th>\n",
       "      <td>Holand-Netherlands</td>\n",
       "      <td>0</td>\n",
       "      <td>1</td>\n",
       "      <td>0</td>\n",
       "      <td>0</td>\n",
       "    </tr>\n",
       "  </tbody>\n",
       "</table>\n",
       "</div>"
      ],
      "text/plain": [
       "                        Country  0-15  16-40  41-60  60+\n",
       "0                 United-States     0  17039   9990    0\n",
       "1                          Cuba     0     38     44    0\n",
       "2                       Jamaica     0     56     23    0\n",
       "3                         India     0     57     41    0\n",
       "4                        Mexico     0    486    147    0\n",
       "5                         South     0     46     28    0\n",
       "6                   Puerto-Rico     0     58     49    0\n",
       "7                      Honduras     0      9      4    0\n",
       "8                       England     0     47     35    0\n",
       "9                        Canada     0     60     43    0\n",
       "10                      Germany     0     79     48    0\n",
       "11                         Iran     0     27     14    0\n",
       "12                  Philippines     0    118     66    0\n",
       "13                        Italy     0     23     40    0\n",
       "14                       Poland     0     29     25    0\n",
       "15                     Columbia     0     33     22    0\n",
       "16                     Cambodia     0     13      5    0\n",
       "17                     Thailand     0     11      7    0\n",
       "18                      Ecuador     0     19      7    0\n",
       "19                         Laos     0     12      6    0\n",
       "20                       Taiwan     0     38     12    0\n",
       "21                        Haiti     0     24     19    0\n",
       "22                     Portugal     0     21     13    0\n",
       "23           Dominican-Republic     0     41     27    0\n",
       "24                  El-Salvador     0     75     28    0\n",
       "25                       France     0     18      9    0\n",
       "26                    Guatemala     0     49     13    0\n",
       "27                        China     0     37     30    0\n",
       "28                        Japan     0     37     24    0\n",
       "29                   Yugoslavia     0      9      6    0\n",
       "30                         Peru     0     18     11    0\n",
       "31   Outlying-US(Guam-USVI-etc)     0      7      6    0\n",
       "32                     Scotland     0      6      5    0\n",
       "33              Trinadad&Tobago     0      9      9    0\n",
       "34                       Greece     0      8     19    0\n",
       "35                    Nicaragua     0     25      8    0\n",
       "36                      Vietnam     0     47     16    0\n",
       "37                         Hong     0     17      3    0\n",
       "38                      Ireland     0     18      5    0\n",
       "39                      Hungary     0      4      6    0\n",
       "40           Holand-Netherlands     0      1      0    0"
      ]
     },
     "execution_count": 200,
     "metadata": {},
     "output_type": "execute_result"
    }
   ],
   "source": [
    "names=['Country','0-15','16-40','41-60','60+']\n",
    "dfr=pd.DataFrame(columns=names)\n",
    "countries=dft['native_country'].unique()\n",
    "dfr['Country']=countries\n",
    "dfr=dfr.fillna(0)\n",
    "for ind in range(dft['native_country'].count()):\n",
    "    #for inx in range(dfr['Country'].count()):\n",
    "    cnt=dft.iloc[ind]['native_country']\n",
    "    inx=0\n",
    "    nsum=0\n",
    "    if  0<int(dft.iloc[ind]['age'])<=15:\n",
    "        inx=dfr[dfr['Country']==cnt].index#=rows['native_country']]['0-15']+1\n",
    "    elif 15<int(dft['age'].iloc[ind])<=40:\n",
    "        inx=dfr[dfr['Country']==cnt].index\n",
    "        nsum=int(dfr['16-40'].iloc[inx])+1\n",
    "        dfr['16-40'].iloc[inx]=nsum\n",
    "        nsum=int(dfr['60+'].iloc[inx])+1\n",
    "        dfr['60+'].iloc[inx]=nsum\n",
    "dfr"
   ]
  },
  {
   "cell_type": "markdown",
   "metadata": {},
   "source": [
    "Task 2:\n",
    "\n",
    "Read the following data set:\n",
    "https://archive.ics.uci.edu/ml/machine-learning-databases/adult/adult.data\n"
   ]
  },
  {
   "cell_type": "code",
   "execution_count": 204,
   "metadata": {},
   "outputs": [],
   "source": [
    "df2=pd.read_csv('https://archive.ics.uci.edu/ml/machine-learning-databases/adult/adult.data')"
   ]
  },
  {
   "cell_type": "code",
   "execution_count": 205,
   "metadata": {},
   "outputs": [],
   "source": [
    "import sqlalchemy\n",
    "from sqlalchemy import create_engine"
   ]
  },
  {
   "cell_type": "code",
   "execution_count": 206,
   "metadata": {},
   "outputs": [],
   "source": [
    "engine=create_engine('sqlite:///:memory:',echo=True)"
   ]
  },
  {
   "cell_type": "code",
   "execution_count": 207,
   "metadata": {},
   "outputs": [],
   "source": [
    "from sqlalchemy.ext.declarative import declarative_base"
   ]
  },
  {
   "cell_type": "code",
   "execution_count": 208,
   "metadata": {},
   "outputs": [],
   "source": [
    "Base=declarative_base()"
   ]
  },
  {
   "cell_type": "code",
   "execution_count": 209,
   "metadata": {},
   "outputs": [],
   "source": [
    "lstcolnames=['age',\n",
    " 'work_class',\n",
    " 'fnlwgt',\n",
    " 'education',\n",
    " 'education_num',\n",
    " 'marital_status',\n",
    " 'occupation',\n",
    " 'relationship',\n",
    " 'race',\n",
    " 'sex',\n",
    " 'capital_gain',\n",
    " 'capital_loss',\n",
    " 'hours_per_week',\n",
    " 'native_country',\n",
    " 'classs']"
   ]
  },
  {
   "cell_type": "code",
   "execution_count": 210,
   "metadata": {},
   "outputs": [],
   "source": [
    "df2.columns=lstcolnames"
   ]
  },
  {
   "cell_type": "code",
   "execution_count": 211,
   "metadata": {},
   "outputs": [
    {
     "data": {
      "text/html": [
       "<div>\n",
       "<style scoped>\n",
       "    .dataframe tbody tr th:only-of-type {\n",
       "        vertical-align: middle;\n",
       "    }\n",
       "\n",
       "    .dataframe tbody tr th {\n",
       "        vertical-align: top;\n",
       "    }\n",
       "\n",
       "    .dataframe thead th {\n",
       "        text-align: right;\n",
       "    }\n",
       "</style>\n",
       "<table border=\"1\" class=\"dataframe\">\n",
       "  <thead>\n",
       "    <tr style=\"text-align: right;\">\n",
       "      <th></th>\n",
       "      <th>age</th>\n",
       "      <th>work_class</th>\n",
       "      <th>fnlwgt</th>\n",
       "      <th>education</th>\n",
       "      <th>education_num</th>\n",
       "      <th>marital_status</th>\n",
       "      <th>occupation</th>\n",
       "      <th>relationship</th>\n",
       "      <th>race</th>\n",
       "      <th>sex</th>\n",
       "      <th>capital_gain</th>\n",
       "      <th>capital_loss</th>\n",
       "      <th>hours_per_week</th>\n",
       "      <th>native_country</th>\n",
       "      <th>classs</th>\n",
       "    </tr>\n",
       "  </thead>\n",
       "  <tbody>\n",
       "    <tr>\n",
       "      <th>0</th>\n",
       "      <td>50</td>\n",
       "      <td>Self-emp-not-inc</td>\n",
       "      <td>83311</td>\n",
       "      <td>Bachelors</td>\n",
       "      <td>13</td>\n",
       "      <td>Married-civ-spouse</td>\n",
       "      <td>Exec-managerial</td>\n",
       "      <td>Husband</td>\n",
       "      <td>White</td>\n",
       "      <td>Male</td>\n",
       "      <td>0</td>\n",
       "      <td>0</td>\n",
       "      <td>13</td>\n",
       "      <td>United-States</td>\n",
       "      <td>&lt;=50K</td>\n",
       "    </tr>\n",
       "    <tr>\n",
       "      <th>1</th>\n",
       "      <td>38</td>\n",
       "      <td>Private</td>\n",
       "      <td>215646</td>\n",
       "      <td>HS-grad</td>\n",
       "      <td>9</td>\n",
       "      <td>Divorced</td>\n",
       "      <td>Handlers-cleaners</td>\n",
       "      <td>Not-in-family</td>\n",
       "      <td>White</td>\n",
       "      <td>Male</td>\n",
       "      <td>0</td>\n",
       "      <td>0</td>\n",
       "      <td>40</td>\n",
       "      <td>United-States</td>\n",
       "      <td>&lt;=50K</td>\n",
       "    </tr>\n",
       "    <tr>\n",
       "      <th>2</th>\n",
       "      <td>53</td>\n",
       "      <td>Private</td>\n",
       "      <td>234721</td>\n",
       "      <td>11th</td>\n",
       "      <td>7</td>\n",
       "      <td>Married-civ-spouse</td>\n",
       "      <td>Handlers-cleaners</td>\n",
       "      <td>Husband</td>\n",
       "      <td>Black</td>\n",
       "      <td>Male</td>\n",
       "      <td>0</td>\n",
       "      <td>0</td>\n",
       "      <td>40</td>\n",
       "      <td>United-States</td>\n",
       "      <td>&lt;=50K</td>\n",
       "    </tr>\n",
       "    <tr>\n",
       "      <th>3</th>\n",
       "      <td>28</td>\n",
       "      <td>Private</td>\n",
       "      <td>338409</td>\n",
       "      <td>Bachelors</td>\n",
       "      <td>13</td>\n",
       "      <td>Married-civ-spouse</td>\n",
       "      <td>Prof-specialty</td>\n",
       "      <td>Wife</td>\n",
       "      <td>Black</td>\n",
       "      <td>Female</td>\n",
       "      <td>0</td>\n",
       "      <td>0</td>\n",
       "      <td>40</td>\n",
       "      <td>Cuba</td>\n",
       "      <td>&lt;=50K</td>\n",
       "    </tr>\n",
       "    <tr>\n",
       "      <th>4</th>\n",
       "      <td>37</td>\n",
       "      <td>Private</td>\n",
       "      <td>284582</td>\n",
       "      <td>Masters</td>\n",
       "      <td>14</td>\n",
       "      <td>Married-civ-spouse</td>\n",
       "      <td>Exec-managerial</td>\n",
       "      <td>Wife</td>\n",
       "      <td>White</td>\n",
       "      <td>Female</td>\n",
       "      <td>0</td>\n",
       "      <td>0</td>\n",
       "      <td>40</td>\n",
       "      <td>United-States</td>\n",
       "      <td>&lt;=50K</td>\n",
       "    </tr>\n",
       "  </tbody>\n",
       "</table>\n",
       "</div>"
      ],
      "text/plain": [
       "   age         work_class  fnlwgt   education  education_num  \\\n",
       "0   50   Self-emp-not-inc   83311   Bachelors             13   \n",
       "1   38            Private  215646     HS-grad              9   \n",
       "2   53            Private  234721        11th              7   \n",
       "3   28            Private  338409   Bachelors             13   \n",
       "4   37            Private  284582     Masters             14   \n",
       "\n",
       "        marital_status          occupation    relationship    race      sex  \\\n",
       "0   Married-civ-spouse     Exec-managerial         Husband   White     Male   \n",
       "1             Divorced   Handlers-cleaners   Not-in-family   White     Male   \n",
       "2   Married-civ-spouse   Handlers-cleaners         Husband   Black     Male   \n",
       "3   Married-civ-spouse      Prof-specialty            Wife   Black   Female   \n",
       "4   Married-civ-spouse     Exec-managerial            Wife   White   Female   \n",
       "\n",
       "   capital_gain  capital_loss  hours_per_week  native_country  classs  \n",
       "0             0             0              13   United-States   <=50K  \n",
       "1             0             0              40   United-States   <=50K  \n",
       "2             0             0              40   United-States   <=50K  \n",
       "3             0             0              40            Cuba   <=50K  \n",
       "4             0             0              40   United-States   <=50K  "
      ]
     },
     "execution_count": 211,
     "metadata": {},
     "output_type": "execute_result"
    }
   ],
   "source": [
    "df2.head()"
   ]
  },
  {
   "cell_type": "markdown",
   "metadata": {},
   "source": [
    "1. Create an sqlalchemy engine using a sample from the data set"
   ]
  },
  {
   "cell_type": "code",
   "execution_count": 212,
   "metadata": {},
   "outputs": [],
   "source": [
    "from sqlalchemy import Column,Integer,String"
   ]
  },
  {
   "cell_type": "code",
   "execution_count": 213,
   "metadata": {},
   "outputs": [],
   "source": [
    "class Adultdt(Base):\n",
    "    __tablename__='AdultData'\n",
    "    id=Column(Integer,primary_key=True)\n",
    "    age=Column(Integer)\n",
    "    work_class=Column(String)\n",
    "    fnlwgt=Column(Integer)\n",
    "    education=Column(String)\n",
    "    education_num=Column(Integer)\n",
    "    marital_status=Column(String)\n",
    "    occupation=Column(String)\n",
    "    relationship=Column(String)\n",
    "    race=Column(String)\n",
    "    sex=Column(String)\n",
    "    capital_gain=Column(String)\n",
    "    capital_loss=Column(Integer)\n",
    "    hours_per_week=Column(String)\n",
    "    native_country=Column(String)\n",
    "    classs=Column(String)\n",
    "    \n",
    "    def __repr__(self):\n",
    "         return \"<AdultData(id='%s', age='%s', work_class='%s', fnlwgt='%s', education='%s', education_num='%s',marital_status='%s', occupation='%s', relationship='%s', race='%s',sex='%s',capital_gain='%s', capital_loss='%s',hours_per_week='%s', native_country='%s', classs='%s')>\" % (\n",
    "                            self.id,self.age, self.work_class, self.fnlwgt, self.education, self.education_num, self.marital_status, self.occupation, self.relationship, self.race, self.sex,self.capital_gain, self.capital_loss,self.hours_per_week,self.native_country,self.classs)\n",
    "         \n",
    "        \n",
    "    "
   ]
  },
  {
   "cell_type": "code",
   "execution_count": 214,
   "metadata": {},
   "outputs": [
    {
     "data": {
      "text/plain": [
       "Table('AdultData', MetaData(bind=None), Column('id', Integer(), table=<AdultData>, primary_key=True, nullable=False), Column('age', Integer(), table=<AdultData>), Column('work_class', String(), table=<AdultData>), Column('fnlwgt', Integer(), table=<AdultData>), Column('education', String(), table=<AdultData>), Column('education_num', Integer(), table=<AdultData>), Column('marital_status', String(), table=<AdultData>), Column('occupation', String(), table=<AdultData>), Column('relationship', String(), table=<AdultData>), Column('race', String(), table=<AdultData>), Column('sex', String(), table=<AdultData>), Column('capital_gain', String(), table=<AdultData>), Column('capital_loss', Integer(), table=<AdultData>), Column('hours_per_week', String(), table=<AdultData>), Column('native_country', String(), table=<AdultData>), Column('classs', String(), table=<AdultData>), schema=None)"
      ]
     },
     "execution_count": 214,
     "metadata": {},
     "output_type": "execute_result"
    }
   ],
   "source": [
    "Adultdt.__table__"
   ]
  },
  {
   "cell_type": "code",
   "execution_count": 215,
   "metadata": {},
   "outputs": [
    {
     "name": "stdout",
     "output_type": "stream",
     "text": [
      "2019-01-16 22:48:44,491 INFO sqlalchemy.engine.base.Engine SELECT CAST('test plain returns' AS VARCHAR(60)) AS anon_1\n",
      "2019-01-16 22:48:44,494 INFO sqlalchemy.engine.base.Engine ()\n",
      "2019-01-16 22:48:44,496 INFO sqlalchemy.engine.base.Engine SELECT CAST('test unicode returns' AS VARCHAR(60)) AS anon_1\n",
      "2019-01-16 22:48:44,499 INFO sqlalchemy.engine.base.Engine ()\n",
      "2019-01-16 22:48:44,503 INFO sqlalchemy.engine.base.Engine PRAGMA table_info(\"AdultData\")\n",
      "2019-01-16 22:48:44,506 INFO sqlalchemy.engine.base.Engine ()\n",
      "2019-01-16 22:48:44,510 INFO sqlalchemy.engine.base.Engine \n",
      "CREATE TABLE \"AdultData\" (\n",
      "\tid INTEGER NOT NULL, \n",
      "\tage INTEGER, \n",
      "\twork_class VARCHAR, \n",
      "\tfnlwgt INTEGER, \n",
      "\teducation VARCHAR, \n",
      "\teducation_num INTEGER, \n",
      "\tmarital_status VARCHAR, \n",
      "\toccupation VARCHAR, \n",
      "\trelationship VARCHAR, \n",
      "\trace VARCHAR, \n",
      "\tsex VARCHAR, \n",
      "\tcapital_gain VARCHAR, \n",
      "\tcapital_loss INTEGER, \n",
      "\thours_per_week VARCHAR, \n",
      "\tnative_country VARCHAR, \n",
      "\tclasss VARCHAR, \n",
      "\tPRIMARY KEY (id)\n",
      ")\n",
      "\n",
      "\n",
      "2019-01-16 22:48:44,511 INFO sqlalchemy.engine.base.Engine ()\n",
      "2019-01-16 22:48:44,515 INFO sqlalchemy.engine.base.Engine COMMIT\n"
     ]
    }
   ],
   "source": [
    "Base.metadata.create_all(engine)"
   ]
  },
  {
   "cell_type": "code",
   "execution_count": 216,
   "metadata": {},
   "outputs": [
    {
     "name": "stdout",
     "output_type": "stream",
     "text": [
      "2019-01-16 22:48:45,432 INFO sqlalchemy.engine.base.Engine PRAGMA table_info(\"AdultData\")\n",
      "2019-01-16 22:48:45,432 INFO sqlalchemy.engine.base.Engine ()\n",
      "2019-01-16 22:48:45,467 INFO sqlalchemy.engine.base.Engine BEGIN (implicit)\n",
      "2019-01-16 22:48:46,237 INFO sqlalchemy.engine.base.Engine INSERT INTO \"AdultData\" (age, work_class, fnlwgt, education, education_num, marital_status, occupation, relationship, race, sex, capital_gain, capital_loss, hours_per_week, native_country, classs) VALUES (?, ?, ?, ?, ?, ?, ?, ?, ?, ?, ?, ?, ?, ?, ?)\n",
      "2019-01-16 22:48:46,238 INFO sqlalchemy.engine.base.Engine ((50, ' Self-emp-not-inc', 83311, ' Bachelors', 13, ' Married-civ-spouse', ' Exec-managerial', ' Husband', ' White', ' Male', 0, 0, 13, ' United-States', ' <=50K'), (38, ' Private', 215646, ' HS-grad', 9, ' Divorced', ' Handlers-cleaners', ' Not-in-family', ' White', ' Male', 0, 0, 40, ' United-States', ' <=50K'), (53, ' Private', 234721, ' 11th', 7, ' Married-civ-spouse', ' Handlers-cleaners', ' Husband', ' Black', ' Male', 0, 0, 40, ' United-States', ' <=50K'), (28, ' Private', 338409, ' Bachelors', 13, ' Married-civ-spouse', ' Prof-specialty', ' Wife', ' Black', ' Female', 0, 0, 40, ' Cuba', ' <=50K'), (37, ' Private', 284582, ' Masters', 14, ' Married-civ-spouse', ' Exec-managerial', ' Wife', ' White', ' Female', 0, 0, 40, ' United-States', ' <=50K'), (49, ' Private', 160187, ' 9th', 5, ' Married-spouse-absent', ' Other-service', ' Not-in-family', ' Black', ' Female', 0, 0, 16, ' Jamaica', ' <=50K'), (52, ' Self-emp-not-inc', 209642, ' HS-grad', 9, ' Married-civ-spouse', ' Exec-managerial', ' Husband', ' White', ' Male', 0, 0, 45, ' United-States', ' >50K'), (31, ' Private', 45781, ' Masters', 14, ' Never-married', ' Prof-specialty', ' Not-in-family', ' White', ' Female', 14084, 0, 50, ' United-States', ' >50K')  ... displaying 10 of 32560 total bound parameter sets ...  (22, ' Private', 201490, ' HS-grad', 9, ' Never-married', ' Adm-clerical', ' Own-child', ' White', ' Male', 0, 0, 20, ' United-States', ' <=50K'), (52, ' Self-emp-inc', 287927, ' HS-grad', 9, ' Married-civ-spouse', ' Exec-managerial', ' Wife', ' White', ' Female', 15024, 0, 40, ' United-States', ' >50K'))\n",
      "2019-01-16 22:48:46,450 INFO sqlalchemy.engine.base.Engine COMMIT\n",
      "2019-01-16 22:48:46,455 INFO sqlalchemy.engine.base.Engine SELECT name FROM sqlite_master WHERE type='table' ORDER BY name\n",
      "2019-01-16 22:48:46,456 INFO sqlalchemy.engine.base.Engine ()\n"
     ]
    }
   ],
   "source": [
    "df2.to_sql(name='AdultData',con=engine,if_exists='append',index=False)"
   ]
  },
  {
   "cell_type": "code",
   "execution_count": 217,
   "metadata": {},
   "outputs": [],
   "source": [
    "from sqlalchemy.orm import sessionmaker"
   ]
  },
  {
   "cell_type": "code",
   "execution_count": 218,
   "metadata": {},
   "outputs": [],
   "source": [
    "Session=sessionmaker(bind=engine)"
   ]
  },
  {
   "cell_type": "code",
   "execution_count": 219,
   "metadata": {},
   "outputs": [],
   "source": [
    "session=Session()"
   ]
  },
  {
   "cell_type": "markdown",
   "metadata": {},
   "source": [
    "2. Write two basic update queries"
   ]
  },
  {
   "cell_type": "code",
   "execution_count": 220,
   "metadata": {},
   "outputs": [
    {
     "name": "stdout",
     "output_type": "stream",
     "text": [
      "2019-01-16 22:48:48,489 INFO sqlalchemy.engine.base.Engine BEGIN (implicit)\n",
      "2019-01-16 22:48:48,494 INFO sqlalchemy.engine.base.Engine SELECT \"AdultData\".id AS \"AdultData_id\", \"AdultData\".age AS \"AdultData_age\", \"AdultData\".work_class AS \"AdultData_work_class\", \"AdultData\".fnlwgt AS \"AdultData_fnlwgt\", \"AdultData\".education AS \"AdultData_education\", \"AdultData\".education_num AS \"AdultData_education_num\", \"AdultData\".marital_status AS \"AdultData_marital_status\", \"AdultData\".occupation AS \"AdultData_occupation\", \"AdultData\".relationship AS \"AdultData_relationship\", \"AdultData\".race AS \"AdultData_race\", \"AdultData\".sex AS \"AdultData_sex\", \"AdultData\".capital_gain AS \"AdultData_capital_gain\", \"AdultData\".capital_loss AS \"AdultData_capital_loss\", \"AdultData\".hours_per_week AS \"AdultData_hours_per_week\", \"AdultData\".native_country AS \"AdultData_native_country\", \"AdultData\".classs AS \"AdultData_classs\" \n",
      "FROM \"AdultData\" \n",
      "WHERE \"AdultData\".id = ?\n",
      " LIMIT ? OFFSET ?\n",
      "2019-01-16 22:48:48,497 INFO sqlalchemy.engine.base.Engine ('50', 1, 0)\n"
     ]
    }
   ],
   "source": [
    "updat1=session.query(Adultdt).filter_by(id='50').first()"
   ]
  },
  {
   "cell_type": "code",
   "execution_count": 221,
   "metadata": {},
   "outputs": [],
   "source": [
    "query2 = session.query(Adultdt).filter(Adultdt.id=='50').order_by(Adultdt.id)"
   ]
  },
  {
   "cell_type": "code",
   "execution_count": 222,
   "metadata": {},
   "outputs": [
    {
     "name": "stdout",
     "output_type": "stream",
     "text": [
      "2019-01-16 22:48:49,594 INFO sqlalchemy.engine.base.Engine SELECT \"AdultData\".id AS \"AdultData_id\", \"AdultData\".age AS \"AdultData_age\", \"AdultData\".work_class AS \"AdultData_work_class\", \"AdultData\".fnlwgt AS \"AdultData_fnlwgt\", \"AdultData\".education AS \"AdultData_education\", \"AdultData\".education_num AS \"AdultData_education_num\", \"AdultData\".marital_status AS \"AdultData_marital_status\", \"AdultData\".occupation AS \"AdultData_occupation\", \"AdultData\".relationship AS \"AdultData_relationship\", \"AdultData\".race AS \"AdultData_race\", \"AdultData\".sex AS \"AdultData_sex\", \"AdultData\".capital_gain AS \"AdultData_capital_gain\", \"AdultData\".capital_loss AS \"AdultData_capital_loss\", \"AdultData\".hours_per_week AS \"AdultData_hours_per_week\", \"AdultData\".native_country AS \"AdultData_native_country\", \"AdultData\".classs AS \"AdultData_classs\" \n",
      "FROM \"AdultData\" \n",
      "WHERE \"AdultData\".id = ? ORDER BY \"AdultData\".id\n",
      "2019-01-16 22:48:49,597 INFO sqlalchemy.engine.base.Engine ('50',)\n"
     ]
    },
    {
     "data": {
      "text/plain": [
       "[<AdultData(id='50', age='25', work_class=' Private', fnlwgt='32275', education=' Some-college', education_num='10',marital_status=' Married-civ-spouse', occupation=' Exec-managerial', relationship=' Wife', race=' Other',sex=' Female',capital_gain='0', capital_loss='0',hours_per_week='40', native_country=' United-States', classs=' <=50K')>]"
      ]
     },
     "execution_count": 222,
     "metadata": {},
     "output_type": "execute_result"
    }
   ],
   "source": [
    "query2.all()"
   ]
  },
  {
   "cell_type": "code",
   "execution_count": 223,
   "metadata": {},
   "outputs": [
    {
     "name": "stdout",
     "output_type": "stream",
     "text": [
      "25\n"
     ]
    }
   ],
   "source": [
    "print(updat1.age)"
   ]
  },
  {
   "cell_type": "code",
   "execution_count": 224,
   "metadata": {},
   "outputs": [],
   "source": [
    "updat1.native_country='Jamaica'"
   ]
  },
  {
   "cell_type": "code",
   "execution_count": 225,
   "metadata": {},
   "outputs": [
    {
     "name": "stdout",
     "output_type": "stream",
     "text": [
      "2019-01-16 22:48:50,440 INFO sqlalchemy.engine.base.Engine UPDATE \"AdultData\" SET native_country=? WHERE \"AdultData\".id = ?\n",
      "2019-01-16 22:48:50,443 INFO sqlalchemy.engine.base.Engine ('Jamaica', 50)\n",
      "2019-01-16 22:48:50,446 INFO sqlalchemy.engine.base.Engine COMMIT\n"
     ]
    }
   ],
   "source": [
    "session.commit()"
   ]
  },
  {
   "cell_type": "code",
   "execution_count": 226,
   "metadata": {},
   "outputs": [
    {
     "name": "stdout",
     "output_type": "stream",
     "text": [
      "2019-01-16 22:48:51,837 INFO sqlalchemy.engine.base.Engine BEGIN (implicit)\n",
      "2019-01-16 22:48:51,840 INFO sqlalchemy.engine.base.Engine SELECT \"AdultData\".id AS \"AdultData_id\", \"AdultData\".age AS \"AdultData_age\", \"AdultData\".work_class AS \"AdultData_work_class\", \"AdultData\".fnlwgt AS \"AdultData_fnlwgt\", \"AdultData\".education AS \"AdultData_education\", \"AdultData\".education_num AS \"AdultData_education_num\", \"AdultData\".marital_status AS \"AdultData_marital_status\", \"AdultData\".occupation AS \"AdultData_occupation\", \"AdultData\".relationship AS \"AdultData_relationship\", \"AdultData\".race AS \"AdultData_race\", \"AdultData\".sex AS \"AdultData_sex\", \"AdultData\".capital_gain AS \"AdultData_capital_gain\", \"AdultData\".capital_loss AS \"AdultData_capital_loss\", \"AdultData\".hours_per_week AS \"AdultData_hours_per_week\", \"AdultData\".native_country AS \"AdultData_native_country\", \"AdultData\".classs AS \"AdultData_classs\" \n",
      "FROM \"AdultData\" \n",
      "WHERE \"AdultData\".id = ? ORDER BY \"AdultData\".id\n",
      "2019-01-16 22:48:51,841 INFO sqlalchemy.engine.base.Engine ('50',)\n"
     ]
    },
    {
     "data": {
      "text/plain": [
       "[<AdultData(id='50', age='25', work_class=' Private', fnlwgt='32275', education=' Some-college', education_num='10',marital_status=' Married-civ-spouse', occupation=' Exec-managerial', relationship=' Wife', race=' Other',sex=' Female',capital_gain='0', capital_loss='0',hours_per_week='40', native_country='Jamaica', classs=' <=50K')>]"
      ]
     },
     "execution_count": 226,
     "metadata": {},
     "output_type": "execute_result"
    }
   ],
   "source": [
    "query2.all()"
   ]
  },
  {
   "cell_type": "code",
   "execution_count": 227,
   "metadata": {},
   "outputs": [],
   "source": [
    "query3 = session.query(Adultdt).filter(Adultdt.id=='60').order_by(Adultdt.id)"
   ]
  },
  {
   "cell_type": "code",
   "execution_count": 228,
   "metadata": {},
   "outputs": [
    {
     "name": "stdout",
     "output_type": "stream",
     "text": [
      "2019-01-16 22:48:52,379 INFO sqlalchemy.engine.base.Engine SELECT \"AdultData\".id AS \"AdultData_id\", \"AdultData\".age AS \"AdultData_age\", \"AdultData\".work_class AS \"AdultData_work_class\", \"AdultData\".fnlwgt AS \"AdultData_fnlwgt\", \"AdultData\".education AS \"AdultData_education\", \"AdultData\".education_num AS \"AdultData_education_num\", \"AdultData\".marital_status AS \"AdultData_marital_status\", \"AdultData\".occupation AS \"AdultData_occupation\", \"AdultData\".relationship AS \"AdultData_relationship\", \"AdultData\".race AS \"AdultData_race\", \"AdultData\".sex AS \"AdultData_sex\", \"AdultData\".capital_gain AS \"AdultData_capital_gain\", \"AdultData\".capital_loss AS \"AdultData_capital_loss\", \"AdultData\".hours_per_week AS \"AdultData_hours_per_week\", \"AdultData\".native_country AS \"AdultData_native_country\", \"AdultData\".classs AS \"AdultData_classs\" \n",
      "FROM \"AdultData\" \n",
      "WHERE \"AdultData\".id = ? ORDER BY \"AdultData\".id\n",
      "2019-01-16 22:48:52,381 INFO sqlalchemy.engine.base.Engine ('60',)\n"
     ]
    },
    {
     "data": {
      "text/plain": [
       "[<AdultData(id='60', age='30', work_class=' Private', fnlwgt='59496', education=' Bachelors', education_num='13',marital_status=' Married-civ-spouse', occupation=' Sales', relationship=' Husband', race=' White',sex=' Male',capital_gain='2407', capital_loss='0',hours_per_week='40', native_country=' United-States', classs=' <=50K')>]"
      ]
     },
     "execution_count": 228,
     "metadata": {},
     "output_type": "execute_result"
    }
   ],
   "source": [
    "query3.all()"
   ]
  },
  {
   "cell_type": "code",
   "execution_count": 229,
   "metadata": {},
   "outputs": [
    {
     "name": "stdout",
     "output_type": "stream",
     "text": [
      "2019-01-16 22:48:53,051 INFO sqlalchemy.engine.base.Engine SELECT \"AdultData\".id AS \"AdultData_id\", \"AdultData\".age AS \"AdultData_age\", \"AdultData\".work_class AS \"AdultData_work_class\", \"AdultData\".fnlwgt AS \"AdultData_fnlwgt\", \"AdultData\".education AS \"AdultData_education\", \"AdultData\".education_num AS \"AdultData_education_num\", \"AdultData\".marital_status AS \"AdultData_marital_status\", \"AdultData\".occupation AS \"AdultData_occupation\", \"AdultData\".relationship AS \"AdultData_relationship\", \"AdultData\".race AS \"AdultData_race\", \"AdultData\".sex AS \"AdultData_sex\", \"AdultData\".capital_gain AS \"AdultData_capital_gain\", \"AdultData\".capital_loss AS \"AdultData_capital_loss\", \"AdultData\".hours_per_week AS \"AdultData_hours_per_week\", \"AdultData\".native_country AS \"AdultData_native_country\", \"AdultData\".classs AS \"AdultData_classs\" \n",
      "FROM \"AdultData\" \n",
      "WHERE \"AdultData\".id = ?\n",
      " LIMIT ? OFFSET ?\n",
      "2019-01-16 22:48:53,053 INFO sqlalchemy.engine.base.Engine ('60', 1, 0)\n"
     ]
    }
   ],
   "source": [
    "updat2=session.query(Adultdt).filter_by(id='60').first()"
   ]
  },
  {
   "cell_type": "code",
   "execution_count": 230,
   "metadata": {},
   "outputs": [],
   "source": [
    "updat2.marital_status='divorced'"
   ]
  },
  {
   "cell_type": "code",
   "execution_count": 231,
   "metadata": {},
   "outputs": [
    {
     "name": "stdout",
     "output_type": "stream",
     "text": [
      "2019-01-16 22:48:53,578 INFO sqlalchemy.engine.base.Engine UPDATE \"AdultData\" SET marital_status=? WHERE \"AdultData\".id = ?\n",
      "2019-01-16 22:48:53,579 INFO sqlalchemy.engine.base.Engine ('divorced', 60)\n",
      "2019-01-16 22:48:53,581 INFO sqlalchemy.engine.base.Engine COMMIT\n"
     ]
    }
   ],
   "source": [
    "session.commit()"
   ]
  },
  {
   "cell_type": "code",
   "execution_count": 232,
   "metadata": {},
   "outputs": [
    {
     "name": "stdout",
     "output_type": "stream",
     "text": [
      "2019-01-16 22:48:54,500 INFO sqlalchemy.engine.base.Engine BEGIN (implicit)\n",
      "2019-01-16 22:48:54,503 INFO sqlalchemy.engine.base.Engine SELECT \"AdultData\".id AS \"AdultData_id\", \"AdultData\".age AS \"AdultData_age\", \"AdultData\".work_class AS \"AdultData_work_class\", \"AdultData\".fnlwgt AS \"AdultData_fnlwgt\", \"AdultData\".education AS \"AdultData_education\", \"AdultData\".education_num AS \"AdultData_education_num\", \"AdultData\".marital_status AS \"AdultData_marital_status\", \"AdultData\".occupation AS \"AdultData_occupation\", \"AdultData\".relationship AS \"AdultData_relationship\", \"AdultData\".race AS \"AdultData_race\", \"AdultData\".sex AS \"AdultData_sex\", \"AdultData\".capital_gain AS \"AdultData_capital_gain\", \"AdultData\".capital_loss AS \"AdultData_capital_loss\", \"AdultData\".hours_per_week AS \"AdultData_hours_per_week\", \"AdultData\".native_country AS \"AdultData_native_country\", \"AdultData\".classs AS \"AdultData_classs\" \n",
      "FROM \"AdultData\" \n",
      "WHERE \"AdultData\".id = ? ORDER BY \"AdultData\".id\n",
      "2019-01-16 22:48:54,506 INFO sqlalchemy.engine.base.Engine ('60',)\n"
     ]
    },
    {
     "data": {
      "text/plain": [
       "[<AdultData(id='60', age='30', work_class=' Private', fnlwgt='59496', education=' Bachelors', education_num='13',marital_status='divorced', occupation=' Sales', relationship=' Husband', race=' White',sex=' Male',capital_gain='2407', capital_loss='0',hours_per_week='40', native_country=' United-States', classs=' <=50K')>]"
      ]
     },
     "execution_count": 232,
     "metadata": {},
     "output_type": "execute_result"
    }
   ],
   "source": [
    "query3.all()"
   ]
  },
  {
   "cell_type": "markdown",
   "metadata": {},
   "source": [
    "3. Write two delete queries"
   ]
  },
  {
   "cell_type": "code",
   "execution_count": 288,
   "metadata": {},
   "outputs": [],
   "source": [
    "query4 = session.query(Adultdt).filter(Adultdt.id=='12').order_by(Adultdt.id)"
   ]
  },
  {
   "cell_type": "code",
   "execution_count": 289,
   "metadata": {},
   "outputs": [
    {
     "name": "stdout",
     "output_type": "stream",
     "text": [
      "2019-01-16 22:53:24,225 INFO sqlalchemy.engine.base.Engine SELECT \"AdultData\".id AS \"AdultData_id\", \"AdultData\".age AS \"AdultData_age\", \"AdultData\".work_class AS \"AdultData_work_class\", \"AdultData\".fnlwgt AS \"AdultData_fnlwgt\", \"AdultData\".education AS \"AdultData_education\", \"AdultData\".education_num AS \"AdultData_education_num\", \"AdultData\".marital_status AS \"AdultData_marital_status\", \"AdultData\".occupation AS \"AdultData_occupation\", \"AdultData\".relationship AS \"AdultData_relationship\", \"AdultData\".race AS \"AdultData_race\", \"AdultData\".sex AS \"AdultData_sex\", \"AdultData\".capital_gain AS \"AdultData_capital_gain\", \"AdultData\".capital_loss AS \"AdultData_capital_loss\", \"AdultData\".hours_per_week AS \"AdultData_hours_per_week\", \"AdultData\".native_country AS \"AdultData_native_country\", \"AdultData\".classs AS \"AdultData_classs\" \n",
      "FROM \"AdultData\" \n",
      "WHERE \"AdultData\".id = ? ORDER BY \"AdultData\".id\n",
      " LIMIT ? OFFSET ?\n",
      "2019-01-16 22:53:24,227 INFO sqlalchemy.engine.base.Engine ('12', 1, 0)\n"
     ]
    },
    {
     "data": {
      "text/plain": [
       "<AdultData(id='12', age='23', work_class=' Private', fnlwgt='122272', education=' Bachelors', education_num='13',marital_status=' Never-married', occupation=' Adm-clerical', relationship=' Own-child', race=' White',sex=' Female',capital_gain='0', capital_loss='0',hours_per_week='30', native_country=' United-States', classs=' <=50K')>"
      ]
     },
     "execution_count": 289,
     "metadata": {},
     "output_type": "execute_result"
    }
   ],
   "source": [
    "query4.first()"
   ]
  },
  {
   "cell_type": "code",
   "execution_count": 292,
   "metadata": {},
   "outputs": [
    {
     "name": "stdout",
     "output_type": "stream",
     "text": [
      "2019-01-16 22:54:00,255 INFO sqlalchemy.engine.base.Engine SELECT \"AdultData\".id AS \"AdultData_id\", \"AdultData\".age AS \"AdultData_age\", \"AdultData\".work_class AS \"AdultData_work_class\", \"AdultData\".fnlwgt AS \"AdultData_fnlwgt\", \"AdultData\".education AS \"AdultData_education\", \"AdultData\".education_num AS \"AdultData_education_num\", \"AdultData\".marital_status AS \"AdultData_marital_status\", \"AdultData\".occupation AS \"AdultData_occupation\", \"AdultData\".relationship AS \"AdultData_relationship\", \"AdultData\".race AS \"AdultData_race\", \"AdultData\".sex AS \"AdultData_sex\", \"AdultData\".capital_gain AS \"AdultData_capital_gain\", \"AdultData\".capital_loss AS \"AdultData_capital_loss\", \"AdultData\".hours_per_week AS \"AdultData_hours_per_week\", \"AdultData\".native_country AS \"AdultData_native_country\", \"AdultData\".classs AS \"AdultData_classs\" \n",
      "FROM \"AdultData\" \n",
      "WHERE \"AdultData\".id = ?\n",
      "2019-01-16 22:54:00,257 INFO sqlalchemy.engine.base.Engine (50,)\n",
      "2019-01-16 22:54:00,261 INFO sqlalchemy.engine.base.Engine SELECT \"AdultData\".id AS \"AdultData_id\", \"AdultData\".age AS \"AdultData_age\", \"AdultData\".work_class AS \"AdultData_work_class\", \"AdultData\".fnlwgt AS \"AdultData_fnlwgt\", \"AdultData\".education AS \"AdultData_education\", \"AdultData\".education_num AS \"AdultData_education_num\", \"AdultData\".marital_status AS \"AdultData_marital_status\", \"AdultData\".occupation AS \"AdultData_occupation\", \"AdultData\".relationship AS \"AdultData_relationship\", \"AdultData\".race AS \"AdultData_race\", \"AdultData\".sex AS \"AdultData_sex\", \"AdultData\".capital_gain AS \"AdultData_capital_gain\", \"AdultData\".capital_loss AS \"AdultData_capital_loss\", \"AdultData\".hours_per_week AS \"AdultData_hours_per_week\", \"AdultData\".native_country AS \"AdultData_native_country\", \"AdultData\".classs AS \"AdultData_classs\" \n",
      "FROM \"AdultData\" \n",
      "WHERE \"AdultData\".id = ?\n",
      "2019-01-16 22:54:00,262 INFO sqlalchemy.engine.base.Engine (60,)\n",
      "2019-01-16 22:54:00,265 INFO sqlalchemy.engine.base.Engine SELECT \"AdultData\".id AS \"AdultData_id\", \"AdultData\".age AS \"AdultData_age\", \"AdultData\".work_class AS \"AdultData_work_class\", \"AdultData\".fnlwgt AS \"AdultData_fnlwgt\", \"AdultData\".education AS \"AdultData_education\", \"AdultData\".education_num AS \"AdultData_education_num\", \"AdultData\".marital_status AS \"AdultData_marital_status\", \"AdultData\".occupation AS \"AdultData_occupation\", \"AdultData\".relationship AS \"AdultData_relationship\", \"AdultData\".race AS \"AdultData_race\", \"AdultData\".sex AS \"AdultData_sex\", \"AdultData\".capital_gain AS \"AdultData_capital_gain\", \"AdultData\".capital_loss AS \"AdultData_capital_loss\", \"AdultData\".hours_per_week AS \"AdultData_hours_per_week\", \"AdultData\".native_country AS \"AdultData_native_country\", \"AdultData\".classs AS \"AdultData_classs\" \n",
      "FROM \"AdultData\" \n",
      "WHERE \"AdultData\".id = ?\n",
      "2019-01-16 22:54:00,266 INFO sqlalchemy.engine.base.Engine (1,)\n",
      "2019-01-16 22:54:00,270 INFO sqlalchemy.engine.base.Engine SELECT \"AdultData\".id AS \"AdultData_id\", \"AdultData\".age AS \"AdultData_age\", \"AdultData\".work_class AS \"AdultData_work_class\", \"AdultData\".fnlwgt AS \"AdultData_fnlwgt\", \"AdultData\".education AS \"AdultData_education\", \"AdultData\".education_num AS \"AdultData_education_num\", \"AdultData\".marital_status AS \"AdultData_marital_status\", \"AdultData\".occupation AS \"AdultData_occupation\", \"AdultData\".relationship AS \"AdultData_relationship\", \"AdultData\".race AS \"AdultData_race\", \"AdultData\".sex AS \"AdultData_sex\", \"AdultData\".capital_gain AS \"AdultData_capital_gain\", \"AdultData\".capital_loss AS \"AdultData_capital_loss\", \"AdultData\".hours_per_week AS \"AdultData_hours_per_week\", \"AdultData\".native_country AS \"AdultData_native_country\", \"AdultData\".classs AS \"AdultData_classs\" \n",
      "FROM \"AdultData\" \n",
      "WHERE \"AdultData\".id = ?\n",
      "2019-01-16 22:54:00,272 INFO sqlalchemy.engine.base.Engine (2,)\n",
      "2019-01-16 22:54:00,276 INFO sqlalchemy.engine.base.Engine SELECT \"AdultData\".id AS \"AdultData_id\", \"AdultData\".age AS \"AdultData_age\", \"AdultData\".work_class AS \"AdultData_work_class\", \"AdultData\".fnlwgt AS \"AdultData_fnlwgt\", \"AdultData\".education AS \"AdultData_education\", \"AdultData\".education_num AS \"AdultData_education_num\", \"AdultData\".marital_status AS \"AdultData_marital_status\", \"AdultData\".occupation AS \"AdultData_occupation\", \"AdultData\".relationship AS \"AdultData_relationship\", \"AdultData\".race AS \"AdultData_race\", \"AdultData\".sex AS \"AdultData_sex\", \"AdultData\".capital_gain AS \"AdultData_capital_gain\", \"AdultData\".capital_loss AS \"AdultData_capital_loss\", \"AdultData\".hours_per_week AS \"AdultData_hours_per_week\", \"AdultData\".native_country AS \"AdultData_native_country\", \"AdultData\".classs AS \"AdultData_classs\" \n",
      "FROM \"AdultData\" \n",
      "WHERE \"AdultData\".id = ?\n",
      "2019-01-16 22:54:00,277 INFO sqlalchemy.engine.base.Engine (16474,)\n",
      "2019-01-16 22:54:00,281 INFO sqlalchemy.engine.base.Engine SELECT \"AdultData\".id AS \"AdultData_id\", \"AdultData\".age AS \"AdultData_age\", \"AdultData\".work_class AS \"AdultData_work_class\", \"AdultData\".fnlwgt AS \"AdultData_fnlwgt\", \"AdultData\".education AS \"AdultData_education\", \"AdultData\".education_num AS \"AdultData_education_num\", \"AdultData\".marital_status AS \"AdultData_marital_status\", \"AdultData\".occupation AS \"AdultData_occupation\", \"AdultData\".relationship AS \"AdultData_relationship\", \"AdultData\".race AS \"AdultData_race\", \"AdultData\".sex AS \"AdultData_sex\", \"AdultData\".capital_gain AS \"AdultData_capital_gain\", \"AdultData\".capital_loss AS \"AdultData_capital_loss\", \"AdultData\".hours_per_week AS \"AdultData_hours_per_week\", \"AdultData\".native_country AS \"AdultData_native_country\", \"AdultData\".classs AS \"AdultData_classs\" \n",
      "FROM \"AdultData\" \n",
      "WHERE \"AdultData\".id = ?\n",
      "2019-01-16 22:54:00,283 INFO sqlalchemy.engine.base.Engine (13,)\n",
      "2019-01-16 22:54:00,285 INFO sqlalchemy.engine.base.Engine DELETE FROM \"AdultData\" WHERE \"AdultData\".id = ?\n",
      "2019-01-16 22:54:00,286 INFO sqlalchemy.engine.base.Engine ('12',)\n",
      "2019-01-16 22:54:00,288 INFO sqlalchemy.engine.base.Engine COMMIT\n"
     ]
    }
   ],
   "source": [
    "dell=session.query(Adultdt).filter_by(id='12').delete()\n",
    "session.commit()"
   ]
  },
  {
   "cell_type": "code",
   "execution_count": 294,
   "metadata": {},
   "outputs": [
    {
     "name": "stdout",
     "output_type": "stream",
     "text": [
      "2019-01-16 22:54:11,304 INFO sqlalchemy.engine.base.Engine SELECT \"AdultData\".id AS \"AdultData_id\", \"AdultData\".age AS \"AdultData_age\", \"AdultData\".work_class AS \"AdultData_work_class\", \"AdultData\".fnlwgt AS \"AdultData_fnlwgt\", \"AdultData\".education AS \"AdultData_education\", \"AdultData\".education_num AS \"AdultData_education_num\", \"AdultData\".marital_status AS \"AdultData_marital_status\", \"AdultData\".occupation AS \"AdultData_occupation\", \"AdultData\".relationship AS \"AdultData_relationship\", \"AdultData\".race AS \"AdultData_race\", \"AdultData\".sex AS \"AdultData_sex\", \"AdultData\".capital_gain AS \"AdultData_capital_gain\", \"AdultData\".capital_loss AS \"AdultData_capital_loss\", \"AdultData\".hours_per_week AS \"AdultData_hours_per_week\", \"AdultData\".native_country AS \"AdultData_native_country\", \"AdultData\".classs AS \"AdultData_classs\" \n",
      "FROM \"AdultData\" \n",
      "WHERE \"AdultData\".id = ? ORDER BY \"AdultData\".id\n",
      "2019-01-16 22:54:11,307 INFO sqlalchemy.engine.base.Engine ('12',)\n"
     ]
    },
    {
     "data": {
      "text/plain": [
       "[]"
      ]
     },
     "execution_count": 294,
     "metadata": {},
     "output_type": "execute_result"
    }
   ],
   "source": [
    "query4.all()"
   ]
  },
  {
   "cell_type": "code",
   "execution_count": 238,
   "metadata": {},
   "outputs": [],
   "source": [
    "query5=session.query(Adultdt).filter(id=='17')"
   ]
  },
  {
   "cell_type": "code",
   "execution_count": 239,
   "metadata": {},
   "outputs": [
    {
     "name": "stdout",
     "output_type": "stream",
     "text": [
      "2019-01-16 22:48:57,907 INFO sqlalchemy.engine.base.Engine SELECT \"AdultData\".id AS \"AdultData_id\", \"AdultData\".age AS \"AdultData_age\", \"AdultData\".work_class AS \"AdultData_work_class\", \"AdultData\".fnlwgt AS \"AdultData_fnlwgt\", \"AdultData\".education AS \"AdultData_education\", \"AdultData\".education_num AS \"AdultData_education_num\", \"AdultData\".marital_status AS \"AdultData_marital_status\", \"AdultData\".occupation AS \"AdultData_occupation\", \"AdultData\".relationship AS \"AdultData_relationship\", \"AdultData\".race AS \"AdultData_race\", \"AdultData\".sex AS \"AdultData_sex\", \"AdultData\".capital_gain AS \"AdultData_capital_gain\", \"AdultData\".capital_loss AS \"AdultData_capital_loss\", \"AdultData\".hours_per_week AS \"AdultData_hours_per_week\", \"AdultData\".native_country AS \"AdultData_native_country\", \"AdultData\".classs AS \"AdultData_classs\" \n",
      "FROM \"AdultData\" \n",
      "WHERE 0 = 1\n",
      " LIMIT ? OFFSET ?\n",
      "2019-01-16 22:48:57,908 INFO sqlalchemy.engine.base.Engine (1, 0)\n"
     ]
    }
   ],
   "source": [
    "query5.first()"
   ]
  },
  {
   "cell_type": "code",
   "execution_count": 240,
   "metadata": {},
   "outputs": [
    {
     "name": "stdout",
     "output_type": "stream",
     "text": [
      "2019-01-16 22:48:58,120 INFO sqlalchemy.engine.base.Engine DELETE FROM \"AdultData\" WHERE 0\n",
      "2019-01-16 22:48:58,122 INFO sqlalchemy.engine.base.Engine ()\n"
     ]
    }
   ],
   "source": [
    "del2=session.query(Adultdt).filter(id=='17').delete()\n"
   ]
  },
  {
   "cell_type": "code",
   "execution_count": 241,
   "metadata": {},
   "outputs": [
    {
     "name": "stdout",
     "output_type": "stream",
     "text": [
      "2019-01-16 22:48:59,693 INFO sqlalchemy.engine.base.Engine COMMIT\n"
     ]
    }
   ],
   "source": [
    "session.commit()"
   ]
  },
  {
   "cell_type": "code",
   "execution_count": 242,
   "metadata": {},
   "outputs": [
    {
     "name": "stdout",
     "output_type": "stream",
     "text": [
      "2019-01-16 22:48:59,914 INFO sqlalchemy.engine.base.Engine BEGIN (implicit)\n",
      "2019-01-16 22:48:59,917 INFO sqlalchemy.engine.base.Engine SELECT \"AdultData\".id AS \"AdultData_id\", \"AdultData\".age AS \"AdultData_age\", \"AdultData\".work_class AS \"AdultData_work_class\", \"AdultData\".fnlwgt AS \"AdultData_fnlwgt\", \"AdultData\".education AS \"AdultData_education\", \"AdultData\".education_num AS \"AdultData_education_num\", \"AdultData\".marital_status AS \"AdultData_marital_status\", \"AdultData\".occupation AS \"AdultData_occupation\", \"AdultData\".relationship AS \"AdultData_relationship\", \"AdultData\".race AS \"AdultData_race\", \"AdultData\".sex AS \"AdultData_sex\", \"AdultData\".capital_gain AS \"AdultData_capital_gain\", \"AdultData\".capital_loss AS \"AdultData_capital_loss\", \"AdultData\".hours_per_week AS \"AdultData_hours_per_week\", \"AdultData\".native_country AS \"AdultData_native_country\", \"AdultData\".classs AS \"AdultData_classs\" \n",
      "FROM \"AdultData\" \n",
      "WHERE 0 = 1\n",
      "2019-01-16 22:48:59,920 INFO sqlalchemy.engine.base.Engine ()\n"
     ]
    },
    {
     "data": {
      "text/plain": [
       "[]"
      ]
     },
     "execution_count": 242,
     "metadata": {},
     "output_type": "execute_result"
    }
   ],
   "source": [
    "query5.all()"
   ]
  },
  {
   "cell_type": "markdown",
   "metadata": {},
   "source": [
    "4. Write two filter queries"
   ]
  },
  {
   "cell_type": "code",
   "execution_count": 243,
   "metadata": {},
   "outputs": [],
   "source": [
    "query = session.query(Adultdt).filter(Adultdt.relationship==' Husband').order_by(Adultdt.id)"
   ]
  },
  {
   "cell_type": "code",
   "execution_count": 244,
   "metadata": {},
   "outputs": [
    {
     "name": "stdout",
     "output_type": "stream",
     "text": [
      "2019-01-16 22:49:06,275 INFO sqlalchemy.engine.base.Engine SELECT \"AdultData\".id AS \"AdultData_id\", \"AdultData\".age AS \"AdultData_age\", \"AdultData\".work_class AS \"AdultData_work_class\", \"AdultData\".fnlwgt AS \"AdultData_fnlwgt\", \"AdultData\".education AS \"AdultData_education\", \"AdultData\".education_num AS \"AdultData_education_num\", \"AdultData\".marital_status AS \"AdultData_marital_status\", \"AdultData\".occupation AS \"AdultData_occupation\", \"AdultData\".relationship AS \"AdultData_relationship\", \"AdultData\".race AS \"AdultData_race\", \"AdultData\".sex AS \"AdultData_sex\", \"AdultData\".capital_gain AS \"AdultData_capital_gain\", \"AdultData\".capital_loss AS \"AdultData_capital_loss\", \"AdultData\".hours_per_week AS \"AdultData_hours_per_week\", \"AdultData\".native_country AS \"AdultData_native_country\", \"AdultData\".classs AS \"AdultData_classs\" \n",
      "FROM \"AdultData\" \n",
      "WHERE \"AdultData\".relationship = ? ORDER BY \"AdultData\".id\n",
      " LIMIT ? OFFSET ?\n",
      "2019-01-16 22:49:06,277 INFO sqlalchemy.engine.base.Engine (' Husband', 1, 0)\n"
     ]
    },
    {
     "data": {
      "text/plain": [
       "<AdultData(id='1', age='50', work_class=' Self-emp-not-inc', fnlwgt='83311', education=' Bachelors', education_num='13',marital_status=' Married-civ-spouse', occupation=' Exec-managerial', relationship=' Husband', race=' White',sex=' Male',capital_gain='0', capital_loss='0',hours_per_week='13', native_country=' United-States', classs=' <=50K')>"
      ]
     },
     "execution_count": 244,
     "metadata": {},
     "output_type": "execute_result"
    }
   ],
   "source": [
    "query.first()"
   ]
  },
  {
   "cell_type": "code",
   "execution_count": 245,
   "metadata": {},
   "outputs": [
    {
     "name": "stdout",
     "output_type": "stream",
     "text": [
      "2019-01-16 22:49:07,579 INFO sqlalchemy.engine.base.Engine SELECT \"AdultData\".id AS \"AdultData_id\", \"AdultData\".age AS \"AdultData_age\", \"AdultData\".work_class AS \"AdultData_work_class\", \"AdultData\".fnlwgt AS \"AdultData_fnlwgt\", \"AdultData\".education AS \"AdultData_education\", \"AdultData\".education_num AS \"AdultData_education_num\", \"AdultData\".marital_status AS \"AdultData_marital_status\", \"AdultData\".occupation AS \"AdultData_occupation\", \"AdultData\".relationship AS \"AdultData_relationship\", \"AdultData\".race AS \"AdultData_race\", \"AdultData\".sex AS \"AdultData_sex\", \"AdultData\".capital_gain AS \"AdultData_capital_gain\", \"AdultData\".capital_loss AS \"AdultData_capital_loss\", \"AdultData\".hours_per_week AS \"AdultData_hours_per_week\", \"AdultData\".native_country AS \"AdultData_native_country\", \"AdultData\".classs AS \"AdultData_classs\" \n",
      "FROM \"AdultData\" \n",
      "WHERE \"AdultData\".fnlwgt IN (?, ?)\n",
      "2019-01-16 22:49:07,581 INFO sqlalchemy.engine.base.Engine ('83311', '215646')\n"
     ]
    },
    {
     "data": {
      "text/plain": [
       "[<AdultData(id='1', age='50', work_class=' Self-emp-not-inc', fnlwgt='83311', education=' Bachelors', education_num='13',marital_status=' Married-civ-spouse', occupation=' Exec-managerial', relationship=' Husband', race=' White',sex=' Male',capital_gain='0', capital_loss='0',hours_per_week='13', native_country=' United-States', classs=' <=50K')>,\n",
       " <AdultData(id='2', age='38', work_class=' Private', fnlwgt='215646', education=' HS-grad', education_num='9',marital_status=' Divorced', occupation=' Handlers-cleaners', relationship=' Not-in-family', race=' White',sex=' Male',capital_gain='0', capital_loss='0',hours_per_week='40', native_country=' United-States', classs=' <=50K')>,\n",
       " <AdultData(id='16474', age='54', work_class=' Self-emp-not-inc', fnlwgt='83311', education=' Prof-school', education_num='15',marital_status=' Married-civ-spouse', occupation=' Prof-specialty', relationship=' Husband', race=' White',sex=' Male',capital_gain='0', capital_loss='0',hours_per_week='30', native_country=' United-States', classs=' >50K')>]"
      ]
     },
     "execution_count": 245,
     "metadata": {},
     "output_type": "execute_result"
    }
   ],
   "source": [
    "session.query(Adultdt).filter(Adultdt.fnlwgt.in_(['83311', '215646'])).all()"
   ]
  },
  {
   "cell_type": "markdown",
   "metadata": {},
   "source": [
    "5. Write two function queries"
   ]
  },
  {
   "cell_type": "code",
   "execution_count": 246,
   "metadata": {},
   "outputs": [],
   "source": [
    "from sqlalchemy import func"
   ]
  },
  {
   "cell_type": "code",
   "execution_count": 247,
   "metadata": {},
   "outputs": [
    {
     "name": "stdout",
     "output_type": "stream",
     "text": [
      "2019-01-16 22:49:09,704 INFO sqlalchemy.engine.base.Engine SELECT count(?) AS count_1 \n",
      "FROM \"AdultData\"\n",
      "2019-01-16 22:49:09,705 INFO sqlalchemy.engine.base.Engine ('*',)\n"
     ]
    },
    {
     "data": {
      "text/plain": [
       "32560"
      ]
     },
     "execution_count": 247,
     "metadata": {},
     "output_type": "execute_result"
    }
   ],
   "source": [
    "session.query(func.count('*')).select_from(Adultdt).scalar()"
   ]
  },
  {
   "cell_type": "code",
   "execution_count": 248,
   "metadata": {},
   "outputs": [
    {
     "name": "stdout",
     "output_type": "stream",
     "text": [
      "2019-01-16 22:49:10,484 INFO sqlalchemy.engine.base.Engine SELECT count(\"AdultData\".id) AS count_1, \"AdultData\".education AS \"AdultData_education\" \n",
      "FROM \"AdultData\" GROUP BY \"AdultData\".education\n",
      "2019-01-16 22:49:10,487 INFO sqlalchemy.engine.base.Engine ()\n"
     ]
    },
    {
     "data": {
      "text/plain": [
       "[(933, ' 10th'),\n",
       " (1175, ' 11th'),\n",
       " (433, ' 12th'),\n",
       " (168, ' 1st-4th'),\n",
       " (333, ' 5th-6th'),\n",
       " (646, ' 7th-8th'),\n",
       " (514, ' 9th'),\n",
       " (1067, ' Assoc-acdm'),\n",
       " (1382, ' Assoc-voc'),\n",
       " (5354, ' Bachelors'),\n",
       " (413, ' Doctorate'),\n",
       " (10501, ' HS-grad'),\n",
       " (1723, ' Masters'),\n",
       " (51, ' Preschool'),\n",
       " (576, ' Prof-school'),\n",
       " (7291, ' Some-college')]"
      ]
     },
     "execution_count": 248,
     "metadata": {},
     "output_type": "execute_result"
    }
   ],
   "source": [
    "session.query(func.count(Adultdt.id), Adultdt.education).group_by(Adultdt.education).all()"
   ]
  },
  {
   "cell_type": "code",
   "execution_count": null,
   "metadata": {},
   "outputs": [],
   "source": []
  }
 ],
 "metadata": {
  "kernelspec": {
   "display_name": "Python 3",
   "language": "python",
   "name": "python3"
  },
  "language_info": {
   "codemirror_mode": {
    "name": "ipython",
    "version": 3
   },
   "file_extension": ".py",
   "mimetype": "text/x-python",
   "name": "python",
   "nbconvert_exporter": "python",
   "pygments_lexer": "ipython3",
   "version": "3.7.0"
  }
 },
 "nbformat": 4,
 "nbformat_minor": 2
}
